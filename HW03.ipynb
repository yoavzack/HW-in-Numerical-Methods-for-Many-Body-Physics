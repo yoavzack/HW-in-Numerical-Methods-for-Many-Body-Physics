{
 "cells": [
  {
   "cell_type": "markdown",
   "id": "5f21cbb8-5924-48ff-9911-c92d64984ac0",
   "metadata": {},
   "source": [
    "# Numerical Methods for Manu Body Physics, Assignment #3"
   ]
  },
  {
   "cell_type": "markdown",
   "id": "bdb36b47-7686-4afc-9e7e-63e881b63d13",
   "metadata": {},
   "source": [
    "Yoav Zack, ID 211677398"
   ]
  },
  {
   "cell_type": "code",
   "execution_count": null,
   "id": "4be4945d-0038-4194-bdcb-852a79274f36",
   "metadata": {},
   "outputs": [],
   "source": [
    "using LinearAlgebra\n",
    "using ITensors\n",
    "using Statistics\n",
    "using Plots\n",
    "using LsqFit\n",
    "using Printf\n",
    "theme(:dracula)\n",
    "\n",
    "ITensors.enable_debug_checks()"
   ]
  },
  {
   "cell_type": "markdown",
   "id": "521c681b-d13a-420b-a4ae-f1e012aa0bd7",
   "metadata": {},
   "source": [
    "## Question 1: $J_1 - J_2$ Spin-1/2 Chain"
   ]
  },
  {
   "cell_type": "markdown",
   "id": "811c7e0f-b2af-4ecd-b78d-7891a23719dc",
   "metadata": {},
   "source": [
    "We will use the `ITensors.jl` library to generate a Heisenberg Hamiltonian with general finite $J_1,J_2$ terms:"
   ]
  },
  {
   "cell_type": "code",
   "execution_count": null,
   "id": "f15b164f-c883-47ab-ae7d-4b0d9f57dbc1",
   "metadata": {},
   "outputs": [],
   "source": [
    "function heisenbergH(sites, g::Real)\n",
    "    N = length(sites)\n",
    "    \n",
    "    os = OpSum()\n",
    "    for j in 1:N-2\n",
    "        os += 1/2,\"S+\",j,\"S-\",j+1\n",
    "        os += 1/2,\"S-\",j,\"S+\",j+1\n",
    "        os += \"Sz\",j,\"Sz\",j+1\n",
    "        \n",
    "        os += 1/2*g,\"S+\",j,\"S-\",j+2\n",
    "        os += 1/2*g,\"S-\",j,\"S+\",j+2\n",
    "        os += g,\"Sz\",j,\"Sz\",j+2\n",
    "    end\n",
    "    os += 1/2,\"S+\",N-1,\"S-\",N\n",
    "    os += 1/2,\"S-\",N-1,\"S+\",N\n",
    "    os += \"Sz\",N-1,\"Sz\",N\n",
    "    \n",
    "    H = MPO(os, sites)\n",
    "    return H\n",
    "end"
   ]
  },
  {
   "cell_type": "markdown",
   "id": "8d4a9ff7-fb45-4de7-81d2-c50f308113d5",
   "metadata": {},
   "source": [
    "We will use the DMRG method on this Hamiltonian to get the ground state and the 1st excited state. We will loop over system sizes, for each defining \n",
    "`sitetinds` object and the Hamiltonian, and for each finding the energy of the ground state with $S_z=0$ and 1st excited state with $S_z=1$:"
   ]
  },
  {
   "cell_type": "code",
   "execution_count": null,
   "id": "8316d459-5c01-4563-87ef-ed0cce6df9f9",
   "metadata": {},
   "outputs": [],
   "source": [
    "gc = 0.241\n",
    "glist = [0.1, 0.2, 0.45, 0.49]\n",
    "Nlist = 2 .^ (3:7)\n",
    "\n",
    "dimg = length(glist)\n",
    "dimN = length(Nlist)\n",
    "dimTotal = dimg * dimN\n",
    "@show dimg, dimN, dimTotal\n",
    "\n",
    "nsweeps = 5\n",
    "cutoff = [1E-10]\n",
    "maxM = maximum(Nlist)\n",
    "\n",
    "E0arr = zeros(length(glist), length(Nlist))\n",
    "E1arr = zeros(length(glist), length(Nlist))\n",
    "\n",
    "psi0list = Array{Any}(undef, length(glist), length(Nlist))\n",
    "psi1list = Array{Any}(undef, length(glist), length(Nlist))\n",
    "\n",
    "Threads.@threads for ind in range(1, length=dimTotal)\n",
    "    gind = mod(ind-1, dimg) + 1\n",
    "    Nind = Int((ind - gind) / dimg+1)\n",
    "    g = glist[gind]\n",
    "    N = Nlist[Nind]\n",
    "    \n",
    "    sites = siteinds(\"S=1/2\", N; conserve_qns=true)\n",
    "    H = heisenbergH(sites, g);\n",
    "\n",
    "    state = [isodd(n) ? \"Up\" : \"Dn\" for n=1:N]\n",
    "    psi0 = MPS(sites,state);\n",
    "    state[2] = \"Up\"\n",
    "    psi1 = MPS(sites,state);\n",
    "\n",
    "    E0arr[gind, Nind], psi0list[gind, Nind] = dmrg(H,psi0; nsweeps=nsweeps, cutoff=cutoff, maxdim=maxM, outputlevel=0);\n",
    "    E1arr[gind, Nind], psi1list[gind, Nind] = dmrg(H,psi1; nsweeps=nsweeps, cutoff=cutoff, maxdim=maxM, outputlevel=0);\n",
    "\n",
    "    @show g, N\n",
    "end"
   ]
  },
  {
   "cell_type": "markdown",
   "id": "e44181eb-1acb-4a55-840b-298754fac177",
   "metadata": {},
   "source": [
    "To verify the expected behaviour, we will fit a parabolic relation to the gap:"
   ]
  },
  {
   "cell_type": "code",
   "execution_count": null,
   "id": "c232215e-738f-45f6-a048-72abe065f058",
   "metadata": {},
   "outputs": [],
   "source": [
    "@. parabola_model(x, a) = a[1] * x^2 + a[2]\n",
    "@. linear_model(x, a) = a[1] * x + a[2]\n",
    "x = 1 ./ Nlist\n",
    "xh = LinRange(0, 1.1/minimum(Nlist), 100)\n",
    "\n",
    "intercept = []\n",
    "\n",
    "plt = plot()\n",
    "for (gind, g) in enumerate(glist)\n",
    "    y = E1arr[gind,:] .- E0arr[gind,:]\n",
    "    model = (g>gc) ? parabola_model : linear_model\n",
    "    fitobj = curve_fit(model, x, y, [1.0, 0.0])\n",
    "    @show coef(fitobj)\n",
    "    scatter!(x, y, label=@sprintf(\"g = %1.3f\", g), color=palette(:default)[gind])\n",
    "    plot!(xh, model(xh, coef(fitobj)), label=nothing, color=palette(:default)[gind])\n",
    "    push!(intercept, coef(fitobj)[1])\n",
    "end\n",
    "plot!(xlims=(0, Inf), ylims=(0, Inf))\n",
    "xlabel!(\"1/N\")\n",
    "ylabel!(\"ΔE\")"
   ]
  },
  {
   "cell_type": "markdown",
   "id": "28fc812f-0484-40e1-84de-f9869199c19f",
   "metadata": {},
   "source": [
    "And we can clearly see that for $g<g_c$ the system's gap goes to 0 at $N\\to \\infty$, but for $g>g_c$ the system is gapped even in $N\\to\\infty$. Now we will calculate the correlations for different values of $g$ in the longest chain we checked before:"
   ]
  },
  {
   "cell_type": "code",
   "execution_count": null,
   "id": "8ee7c0e4-b963-4d6a-851a-7e4076f4d21d",
   "metadata": {},
   "outputs": [],
   "source": [
    "ps = []\n",
    "corr = []\n",
    "for (gind, g) in enumerate(glist)\n",
    "    xmax = Int(maximum(Nlist)/2)\n",
    "    x = 1:xmax\n",
    "    x = (g<gc) ? log.(x) : x\n",
    "    y = log.(abs.(correlation_matrix(psi0list[gind, length(Nlist)],\"Sz\",\"Sz\")[1:xmax,1]))\n",
    "    push!(corr, y)\n",
    "    p = plot(x, corr[gind], label=@sprintf(\"g=%.2f\",g), ylabel=\"log[corr]\", xlabel=(g<gc) ? \"Log[Distance]\" : \"Distance\")\n",
    "    push!(ps, p)\n",
    "end\n",
    "plot(ps..., plot_title=\"Sz-Sz Correlations at Ground State\")"
   ]
  },
  {
   "cell_type": "markdown",
   "id": "0bd44758-e09b-4b84-9bfd-cf67e55ec0f8",
   "metadata": {},
   "source": [
    "And as expected the $g<g_c$ cases are linear in a log-log plot (i.e. they are power laws) while the cases for $g>g_c$ are linear in a semilog-y plot (i.e. they decay exponentially). We will estimate the power of the power laws and the correlation length of the exponential laws using linear fits:"
   ]
  },
  {
   "cell_type": "code",
   "execution_count": null,
   "id": "6e268b73-5f59-44ab-93b5-58dde2c79884",
   "metadata": {},
   "outputs": [],
   "source": [
    "for (gind, g) in enumerate(glist)\n",
    "    if ps[gind].n > 1\n",
    "        continue # already plotted fit\n",
    "    end\n",
    "    y = corr[gind]\n",
    "    x = 1:length(y)\n",
    "    x = (g<gc) ? log.(x) : x # fix x axis for power laws or exponential decay\n",
    "    fitobj = curve_fit(linear_model, x, y, [1.0, 0.0])\n",
    "    fit_label = (g<gc) ? @sprintf(\"α=%.2f\", coef(fitobj)[1]) : @sprintf(\"ζ=%.2f\", 1.0/coef(fitobj)[1])\n",
    "    p = plot(ps[gind], x, linear_model(x, coef(fitobj)), label=fit_label, ylabel=\"log[corr]\", xlabel=(g<gc) ? \"Log[Distance]\" : \"Distance\")\n",
    "    ps[gind] = p\n",
    "end\n",
    "plot(ps..., plot_title=\"Linear Fit to Correlation Decay\")"
   ]
  },
  {
   "cell_type": "markdown",
   "id": "2d22e331-182b-4156-a2b2-3e697978a8ee",
   "metadata": {},
   "source": [
    "So we see that both $\\alpha$ and $\\zeta$ are both of the order f unity, but $\\zeta$ changes a lot faster when changing the value of $g$. Also, from testing we know that the value of $\\alpha$ and $\\zeta$ changes as a function of $N$ also. "
   ]
  },
  {
   "cell_type": "markdown",
   "id": "854d19c3-8639-43a3-81d6-b1fe8e3445a5",
   "metadata": {},
   "source": [
    "# Spin-1 chain - Haldane gap"
   ]
  },
  {
   "cell_type": "markdown",
   "id": "ed8019fd-f59a-49d1-96d4-7e840d674842",
   "metadata": {},
   "source": [
    "To start this question, we will define the Hamiltonian of the spin-1 bilinear-biquadtatic model:"
   ]
  },
  {
   "cell_type": "code",
   "execution_count": null,
   "id": "c52d8b26-7b4b-4d79-8355-60d526831453",
   "metadata": {},
   "outputs": [],
   "source": [
    "function bilinH(sites, g::Real)\n",
    "    N = length(sites)\n",
    "    \n",
    "    os = OpSum()\n",
    "    for j in 1:N-1\n",
    "        single_os = OpSum()\n",
    "        single_os += 1/2,\"S+\",j,\"S-\",j+1\n",
    "        single_os += 1/2,\"S-\",j,\"S+\",j+1\n",
    "        single_os += \"Sz\",j,\"Sz\",j+1\n",
    "\n",
    "        os += single_os\n",
    "        os += g*Ops.expand(single_os^2)\n",
    "    end\n",
    "    \n",
    "    H = MPO(os, sites)\n",
    "    return H\n",
    "end"
   ]
  },
  {
   "cell_type": "markdown",
   "id": "970bbfd4-4e79-4d67-b63b-7d4705ec99fc",
   "metadata": {},
   "source": [
    "We will use this to perform the finite-size scaling of the energy gap between the $S_z = 0$ ground state to the $S_z =2$ lowest state and the $S_z = 1$ lowest state:"
   ]
  },
  {
   "cell_type": "code",
   "execution_count": null,
   "id": "a1d98377-c067-45b4-8e85-c108fb793ced",
   "metadata": {},
   "outputs": [],
   "source": [
    "glist = 1/3 .* [0, 1/3, 2/3, 1]\n",
    "Nlist = 2 .^ (3:6)\n",
    "\n",
    "dimg = length(glist)\n",
    "dimN = length(Nlist)\n",
    "dimTotal = dimg * dimN\n",
    "@show dimg, dimN, dimTotal\n",
    "\n",
    "nsweeps = 30\n",
    "cutoff = [1E-6]\n",
    "maxM = 10\n",
    "\n",
    "E0arr = zeros(length(glist), length(Nlist))\n",
    "E2arr = zeros(length(glist), length(Nlist))\n",
    "\n",
    "psi0list = Array{Any}(undef, length(glist), length(Nlist))\n",
    "psi2list = Array{Any}(undef, length(glist), length(Nlist))\n",
    "\n",
    "Threads.@threads for ind in range(start=dimTotal, stop=1, length=dimTotal)\n",
    "    ind = Int(ind)\n",
    "    gind = mod(ind-1, dimg) + 1\n",
    "    Nind = Int((ind - gind) / dimg+1)\n",
    "    g = glist[gind]\n",
    "    N = Nlist[Nind]\n",
    "    @show g, N\n",
    "    \n",
    "    sites = siteinds(\"S=1\", N; conserve_qns=true)\n",
    "    H = bilinH(sites, g);\n",
    "\n",
    "    state = [isodd(n) ? \"Up\" : \"Dn\" for n=1:N]\n",
    "    psi0 = MPS(sites,state);\n",
    "    state[2] = \"0\"\n",
    "    state[4] = \"0\"\n",
    "    psi2 = MPS(sites,state);\n",
    "\n",
    "    E0arr[gind, Nind], psi0list[gind, Nind] = dmrg(H,psi0; nsweeps=nsweeps, cutoff=cutoff, maxdim=maxM, outputlevel=0);\n",
    "    E2arr[gind, Nind], psi2list[gind, Nind] = dmrg(H,psi2; nsweeps=nsweeps, cutoff=cutoff, maxdim=maxM, outputlevel=0);\n",
    "end"
   ]
  },
  {
   "cell_type": "markdown",
   "id": "3d116e0a-d3d9-4375-918a-9f8a8e32c491",
   "metadata": {},
   "source": [
    "First let's plot the gap to the the $S_z =2$ and see that it it indeed non-vanishing in the thermodynamic limit:"
   ]
  },
  {
   "cell_type": "code",
   "execution_count": null,
   "id": "82bf654f-276d-49ff-96bf-5c7bb73d56e9",
   "metadata": {},
   "outputs": [],
   "source": [
    "@. linear_model(x, a) = a[1] * x + a[2]\n",
    "x = 1 ./ Nlist\n",
    "xh = LinRange(0, 1.1/minimum(Nlist), 100)\n",
    "\n",
    "intercept = []\n",
    "\n",
    "plt = plot()\n",
    "for (gind, g) in enumerate(glist)\n",
    "    y = E2arr[gind,:] .- E0arr[gind,:]\n",
    "    fitobj = curve_fit(linear_model, x, y, [1.0, 0.0])\n",
    "    scatter!(x, y, label=@sprintf(\"g = %1.3f\", g), color=palette(:default)[gind])\n",
    "    plot!(xh, linear_model(xh, coef(fitobj)), label=nothing, color=palette(:default)[gind])\n",
    "    push!(intercept, coef(fitobj)[2])\n",
    "end\n",
    "plot!(xlims=(0, Inf), ylims=(0, Inf), xlabel=\"1/N\", ylabel=\"Energy Gap\")"
   ]
  },
  {
   "cell_type": "markdown",
   "id": "1ee6b620-c77a-41ac-a45e-adce9b967d02",
   "metadata": {},
   "source": [
    "the linear fits approximate the function well, and the intercepts (i.e. the gaps at the thermodynamic limit) are:"
   ]
  },
  {
   "cell_type": "code",
   "execution_count": null,
   "id": "b7f67fc0-7049-4570-8d15-2fa77ee78dda",
   "metadata": {},
   "outputs": [],
   "source": [
    "for (g, i) in  zip(glist, intercept)\n",
    "    @printf(\"At g=%.3f, ΔE=%.1f\\n\", g, i)\n",
    "end"
   ]
  },
  {
   "cell_type": "markdown",
   "id": "b769b007-1de1-415c-a7de-3905d959a42c",
   "metadata": {},
   "source": [
    "Which are indeed non-zero."
   ]
  },
  {
   "cell_type": "markdown",
   "id": "d84fde82-1858-470e-abe8-dd959688c551",
   "metadata": {},
   "source": [
    "Now we turn to the gap to the $S_z =1$ space:"
   ]
  },
  {
   "cell_type": "code",
   "execution_count": null,
   "id": "756d7000-91e6-400f-9857-921a89eb1f1c",
   "metadata": {},
   "outputs": [],
   "source": [
    "E1arr = zeros(length(glist), length(Nlist))\n",
    "psi1list = Array{Any}(undef, length(glist), length(Nlist))\n",
    "\n",
    "nsweeps = 60\n",
    "cutoff = [1E-8]\n",
    "maxM = 10\n",
    "\n",
    "Threads.@threads for ind in range(start=dimTotal, stop=1, length=dimTotal)\n",
    "    ind = Int(ind)\n",
    "    gind = mod(ind-1, dimg) + 1\n",
    "    Nind = Int((ind - gind) / dimg+1)\n",
    "    g = glist[gind]\n",
    "    N = Nlist[Nind]\n",
    "    @show g, N\n",
    "    \n",
    "    sites = siteinds(\"S=1\", N; conserve_qns=true)\n",
    "    H = bilinH(sites, g);\n",
    "\n",
    "    state = [isodd(n) ? \"Up\" : \"Dn\" for n=1:N]\n",
    "    state[2] = \"0\"\n",
    "    psi1 = MPS(sites,state);\n",
    "\n",
    "    E1arr[gind, Nind], psi1list[gind, Nind] = dmrg(H,psi1; nsweeps=nsweeps, cutoff=cutoff, maxdim=maxM, outputlevel=0);\n",
    "end"
   ]
  },
  {
   "cell_type": "code",
   "execution_count": null,
   "id": "d24020be-335d-468b-972f-87d9e5faa64c",
   "metadata": {},
   "outputs": [],
   "source": [
    "plot((expect(psi0list[end, end], \"Sz\")))"
   ]
  },
  {
   "cell_type": "code",
   "execution_count": null,
   "id": "285f948f-56b4-42af-80be-db3e41ef6990",
   "metadata": {},
   "outputs": [],
   "source": []
  }
 ],
 "metadata": {
  "kernelspec": {
   "display_name": "Julia (8 threads) 1.10.0",
   "language": "julia",
   "name": "julia-_8-threads_-1.10"
  },
  "language_info": {
   "file_extension": ".jl",
   "mimetype": "application/julia",
   "name": "julia",
   "version": "1.10.0"
  }
 },
 "nbformat": 4,
 "nbformat_minor": 5
}
