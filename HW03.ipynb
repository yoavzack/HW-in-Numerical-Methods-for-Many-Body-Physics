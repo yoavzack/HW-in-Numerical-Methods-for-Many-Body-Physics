{
 "cells": [
  {
   "cell_type": "markdown",
   "id": "5f21cbb8-5924-48ff-9911-c92d64984ac0",
   "metadata": {},
   "source": [
    "# Numerical Methods for Manu Body Physics, Assignment #3"
   ]
  },
  {
   "cell_type": "markdown",
   "id": "bdb36b47-7686-4afc-9e7e-63e881b63d13",
   "metadata": {},
   "source": [
    "Yoav Zack, ID 211677398"
   ]
  },
  {
   "cell_type": "code",
   "execution_count": null,
   "id": "4be4945d-0038-4194-bdcb-852a79274f36",
   "metadata": {},
   "outputs": [],
   "source": [
    "using LinearAlgebra\n",
    "using ITensors\n",
    "using Statistics\n",
    "using Plots\n",
    "using LsqFit\n",
    "using Printf\n",
    "theme(:dracula)\n",
    "\n",
    "ITensors.enable_debug_checks()"
   ]
  },
  {
   "cell_type": "code",
   "execution_count": null,
   "id": "53ac37e1-1b3a-41e3-9352-669b236d67d2",
   "metadata": {},
   "outputs": [],
   "source": [
    "using Base.Threads\n",
    "\n",
    "const print_lock = SpinLock()\n",
    "const prints_pending = Vector{String}()\n",
    "function tprintln(str)\n",
    "\ttid= Threads.threadid()\n",
    "\tstr = \"[Thread $tid]: \" * string(str)\n",
    "\tlock(print_lock) do\n",
    "\t\tpush!(prints_pending, str)\n",
    "\t\tif tid == 1 # Only first thread is allows to print\n",
    "\t\t\tprintln.(prints_pending)\n",
    "\t\t\tempty!(prints_pending)\n",
    "\t\tend\n",
    "\tend\n",
    "end"
   ]
  },
  {
   "cell_type": "markdown",
   "id": "521c681b-d13a-420b-a4ae-f1e012aa0bd7",
   "metadata": {},
   "source": [
    "## Question 1: $J_1 - J_2$ Spin-1/2 Chain"
   ]
  },
  {
   "cell_type": "markdown",
   "id": "811c7e0f-b2af-4ecd-b78d-7891a23719dc",
   "metadata": {},
   "source": [
    "We will use the `ITensors.jl` library to generate a Heisenberg Hamiltonian with general finite $J_1,J_2$ terms:"
   ]
  },
  {
   "cell_type": "code",
   "execution_count": null,
   "id": "f15b164f-c883-47ab-ae7d-4b0d9f57dbc1",
   "metadata": {},
   "outputs": [],
   "source": [
    "function heisenbergH(sites, g::Real)\n",
    "    N = length(sites)\n",
    "    \n",
    "    os = OpSum()\n",
    "    for j in 1:N\n",
    "        os += 1/2,\"S+\",j,\"S-\",mod(j,N)+1\n",
    "        os += 1/2,\"S-\",j,\"S+\",mod(j,N)+1\n",
    "        os += \"Sz\",j,\"Sz\",mod(j,N)+1\n",
    "        \n",
    "        os += 1/2*g,\"S+\",j,\"S-\",mod(mod(j,N)+1,N)+1\n",
    "        os += 1/2*g,\"S-\",j,\"S+\",mod(mod(j,N)+1,N)+1\n",
    "        os += g,\"Sz\",j,\"Sz\",mod(mod(j,N)+1,N)+1\n",
    "    end\n",
    "    \n",
    "    H = MPO(os, sites)\n",
    "    return H\n",
    "end"
   ]
  },
  {
   "cell_type": "markdown",
   "id": "8d4a9ff7-fb45-4de7-81d2-c50f308113d5",
   "metadata": {},
   "source": [
    "We will use the DMRG method on this Hamiltonian to get the ground state and the 1st excited state. We will loop over system sizes, for each defining \n",
    "`sitetinds` object and the Hamiltonian, and for each finding the energy of the ground state with $S_z=0$ and 1st excited state with $S_z=1$:"
   ]
  },
  {
   "cell_type": "code",
   "execution_count": null,
   "id": "0972a9d4-8173-4004-baee-75f6c52d5874",
   "metadata": {},
   "outputs": [],
   "source": [
    "glist = [0.1, 0.2, 0.45, 0.48]\n",
    "Nlist = 2 .^ (3:7)\n",
    "\n",
    "nsweeps = 10\n",
    "cutoff = [1E-8]\n",
    "maxM = maximum(Nlist)\n",
    "\n",
    "E0arr = zeros(length(glist), length(Nlist))\n",
    "E1arr = zeros(length(glist), length(Nlist))\n",
    "\n",
    "Threads.@threads for gind in 1:length(glist)\n",
    "    g = glist[gind]\n",
    "    for (Nind, N) in enumerate(Nlist)\n",
    "        tprintln(string(g) * \" \" * string(N))\n",
    "        J1 = 1.0\n",
    "        J2 = g * J1\n",
    "        \n",
    "        sites = siteinds(\"S=1/2\", N; conserve_qns=true)\n",
    "        H = heisenbergH(sites, g);\n",
    "    \n",
    "        state = [isodd(n) ? \"Up\" : \"Dn\" for n=1:N]\n",
    "        psi0 = MPS(sites,state);\n",
    "        state[2] = \"Up\"\n",
    "        psi1 = MPS(sites,state);\n",
    "    \n",
    "        E0arr[gind, Nind], psi_ground_1 = dmrg(H,psi0; nsweeps=nsweeps, cutoff=cutoff, maxdim=maxM, outputlevel=0);\n",
    "        E1arr[gind, Nind], psi_ground_0 = dmrg(H,psi1; nsweeps=nsweeps, cutoff=cutoff, maxdim=maxM, outputlevel=0);\n",
    "    end\n",
    "end"
   ]
  },
  {
   "cell_type": "code",
   "execution_count": null,
   "id": "c232215e-738f-45f6-a048-72abe065f058",
   "metadata": {},
   "outputs": [],
   "source": [
    "plot()\n",
    "for (gind, g) in enumerate(glist)\n",
    "    plot!(Nlist, E1arr[gind,:] .- E0arr[gind,:], label=@sprintf(\"g=%.2f\",g), marker=:circle)\n",
    "end\n",
    "plot!(xlabel=\"System Size\", ylabel=\"Energy Difference\", xaxis=:log)"
   ]
  },
  {
   "cell_type": "code",
   "execution_count": null,
   "id": "8f5994bf-160c-4d08-b882-b3fb923f498b",
   "metadata": {},
   "outputs": [],
   "source": [
    "tprintln(string(g) * \" \" * string(N))"
   ]
  },
  {
   "cell_type": "code",
   "execution_count": null,
   "id": "65cc5b0f-7052-4276-a2ff-611d3da1dda8",
   "metadata": {},
   "outputs": [],
   "source": []
  }
 ],
 "metadata": {
  "kernelspec": {
   "display_name": "Julia_4_threads 1.10.1",
   "language": "julia",
   "name": "julia_4_threads-1.10"
  },
  "language_info": {
   "file_extension": ".jl",
   "mimetype": "application/julia",
   "name": "julia",
   "version": "1.10.1"
  }
 },
 "nbformat": 4,
 "nbformat_minor": 5
}
