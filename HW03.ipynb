{
 "cells": [
  {
   "cell_type": "markdown",
   "id": "5f21cbb8-5924-48ff-9911-c92d64984ac0",
   "metadata": {},
   "source": [
    "# Numerical Methods for Manu Body Physics, Assignment #3"
   ]
  },
  {
   "cell_type": "markdown",
   "id": "bdb36b47-7686-4afc-9e7e-63e881b63d13",
   "metadata": {},
   "source": [
    "Yoav Zack, ID 211677398"
   ]
  },
  {
   "cell_type": "code",
   "execution_count": null,
   "id": "4be4945d-0038-4194-bdcb-852a79274f36",
   "metadata": {},
   "outputs": [],
   "source": [
    "using LinearAlgebra\n",
    "using ITensors\n",
    "using Statistics\n",
    "using Plots\n",
    "using LsqFit\n",
    "using Printf\n",
    "theme(:dracula)\n",
    "\n",
    "ITensors.enable_debug_checks()"
   ]
  },
  {
   "cell_type": "markdown",
   "id": "521c681b-d13a-420b-a4ae-f1e012aa0bd7",
   "metadata": {},
   "source": [
    "## Question 1: $J_1 - J_2$ Spin-1/2 Chain"
   ]
  },
  {
   "cell_type": "markdown",
   "id": "811c7e0f-b2af-4ecd-b78d-7891a23719dc",
   "metadata": {},
   "source": [
    "We will use the `ITensors.jl` library to generate a Heisenberg Hamiltonian with general finite $J_1,J_2$ terms:"
   ]
  },
  {
   "cell_type": "code",
   "execution_count": null,
   "id": "f15b164f-c883-47ab-ae7d-4b0d9f57dbc1",
   "metadata": {},
   "outputs": [],
   "source": [
    "function heisenbergH(sites, g::Real)\n",
    "    N = length(sites)\n",
    "    \n",
    "    os = OpSum()\n",
    "    for j in 1:N-2\n",
    "        os += 1/2,\"S+\",j,\"S-\",j+1\n",
    "        os += 1/2,\"S-\",j,\"S+\",j+1\n",
    "        os += \"Sz\",j,\"Sz\",j+1\n",
    "        \n",
    "        os += 1/2*g,\"S+\",j,\"S-\",j+2\n",
    "        os += 1/2*g,\"S-\",j,\"S+\",j+2\n",
    "        os += g,\"Sz\",j,\"Sz\",j+2\n",
    "    end\n",
    "    os += 1/2,\"S+\",N-1,\"S-\",N\n",
    "    os += 1/2,\"S-\",N-1,\"S+\",N\n",
    "    os += \"Sz\",N-1,\"Sz\",N\n",
    "    \n",
    "    H = MPO(os, sites)\n",
    "    return H\n",
    "end"
   ]
  },
  {
   "cell_type": "markdown",
   "id": "8d4a9ff7-fb45-4de7-81d2-c50f308113d5",
   "metadata": {},
   "source": [
    "We will use the DMRG method on this Hamiltonian to get the ground state and the 1st excited state. We will loop over system sizes, for each defining \n",
    "`sitetinds` object and the Hamiltonian, and for each finding the energy of the ground state with $S_z=0$ and 1st excited state with $S_z=1$:"
   ]
  },
  {
   "cell_type": "code",
   "execution_count": null,
   "id": "8316d459-5c01-4563-87ef-ed0cce6df9f9",
   "metadata": {},
   "outputs": [],
   "source": [
    "gc = 0.241\n",
    "glist = [0.1, 0.2, 0.45, 0.49]\n",
    "Nlist = 2 .^ (3:6)\n",
    "\n",
    "nsweeps = 5\n",
    "cutoff = [1E-10]\n",
    "maxM = maximum(Nlist)\n",
    "\n",
    "E0arr = zeros(length(glist), length(Nlist))\n",
    "E1arr = zeros(length(glist), length(Nlist))\n",
    "\n",
    "psi0list = Array{Any}(undef, length(glist), length(Nlist))\n",
    "psi1list = Array{Any}(undef, length(glist), length(Nlist))\n",
    "\n",
    "Threads.@threads for gind in 1:length(glist)\n",
    "    g = glist[gind]\n",
    "    for (Nind, N) in enumerate(Nlist)\n",
    "        @show g, N\n",
    "        \n",
    "        sites = siteinds(\"S=1/2\", N; conserve_qns=true)\n",
    "        H = heisenbergH(sites, g);\n",
    "    \n",
    "        state = [isodd(n) ? \"Up\" : \"Dn\" for n=1:N]\n",
    "        psi0 = MPS(sites,state);\n",
    "        state[2] = \"Up\"\n",
    "        psi1 = MPS(sites,state);\n",
    "    \n",
    "        E0arr[gind, Nind], psi0list[gind, Nind] = dmrg(H,psi0; nsweeps=nsweeps, cutoff=cutoff, maxdim=maxM, outputlevel=0);\n",
    "        E1arr[gind, Nind], psi1list[gind, Nind] = dmrg(H,psi1; nsweeps=nsweeps, cutoff=cutoff, maxdim=maxM, outputlevel=0);\n",
    "    end\n",
    "end"
   ]
  },
  {
   "cell_type": "markdown",
   "id": "e44181eb-1acb-4a55-840b-298754fac177",
   "metadata": {},
   "source": [
    "To verify the expected behaviour, we will fit a parabolic relation to the gap:"
   ]
  },
  {
   "cell_type": "code",
   "execution_count": null,
   "id": "c232215e-738f-45f6-a048-72abe065f058",
   "metadata": {},
   "outputs": [],
   "source": [
    "@. parabola_model(x, a) = a[1] * x^2 + a[2]\n",
    "@. linear_model(x, a) = a[1] * x + a[2]\n",
    "x = 1 ./ Nlist\n",
    "xh = LinRange(0, 1.1/minimum(Nlist), 100)\n",
    "\n",
    "intercept = []\n",
    "\n",
    "plt = plot()\n",
    "for (gind, g) in enumerate(glist)\n",
    "    y = E1arr[gind,:] .- E0arr[gind,:]\n",
    "    model = (g>gc) ? parabola_model : linear_model\n",
    "    fitobj = curve_fit(model, x, y, [1.0, 0.0])\n",
    "    @show coef(fitobj)\n",
    "    scatter!(x, y, label=@sprintf(\"g = %1.3f\", g), color=palette(:default)[gind])\n",
    "    plot!(xh, model(xh, coef(fitobj)), label=nothing, color=palette(:default)[gind])\n",
    "    push!(intercept, coef(fitobj)[1])\n",
    "end\n",
    "plot!(xlims=(0, Inf), ylims=(0, Inf))\n",
    "xlabel!(\"1/N\")\n",
    "ylabel!(\"ΔE\")"
   ]
  },
  {
   "cell_type": "markdown",
   "id": "28fc812f-0484-40e1-84de-f9869199c19f",
   "metadata": {},
   "source": [
    "And we can clearly see that for $g<g_c$ the system's gap goes to 0 at $N\\to \\infty$, but for $g>g_c$ the system is gapped even in $N\\to\\infty$. Now we will calculate the correlations for different values of $g$ in the longest chain we checked before:"
   ]
  },
  {
   "cell_type": "code",
   "execution_count": null,
   "id": "8ee7c0e4-b963-4d6a-851a-7e4076f4d21d",
   "metadata": {},
   "outputs": [],
   "source": [
    "ps = []\n",
    "corr = []\n",
    "for (gind, g) in enumerate(glist)\n",
    "    xmax = Int(maximum(Nlist)/2)\n",
    "    x = 1:xmax\n",
    "    x = (g<gc) ? log.(x) : x\n",
    "    y = log.(abs.(correlation_matrix(psi0list[gind, length(Nlist)],\"Sz\",\"Sz\")[1:xmax,1]))\n",
    "    push!(corr, y)\n",
    "    p = plot(x, corr[gind], label=@sprintf(\"g=%.2f\",g), ylabel=\"log[corr]\", xlabel=(g<gc) ? \"Log[Distance]\" : \"Distance\")\n",
    "    push!(ps, p)\n",
    "end\n",
    "plot(ps..., plot_title=\"Sz-Sz Correlations\")"
   ]
  },
  {
   "cell_type": "markdown",
   "id": "0bd44758-e09b-4b84-9bfd-cf67e55ec0f8",
   "metadata": {},
   "source": [
    "And as expected the $g<g_c$ cases are linear in a log-log plot (i.e. they are power laws) while the cases for $g>g_c$ are linear in a semilog-y plot (i.e. they decay exponentially). We will estimate the power of the power laws and the correlation length of the exponential laws using linear fits:"
   ]
  },
  {
   "cell_type": "code",
   "execution_count": null,
   "id": "6e268b73-5f59-44ab-93b5-58dde2c79884",
   "metadata": {},
   "outputs": [],
   "source": [
    "for (gind, g) in enumerate(glist)\n",
    "    if ps[gind].n > 1\n",
    "        continue # already plotted fit\n",
    "    end\n",
    "    y = corr[gind]\n",
    "    x = 1:length(y)\n",
    "    x = (g<gc) ? log.(x) : x # fix x axis for power laws or exponential decay\n",
    "    fitobj = curve_fit(linear_model, x, y, [1.0, 0.0])\n",
    "    fit_label = (g<gc) ? @sprintf(\"α=%.2f\", coef(fitobj)[1]) : @sprintf(\"ζ=%.2f\", 1.0/coef(fitobj)[1])\n",
    "    p = plot(ps[gind], x, linear_model(x, coef(fitobj)), label=fit_label, ylabel=\"log[corr]\", xlabel=(g<gc) ? \"Log[Distance]\" : \"Distance\")\n",
    "    ps[gind] = p\n",
    "end\n",
    "plot(ps..., plot_title=\"Linear Fit to Correlation Decay\")"
   ]
  },
  {
   "cell_type": "markdown",
   "id": "2d22e331-182b-4156-a2b2-3e697978a8ee",
   "metadata": {},
   "source": [
    "So the value for $\\alpha$ is always about $\\alpha \\approx 1$, while the value for $\\zeta$ changes based on $g$ but is of the order of unity."
   ]
  },
  {
   "cell_type": "code",
   "execution_count": null,
   "id": "4637077b-ac4b-4231-925f-d70a32e53775",
   "metadata": {},
   "outputs": [],
   "source": []
  },
  {
   "cell_type": "code",
   "execution_count": null,
   "id": "21f1d425-04d5-4367-8c9a-8f04f307d323",
   "metadata": {},
   "outputs": [],
   "source": []
  }
 ],
 "metadata": {
  "kernelspec": {
   "display_name": "Julia_4_threads 1.10.1",
   "language": "julia",
   "name": "julia_4_threads-1.10"
  },
  "language_info": {
   "file_extension": ".jl",
   "mimetype": "application/julia",
   "name": "julia",
   "version": "1.10.1"
  }
 },
 "nbformat": 4,
 "nbformat_minor": 5
}
