{
 "cells": [
  {
   "cell_type": "markdown",
   "id": "6a467657-4d30-46e5-9143-bfc0b4f049e2",
   "metadata": {},
   "source": [
    "In this assignment we will work on the $(J_1,J_2)$ spin-$\\frac{1}{2}$ extension to the [Heisenberg model](https://en.wikipedia.org/wiki/Quantum_Heisenberg_model), which is sometimes called the [J1-J2 Model](https://en.wikipedia.org/wiki/J1_J2_model):\n",
    "\n",
    "$$\n",
    "H = J_1 \\sum_{i} \\vec{S}_{i} \\cdot \\vec{S}_{i+1} + J_{2} \\sum_{i}\\vec{S}_{i} \\cdot \\vec{S}_{i+2}\n",
    "$$\n",
    "\n",
    "We assume $J_1 > 0, J_2 \\geq 0$ and denote $g = J_2/J_1$."
   ]
  },
  {
   "cell_type": "markdown",
   "id": "baa0585d-c2b6-4065-9278-80411eeac088",
   "metadata": {},
   "source": [
    "# Question 0: Warm Up\n",
    "\n",
    "We assume $J_2 = 0$ as required, thus the Hamiltonian is the Heisenberg one:\n",
    "\n",
    "$$\n",
    "H = J_1 \\sum_{i} \\vec{S}_{i} \\cdot \\vec{S}_{i+1} = J_{1} \\sum_{\\left<i,j\\right>} \\left[\\frac{1}{2}(\\sigma^+_i \\sigma^-_j + \\sigma^-_i \\sigma^+_j) +\\frac{1}{4} \\sigma^z_i \\sigma^z_j \\right]\n",
    "$$\n",
    "\n",
    "This means the for each pair of adjacent spins $i,j$, the state $\\left|\\psi\\right>$ turns into a sum of two elements:\n",
    "\n",
    "1. A state with switched places for all pairs of opposite spins, with coefficient $-\\frac{J_1}{2}$.\n",
    "2. The same state as $\\left|\\psi\\right>$, with a coefficient $\\frac{J_1}{4}$ and also a sum over all pairs of adjacent spins, $+1$ for ++/-- and $-1$ for +-/-+.\n",
    "\n",
    "Note that this means that the state $\\left|\\psi\\right>$ of the system must be represented as an array of real numbers, each on corresponding to the coefficient of a single pure state in the superposition, while each pure state is still a single `UInt`.\n",
    "\n",
    "But first, some imports and global definitions:"
   ]
  },
  {
   "cell_type": "code",
   "execution_count": null,
   "id": "b296f378-f610-4b5d-a08d-7a998ec28480",
   "metadata": {},
   "outputs": [],
   "source": [
    "using LinearAlgebra, SparseArrays, Arpack, Random\n",
    "using Plots, Printf, LaTeXStrings\n",
    "using LsqFit\n",
    "\n",
    "theme(:default)\n",
    "default(background_color=:transparent, dpi=300)\n",
    "\n",
    "rng = MersenneTwister(42)\n",
    "\n",
    "Nmax = 10;"
   ]
  },
  {
   "cell_type": "markdown",
   "id": "bf24e69c-01f2-45f7-885b-da33de501aad",
   "metadata": {},
   "source": [
    "We start by creating two functions which we will use a lot later:\n"
   ]
  },
  {
   "cell_type": "code",
   "execution_count": null,
   "id": "6c71b651-841a-41c8-8a45-dcaaf86843b0",
   "metadata": {},
   "outputs": [],
   "source": [
    "function index2state(stateind::Integer, N::Integer)\n",
    "  return digits(stateind, base=2, pad=N)\n",
    "end\n",
    "\n",
    "function flipspins(x,i,j) # takes i=(1,N) and j=(1,N)\n",
    "    f = typeof(x)(1)<<(i-1) | typeof(x)(1)<<(j-1) \n",
    "    return x ⊻ f\n",
    "end\n",
    "\n",
    "function ground_state_energy(H)\n",
    "  return eigs(H; nev=1, which=:SR, ritzvec=false)[1][1]\n",
    "end"
   ]
  },
  {
   "cell_type": "markdown",
   "id": "485dabdf-d6a3-4e92-814c-712bb4e6d6fb",
   "metadata": {},
   "source": [
    "And now that we have that, we will use it to calculate the effect of the Hamiltonian on a general wave function:\n"
   ]
  },
  {
   "cell_type": "code",
   "execution_count": null,
   "id": "3c39b6bf-9f76-422b-861c-eafec42d2f17",
   "metadata": {},
   "outputs": [],
   "source": [
    "function multiply_heisenberg(ψ::Vector{<:Number}, J::Real)\n",
    "  @assert abs(norm(ψ) - 1) < 1e-9 \"Input state is not normalized\"\n",
    "  D = length(ψ)\n",
    "  @assert ispow2(D) \"Input state has invalid number of elements\"\n",
    "  N = Int(log2(D))\n",
    "  @assert mod(N,2)==0 \"Only even number of spins is supported\"\n",
    "\n",
    "  ψout = zeros(D)\n",
    "  for stateind in range(0, length=D)\n",
    "    for i in range(1, length=N)\n",
    "      j = mod(i,N)+1\n",
    "      si = ( stateind & 1<<(i-1) ) >> (i-1)\n",
    "      sj = ( stateind & 1<<(j-1) ) >> (j-1)\n",
    "\n",
    "      if si == sj\n",
    "        ψout[stateind+1] += J/4*ψ[stateind+1]\n",
    "      else\n",
    "        ψout[stateind+1] -= J/4*ψ[stateind+1]\n",
    "        stateind_flipped = flipspins(stateind, i, j)\n",
    "        ψout[stateind_flipped+1] += J/2*ψ[stateind+1]\n",
    "      end\n",
    "    end\n",
    "  end\n",
    "  return ψout\n",
    "end"
   ]
  },
  {
   "cell_type": "markdown",
   "id": "6d79f83b-e634-4a30-8813-f2dcab7e1340",
   "metadata": {},
   "source": [
    "In order to get the energy of the ground state, we will also need the Hamiltonian matrix from class:"
   ]
  },
  {
   "cell_type": "code",
   "execution_count": null,
   "id": "4bf55d1a-e41a-4d54-af65-900554d966e8",
   "metadata": {},
   "outputs": [],
   "source": [
    "function heisenberg_hamiltonian(N)    \n",
    "    H = spzeros(2^N,2^N)\n",
    "\n",
    "    for stateind in range(0, length = 2^N)\n",
    "        for i in range(1, length = N)\n",
    "            j = mod(i,N)+1\n",
    "            si = ( stateind & 1<<(i-1) ) >> (i-1)\n",
    "            sj = ( stateind & 1<<(j-1) ) >> (j-1)\n",
    "\n",
    "            if si == sj\n",
    "                H[stateind+1,stateind+1] += 1/4\n",
    "            else\n",
    "                H[stateind+1,stateind+1] -= 1/4\n",
    "                stateind_flipped = flipspins(stateind,i,j)\n",
    "                H[stateind+1,stateind_flipped+1] += 1/2\n",
    "            end\n",
    "        end\n",
    "    end\n",
    "    \n",
    "    return H\n",
    "end"
   ]
  },
  {
   "cell_type": "markdown",
   "id": "b9c28d66-451c-40f2-90de-2aef26e72ad8",
   "metadata": {},
   "source": [
    "and a function which calculates the energy of a given state:"
   ]
  },
  {
   "cell_type": "code",
   "execution_count": null,
   "id": "d346b002-f211-4d23-a59d-bdb32963b251",
   "metadata": {},
   "outputs": [],
   "source": [
    "function heisenberg_energy(ψ::Vector{<:Number}, J::Real)\n",
    "  return ψ⋅multiply_heisenberg(ψ, J)\n",
    "end"
   ]
  },
  {
   "cell_type": "markdown",
   "id": "2f3fb8d2-3dd9-4b1f-a8c5-c721ca3cf04a",
   "metadata": {},
   "source": [
    "Using it we can calculate the energy after repeatedly applying the Hamiltonian and see that it converges to the ground state energy:\n"
   ]
  },
  {
   "cell_type": "code",
   "execution_count": null,
   "id": "d4f1624b-7d02-4dd1-acd2-728d8b3483d4",
   "metadata": {},
   "outputs": [],
   "source": [
    "J = 1.0\n",
    "N = Nmax\n",
    "ψ = normalize(rand(rng,2^N))\n",
    "\n",
    "H = heisenberg_hamiltonian(N)\n",
    "Emin = ground_state_energy(H)\n",
    "\n",
    "iternum = 50\n",
    "Erng = zeros(iternum)\n",
    "Eground = zeros(iternum)\n",
    "for ind in range(1, length=iternum)\n",
    "  ψ = multiply_heisenberg(ψ, J)\n",
    "  normalize!(ψ)\n",
    "  Erng[ind] = heisenberg_energy(ψ, J)\n",
    "  Eground[ind] = Emin\n",
    "end\n",
    "\n",
    "plot(Erng .- Eground , label=nothing, yaxis=:log, marker=:circle)\n",
    "xlabel!(\"Application Count\")\n",
    "ylabel!(\"ΔE from Ground State\")"
   ]
  },
  {
   "cell_type": "markdown",
   "id": "7a85eb90-4cb6-43f6-960b-f7c1913f7a10",
   "metadata": {},
   "source": [
    "And we can see that the energy of the state goes towards the energy of the Ground State, as expected.\n"
   ]
  },
  {
   "cell_type": "markdown",
   "id": "8ce7a9b2-041f-4c97-b08f-0567034c92a1",
   "metadata": {},
   "source": [
    "# Question 1: Hamiltonian for $g\\neq0$\n",
    "\n",
    "To extend the given Hamiltonian, first we need to define the same fixed $S_z$ basis as in the tutorial:"
   ]
  },
  {
   "cell_type": "code",
   "execution_count": null,
   "id": "c5fdc244-0306-43bd-bd4b-2411971b7105",
   "metadata": {},
   "outputs": [],
   "source": [
    "struct fixed_sz_basis\n",
    "    N::Int64\n",
    "    Nup::Int64\n",
    "    states::Vector{Int64}\n",
    "    \n",
    "    function fixed_sz_basis(N::Int, Nup::Int)\n",
    "      @assert mod(N, 2) == 0 \"Number of spins most be even.\"\n",
    "      Ndown = N - Nup\n",
    "      D = binomial(N, Nup)\n",
    "      states = zeros(Int, D)\n",
    "      k=1\n",
    "      for a in range(0, length = 2^N) # loop over all basis states\n",
    "          if count_ones(a) == Nup\n",
    "              states[k] = a\n",
    "              k += 1\n",
    "          end\n",
    "      end\n",
    "      new(N, Nup, states)\n",
    "    end\n",
    "end"
   ]
  },
  {
   "cell_type": "markdown",
   "id": "d574f541-aaa7-40c0-b477-3f2c1b1c55e2",
   "metadata": {},
   "source": [
    "It also requires helper functions:\n"
   ]
  },
  {
   "cell_type": "code",
   "execution_count": null,
   "id": "bf38afa8-abb2-4cb3-9e1b-97056cb8f75f",
   "metadata": {},
   "outputs": [],
   "source": [
    "import Base.length\n",
    "function length(b::fixed_sz_basis)\n",
    "    return length(b.states)\n",
    "end\n",
    "\n",
    "function Sz(b::fixed_sz_basis)\n",
    "    Ndown = b.N - b.Nup\n",
    "    return (b.Nup-Ndown)/2\n",
    "end"
   ]
  },
  {
   "cell_type": "markdown",
   "id": "244628f3-8e76-4a41-95b8-fca458a41be1",
   "metadata": {},
   "source": [
    "Using this basis, we can create a function which generates a Hamiltonian Matrix for $g\\neq0$:\n"
   ]
  },
  {
   "cell_type": "code",
   "execution_count": null,
   "id": "ff1e19c5-e35c-4f96-9555-e8c5d62708a0",
   "metadata": {},
   "outputs": [],
   "source": [
    "function construct_g_hamiltonian(basis::fixed_sz_basis, J1::Real, J2::Real)\n",
    "    D = length(basis)\n",
    "    H = spzeros(D,D)\n",
    "    \n",
    "    for k in range(1, length = D)        \n",
    "        stateind = basis.states[k]\n",
    "        for i in range(1, length = basis.N)\n",
    "            j = mod(i, basis.N)+1\n",
    "            h = mod(j, basis.N)+1\n",
    "            si = ( stateind & 1<<(i-1) ) >> (i-1)\n",
    "            sj = ( stateind & 1<<(j-1) ) >> (j-1)\n",
    "            sh = ( stateind & 1<<(h-1) ) >> (h-1)\n",
    "\n",
    "            if si == sj\n",
    "                H[k,k] += J1/4\n",
    "            else\n",
    "                H[k,k] -= J1/4\n",
    "                stateind_flipped = flipspins(stateind,i,j)\n",
    "                l = searchsortedfirst(basis.states,stateind_flipped)\n",
    "                @assert (l<=D) && (basis.states[l] == stateind_flipped) \n",
    "                  \"Invalid basis state generated by flipspins\"\n",
    "                H[k,l] += J1/2\n",
    "            end\n",
    "\n",
    "            if si == sh\n",
    "                H[k,k] += J2/4\n",
    "            else\n",
    "                H[k,k] -= J2/4\n",
    "                stateind_flipped = flipspins(stateind,i,h)\n",
    "                l = searchsortedfirst(basis.states,stateind_flipped)\n",
    "                @assert (l<=D) && (basis.states[l] == stateind_flipped) \n",
    "                  \"Invalid basis state generated by flipspins\"\n",
    "                H[k,l] += J2/2\n",
    "            end\n",
    "        end\n",
    "    end\n",
    "    \n",
    "    return H\n",
    "end"
   ]
  },
  {
   "cell_type": "markdown",
   "id": "d76e2841-8d74-41f8-91aa-61a345fcf5d6",
   "metadata": {},
   "source": [
    "Let's test it on a few simple cases spins with given $N, N_{\\uparrow}$ pairs:\n"
   ]
  },
  {
   "cell_type": "code",
   "execution_count": null,
   "id": "2da412d9-094c-4d9e-81ad-32170aebfc8a",
   "metadata": {},
   "outputs": [],
   "source": [
    "N = 6\n",
    "Nup = 3\n",
    "b = fixed_sz_basis(N, Nup)\n",
    "Harr = []\n",
    "push!(Harr, construct_g_hamiltonian(b, 0.0, 1.0))\n",
    "push!(Harr, construct_g_hamiltonian(b, 1.0, 0.0))\n",
    "push!(Harr, construct_g_hamiltonian(b, 1.0, 0.5))\n",
    "push!(Harr, construct_g_hamiltonian(b, 1.0, 1.0))\n",
    "\n",
    "plt_list = []\n",
    "l = @layout[a b; c d]\n",
    "for H in Harr\n",
    "    plt = heatmap(H, size=(170, 200), legend=false, aspect_ratio=:equal, axis=([], false), yflip = true, title=L\"E_{\\rm min}\"*@sprintf(\"=%.2f\", ground_state_energy(H)), c=:viridis)\n",
    "    push!(plt_list, plt)\n",
    "end # TODO fix color scheme\n",
    "plot(plt_list[1], plt_list[2], plt_list[3], plt_list[4], layout=l, size=(700, 500))"
   ]
  },
  {
   "cell_type": "markdown",
   "id": "04035c1b-99f1-4477-bd72-042e85e2bbe7",
   "metadata": {},
   "source": [
    "# Question 2: Triplet Gap\n",
    "\n",
    "In the following questions we will work on the following cases:\n"
   ]
  },
  {
   "cell_type": "code",
   "execution_count": null,
   "id": "0fc9ab60-d104-4e6e-b711-d23a33702858",
   "metadata": {},
   "outputs": [],
   "source": [
    "gc = 0.241\n",
    "garr = [0, gc, 0.49, 0.5]"
   ]
  },
  {
   "cell_type": "markdown",
   "id": "44e076e5-459b-4553-a2ba-4eca820dc447",
   "metadata": {},
   "source": [
    "To perform the triplet gap test we will calculate the energy of the ground state for $S^z=0$ and the lowest energy for $S^z=1$:"
   ]
  },
  {
   "cell_type": "code",
   "execution_count": null,
   "id": "38d5448c-61e5-4e68-b4e9-ac74bcd4d484",
   "metadata": {},
   "outputs": [],
   "source": [
    "Narr = 4:2:Nmax\n",
    "J1 = 1.0\n",
    "\n",
    "E0 = zeros(length(Narr), length(garr))\n",
    "E1 = zeros(length(Narr), length(garr))\n",
    "for (Nind, N) in enumerate(Narr)\n",
    "  b0 = fixed_sz_basis(N, Int(N/2))\n",
    "  b1 = fixed_sz_basis(N, Int(N/2)+1)\n",
    "  for (gind, g) in enumerate(garr)\n",
    "    J2 = g*J1\n",
    "    H0 = construct_g_hamiltonian(b0, J1, J2)\n",
    "    H1 = construct_g_hamiltonian(b1, J1, J2)\n",
    "\n",
    "    res0 = eigs(H0; nev=1, which=:SR, ritzvec=false)[1]\n",
    "    res1 = eigs(H1; nev=1, which=:SR, ritzvec=false)[1]\n",
    "    E0[Nind, gind] = res0[1]\n",
    "    E1[Nind, gind] = res1[1]\n",
    "  end\n",
    "end\n",
    "ΔE = E1 .- E0"
   ]
  },
  {
   "cell_type": "markdown",
   "id": "63b079da-b799-43e2-ba0f-bca2e11389bc",
   "metadata": {},
   "source": [
    "To verify that the gap is correct, we will plot it as a function of $\\frac{1}{N}$ and verify that it is:\n",
    "\n",
    "1. Goes to zero for $g\\leq g_c$\n",
    "2. Does not go to zero for $g > g_c$\n",
    "\n",
    "We also perform a linear fit to each case to verify that it actually goes to zero at $N\\to \\infty$:"
   ]
  },
  {
   "cell_type": "code",
   "execution_count": null,
   "id": "64ef5420-b17c-4faa-bb0a-836f544944db",
   "metadata": {},
   "outputs": [],
   "source": [
    "@. model(x, a) = a[1] + a[2]*x + a[3]*x^2\n",
    "x = 1 ./ Narr\n",
    "xh = LinRange(0, 1.1/minimum(Narr), 1000)\n",
    "\n",
    "intercept = []\n",
    "\n",
    "plt = plot()\n",
    "for (gind, g) in enumerate(garr)\n",
    "  y = ΔE[:, gind]\n",
    "  fitobj = curve_fit(model, x, y, [0.0,0.0,0.0])\n",
    "  scatter!(x, y, label=@sprintf(\"g = %1.3f\", g), color=palette(:default)[gind])\n",
    "  plot!(xh, model(xh, coef(fitobj)), label=nothing, color=palette(:default)[gind])\n",
    "  push!(intercept, coef(fitobj)[1])\n",
    "end\n",
    "plot!(xlims=(0, Inf), ylims=(0, Inf))\n",
    "xlabel!(\"1/N\")\n",
    "ylabel!(\"ΔE\")"
   ]
  },
  {
   "cell_type": "markdown",
   "id": "a14916a4-93f5-4833-b687-2d5e3cc61631",
   "metadata": {},
   "source": [
    "As can be seen, for $g<g_c$ the intercept is basically $0$, while for $g>g_c$ the intercept is finite and non-zero:"
   ]
  },
  {
   "cell_type": "code",
   "execution_count": null,
   "id": "d27ba885-35f1-4393-a323-ebc6ef43c727",
   "metadata": {},
   "outputs": [],
   "source": [
    "for (gind, g) in enumerate(garr)\n",
    "    @printf(\"For g=%.3f, Intercept is %.3f\\n\", g, intercept[gind])\n",
    "end"
   ]
  },
  {
   "cell_type": "markdown",
   "id": "bb7845b9-5f19-467d-b86d-e7060f7b3f01",
   "metadata": {},
   "source": [
    "# Question 3: Singlet Gap \n",
    "\n",
    "Now we want to perform a similar experiment, but for the gap in the singlet state. We use almost the same formalism:"
   ]
  },
  {
   "cell_type": "code",
   "execution_count": null,
   "id": "21fd0ea5-64e0-4b7b-a2d1-3b1046527073",
   "metadata": {},
   "outputs": [],
   "source": [
    "Narr = 4:2:Nmax\n",
    "J1 = 1.0\n",
    "\n",
    "E0 = zeros(length(Narr), length(garr))\n",
    "E1 = zeros(length(Narr), length(garr))\n",
    "for (Nind, N) in enumerate(Narr)\n",
    "  b = fixed_sz_basis(N, Int(N/2))\n",
    "  for (gind, g) in enumerate(garr)\n",
    "    J2 = g*J1\n",
    "    H = construct_g_hamiltonian(b, J1, J2)\n",
    "\n",
    "    Elist = eigs(H; nev=2, which=:SR, ritzvec=false)[1]\n",
    "    E0[Nind, gind] = Elist[1]\n",
    "    E1[Nind, gind] = Elist[2]\n",
    "  end\n",
    "end\n",
    "ΔE = E1 .- E0"
   ]
  },
  {
   "cell_type": "markdown",
   "id": "33ff4bdf-6191-46a4-9926-5ece72f1315e",
   "metadata": {},
   "source": [
    "And plot it, but now with a separate plot for each values of $g$:"
   ]
  },
  {
   "cell_type": "code",
   "execution_count": null,
   "id": "89bc2b50-f93f-42e8-a9a4-6e667e522172",
   "metadata": {},
   "outputs": [],
   "source": [
    "plt = plot()\n",
    "for (gind, g) in enumerate(garr)\n",
    "  plot!(Narr, ΔE[:, gind], marker=:circle, label=@sprintf(\"g = %.3f\", g) )\n",
    "end\n",
    "xlabel!(\"N\")\n",
    "ylabel!(\"ΔE\")"
   ]
  },
  {
   "cell_type": "markdown",
   "id": "e0819591-00ca-4e8c-8a51-9137f56809c4",
   "metadata": {},
   "source": [
    "To verify that in the case $g > g_c$ the relation is exponential we will plot it specifically in a semilog-y plot:"
   ]
  },
  {
   "cell_type": "code",
   "execution_count": null,
   "id": "de4f5aec-dcc8-46ec-a62a-1b080e784107",
   "metadata": {},
   "outputs": [],
   "source": [
    "plot(Narr, ΔE[:,3], marker=:circle, yaxis=:log, label=nothing)\n",
    "xlabel!(\"N\")\n",
    "ylabel!(\"ΔE\")"
   ]
  },
  {
   "cell_type": "markdown",
   "id": "aa46d608-3af6-478e-9805-0fba17004d93",
   "metadata": {},
   "source": [
    "And as we can see, this is exactly a linear relaition as expected."
   ]
  },
  {
   "cell_type": "markdown",
   "id": "a55d8cef-4159-4dc6-93ae-36d824141c43",
   "metadata": {},
   "source": [
    "# Question 4: Spin-Spin Correlations\n",
    "\n",
    "We first write a function which takes a wavefunction $\\left|\\psi\\right>$ and a basis $b$ and returns the spin-spin correlation $\\left< S_i S_{1+x} \\right>$:\n"
   ]
  },
  {
   "cell_type": "code",
   "execution_count": null,
   "id": "c9f4e9f9-730e-497d-828a-f2d2db8d248f",
   "metadata": {},
   "outputs": [],
   "source": [
    "function spinspin_correlation(ψ::Vector{<:Number}, b::fixed_sz_basis, N::Integer, x::Integer)\n",
    "  @assert abs(norm(ψ) - 1) < 1e-9 \"Input state is not normalized\"\n",
    "  @assert mod(N,2) == 0 && N > 0 \"Number of spins must be positive and even\"\n",
    "\n",
    "  corr = 0\n",
    "  for (substateind, coeff) in enumerate(ψ)\n",
    "    stateind = b.states[substateind] # <1>\n",
    "    state = 2 .* index2state(stateind, N) .- 1\n",
    "    corr += abs(coeff)^2 * state[1] * state[mod(x,N)+1]\n",
    "  end\n",
    "  return corr\n",
    "end"
   ]
  },
  {
   "cell_type": "markdown",
   "id": "7cc8238b-9cec-4a0f-865f-7e455376db43",
   "metadata": {},
   "source": [
    "We will test the Spin-Spin correlation on the ground state of several Hamiltonians, each for a different value of $g$. To get the ground state, we will just take the 2nd output of the `eigs` function from `Arpack`:\n"
   ]
  },
  {
   "cell_type": "code",
   "execution_count": null,
   "id": "db9d0ba2-4706-4798-9621-fbb023ffce62",
   "metadata": {},
   "outputs": [],
   "source": [
    "N = Nmax\n",
    "D = 2^N\n",
    "J1 = 1.0\n",
    "\n",
    "xarr = range(0, length=Int(N/2))\n",
    "corr = zeros(length(garr), Int(N/2))\n",
    "\n",
    "plt_list = []\n",
    "l = @layout [a b; c d]\n",
    "for (gind, g) in enumerate(garr)\n",
    "  J2 = g*J1\n",
    "  b = fixed_sz_basis(N, Int(N/2))\n",
    "  H = construct_g_hamiltonian(b, J1, J2)\n",
    "\n",
    "  _, ψ = eigs(H; nev=1, which=:SR)\n",
    "  ψ = vec(ψ)\n",
    "\n",
    "  for x in xarr\n",
    "    corr[gind, x+1] = spinspin_correlation(ψ, b, N, x)\n",
    "  end\n",
    "\n",
    "  plt = plot(xarr.+1, corr[gind, :].^2, label=@sprintf(\"g = %1.3f\", g), \n",
    "    marker=:circle, xlabel=\"x\", ylabel=\"Correlation\")\n",
    "  plot!(yaxis=:log, size=(250,200))\n",
    "\n",
    "  if g <= gc\n",
    "    plot!(xaxis=:log)\n",
    "  end\n",
    "\n",
    "  push!(plt_list, plt)\n",
    "end\n",
    "plot(plt_list[1], plt_list[2], plt_list[3], plt_list[4], layout=l, size=(700, 500))"
   ]
  },
  {
   "cell_type": "markdown",
   "id": "7b8b29c4-9690-44af-b4e9-341b959cad11",
   "metadata": {},
   "source": [
    "We can see that indeed the correlation decays as a power law for $g \\leq g_c$ a expected, but for $g > g_c$ and $g = 1/2$ we get unexpected behavior: for $g=1/2$ the correlation stops decaying and saturates to a given level (what should only happen when talking about bond-bond correlations, I think), and the in the $1/2>g>g_c$ we see a middle state between a power law and saturation."
   ]
  },
  {
   "cell_type": "markdown",
   "id": "ad2488d4-e62a-404e-8a0e-7cb2f0049090",
   "metadata": {},
   "source": [
    "# Question 5: Bond-Bond Correlations\n",
    "\n",
    "Next we want to calculate the bond-bind correlation on the ground state in each case. First, we write a function which calculates the correlation, similar to the one from Question 4:"
   ]
  },
  {
   "cell_type": "code",
   "execution_count": null,
   "id": "9c149f66-913f-4058-814a-c91b35c44b4d",
   "metadata": {},
   "outputs": [],
   "source": [
    "function bondbond_correlation(ψ::Vector{<:Number}, b::fixed_sz_basis, N::Integer, x::Integer)\n",
    "  @assert abs(norm(ψ) - 1) < 1e-9 \"Input state is not normalized\"\n",
    "  @assert mod(N,2) == 0 && N > 0 \"Number of spins must be positive and even\"\n",
    "\n",
    "  corr = 0\n",
    "  mean1 = 0\n",
    "  mean2 = 0\n",
    "  for (substateind, coeff) in enumerate(ψ)\n",
    "    stateind = b.states[substateind]\n",
    "    state = 2 .* index2state(stateind, N) .- 1\n",
    "        \n",
    "    bond1 = state[1] * state[2]\n",
    "    bond2 = state[mod(x,N)+1] * state[mod(x+1,N)+1]\n",
    "    corr += abs(coeff)^2 * bond1 * bond2\n",
    "    mean1 += abs(coeff)^2 * bond1\n",
    "    mean2 += abs(coeff)^2 * bond2\n",
    "  end\n",
    "  var = corr - mean1 * mean2\n",
    "  return var\n",
    "end"
   ]
  },
  {
   "cell_type": "markdown",
   "id": "dea5a672-d0a7-463c-a342-ae8c720f714c",
   "metadata": {},
   "source": [
    "We test this function in the same manner we did in Question 4:"
   ]
  },
  {
   "cell_type": "code",
   "execution_count": null,
   "id": "91996678-9e03-4a1a-867a-a6094686ed3d",
   "metadata": {},
   "outputs": [],
   "source": [
    "N = Nmax\n",
    "D = 2^N\n",
    "J1 = 1.0\n",
    "\n",
    "xarr = range(0, length=Int(N/2))\n",
    "corr = zeros(length(garr), Int(N/2))\n",
    "\n",
    "plt_list = []\n",
    "l = @layout [a b; c d]\n",
    "for (gind, g) in enumerate(garr)\n",
    "  J2 = g*J1\n",
    "  b = fixed_sz_basis(N, Int(N/2))\n",
    "  H = construct_g_hamiltonian(b, J1, J2)\n",
    "\n",
    "  _, ψ = eigs(H; nev=1, which=:SR)\n",
    "  ψ = vec(ψ)\n",
    "\n",
    "  for x in xarr\n",
    "    corr[gind, x+1] = bondbond_correlation(ψ, b, N, x)\n",
    "  end\n",
    "  plt = plot(xarr .+ 1, corr[gind, :].^2, label=@sprintf(\"g = %1.3f\", g), marker=:circle, xlabel=\"x\", ylabel=\"Correlation\")\n",
    "  plot!(xaxis=:log, yaxis=:log, size=(250,200))\n",
    "  push!(plt_list, plt)\n",
    "end\n",
    "plot(plt_list[1], plt_list[2], plt_list[3], plt_list[4], layout=l, size=(700, 500))"
   ]
  },
  {
   "cell_type": "markdown",
   "id": "aa1278c0-bb72-4619-b22a-b7e2ba6f84d7",
   "metadata": {},
   "source": [
    "We can see that for $g<g_c$ the correlation decays roughly as a power law, while for $g>g_c$ the correlation decays fast but saturates to a constant value for large $x$ values, just as expected."
   ]
  }
 ],
 "metadata": {
  "authors": [
   {
    "name": "Yoav Zack, ID 211677398"
   }
  ],
  "kernelspec": {
   "display_name": "Julia 1.10.1",
   "language": "julia",
   "name": "julia-1.10"
  },
  "language_info": {
   "file_extension": ".jl",
   "mimetype": "application/julia",
   "name": "julia",
   "version": "1.10.1"
  },
  "title": "Numerical Methods for Manu Body Physics, Assignment #1"
 },
 "nbformat": 4,
 "nbformat_minor": 5
}
