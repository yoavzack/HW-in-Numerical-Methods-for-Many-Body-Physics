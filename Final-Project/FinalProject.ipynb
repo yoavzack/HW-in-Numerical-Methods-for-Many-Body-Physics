{
 "cells": [
  {
   "cell_type": "markdown",
   "id": "00ca9387-68e7-4fcd-8d70-7d324c2b53a0",
   "metadata": {},
   "source": [
    "# Final Project: Honeycomb AKLT as PEPS"
   ]
  },
  {
   "cell_type": "markdown",
   "id": "3cf6c376-bc7c-43d3-9ba5-df5438a1c47e",
   "metadata": {},
   "source": [
    "Submitted by Yoav Zack, ID 211677398"
   ]
  },
  {
   "cell_type": "markdown",
   "id": "1d30fef6-1c4e-4366-9330-322bd27d7955",
   "metadata": {},
   "source": [
    "## `julia` Implementation"
   ]
  },
  {
   "cell_type": "markdown",
   "id": "90744418-428e-4830-9746-6cb5c607c78e",
   "metadata": {},
   "source": [
    "We will implement those two wave functions as PEPS in `julia` using `TensorOperations`:"
   ]
  },
  {
   "cell_type": "code",
   "execution_count": null,
   "id": "542c1d49-d237-4354-9c09-4102dd546a55",
   "metadata": {},
   "outputs": [],
   "source": [
    "using LinearAlgebra, TensorOperations, Plots, Printf, BenchmarkTools"
   ]
  },
  {
   "cell_type": "markdown",
   "id": "8f9f97db-7b7e-417b-b3ac-f44007afd595",
   "metadata": {},
   "source": [
    "First, we define the Honeycomb structure, and some useful functions on it:"
   ]
  },
  {
   "cell_type": "code",
   "execution_count": null,
   "id": "45b965e9-e337-4692-86fd-e4c5c8d8a3d7",
   "metadata": {},
   "outputs": [],
   "source": [
    "struct HoneycombLattice\n",
    "    shape::String\n",
    "    a::Real\n",
    "    verts::Vector{Tuple{Int64, Tuple}}\n",
    "    bonds::Vector{Tuple}\n",
    "    ψ#::Vector{Tuple{Integer, Array}}\n",
    "\n",
    "    function HoneycombLattice(shape::String, a::Real, shift::Tuple, n::Integer, bc::String)\n",
    "        @assert shape ∈ (\"pyramid\", \"flower\", \"bricks\") \"Invalid lattice shape\"\n",
    "        @assert a > 0 \"Bond length `a` must be positive\"\n",
    "        @assert length(shift) == 2 \"Lattice shift must be of length 2\"\n",
    "        @assert n > 0 \"Lattice order `n` must be positive\"\n",
    "        @assert bc ∈ (\"periodic\", \"open\") \"Invalid lattice boundary condition\"\n",
    "\n",
    "        # define verts location based on lattice shape\n",
    "        if shape == \"pyramid\"\n",
    "            dx = a * sin(π/6)\n",
    "            dy = a * cos(π/6)\n",
    "            \n",
    "            locs = [(0.0, 0.0)]\n",
    "            for (i,x) in enumerate(range(start=dx, length=n, step=a+dx))\n",
    "                for y in range(-dy*i, stop=dy*i, length=i+1)\n",
    "                    append!(locs, [(-x,y), (-x-a,y)])\n",
    "                end\n",
    "            end\n",
    "        \n",
    "            for (j, y) in enumerate(range(start=-dy*(n-1), stop=dy*(n-1), length=n))\n",
    "                append!(locs, [(-n*(dx+a)-dx, y)])\n",
    "            end\n",
    "        elseif shape == \"bricks\"\n",
    "            if n == 1\n",
    "                locs = [(0.0, 0.0), (0.0, a), (2*a, 0.0), (a, a), (a, 0.0), (2*a, a)]\n",
    "            else\n",
    "                locs = [(0.0, 0.0), (0.0, a), (a, 2*a), (a, a)]\n",
    "                for i in 1:n\n",
    "                    if i%2==0\n",
    "                        append!(locs, [r.+(i-1).*(a,0) for r in [(a,2*a),(2*a,2*a),(2*a,a)]])\n",
    "                    else\n",
    "                        append!(locs, [r.+(i-1).*(a,0) for r in [(a,0),(2*a,0),(2*a,a)]])\n",
    "                    end\n",
    "                end\n",
    "            end\n",
    "            \n",
    "        elseif shape == \"flower\"\n",
    "            \n",
    "        end\n",
    "            \n",
    "        # add shift to vertex locations and define verts array\n",
    "        verts = [(ind, loc .+ shift) for (ind, loc) in enumerate(locs)]\n",
    "        \n",
    "        # detect bonds\n",
    "        bonds = detectbonds(verts, a)\n",
    "\n",
    "        # remove unwanted bonds in certain geometries\n",
    "        if shape == \"bricks\"\n",
    "            for (ind,bond) in enumerate(bonds)\n",
    "                if bond[2] == bond[1] + 1 && bond[1] % 3 == 1 && ind != 1\n",
    "                    deleteat!(bonds, ind)\n",
    "                end\n",
    "            end\n",
    "        end\n",
    "\n",
    "        # fill in tensors\n",
    "        A = AKLT_PEPS()\n",
    "        ψ = []\n",
    "        countneighbors(verts, verts[1], bonds)\n",
    "        # for vert in verts\n",
    "        #     c, vert_bonds = countneighbors(verts, vert, bonds)\n",
    "        #     if c == 3\n",
    "        #         push!(ψ, (vert, A))\n",
    "        #     elseif c == 2\n",
    "        #         push!(ψ, (vert, A[]))\n",
    "        #     end\n",
    "        # end\n",
    "        \n",
    "        # create structure\n",
    "        new(shape, a, verts, bonds, ψ)\n",
    "    end\n",
    "end\n",
    "\n",
    "function detectbonds(verts::Vector{Tuple{Int64, Tuple{Float64, Float64}}}, a::Real)\n",
    "    bonds = []\n",
    "    for vert in verts\n",
    "        (ind, loc) = vert\n",
    "        for (ind_i, loc_i) in nearestNeighboors(verts[ind:end], vert, a) #\n",
    "            push!(bonds, (ind, ind_i))\n",
    "        end\n",
    "    end\n",
    "    return bonds\n",
    "end\n",
    "\n",
    "function countneighbors(verts::Vector{Tuple{Int64, Tuple{Float64, Float64}}}, vert::Tuple{Int64, Tuple{Float64, Float64}}, bonds::Vector{Any})\n",
    "    c = 0\n",
    "    vert_bonds = []\n",
    "    bonds_inds = []\n",
    "    (ind, loc) = vert\n",
    "    for bond in bonds\n",
    "        if ind ∈ bond\n",
    "            ind_j = [i for i in bond if i != ind][1]\n",
    "            vert_j = verts[ind_j]\n",
    "            (ind_j, loc_j) = vert_j\n",
    "            c += 1\n",
    "            push!(vert_bonds, bond)\n",
    "            θ = atan(loc_j[2] - loc[2], loc_j[1] - loc[1])\n",
    "            @show vert_j, θ\n",
    "        end\n",
    "    end\n",
    "    return c, vert_bonds, bonds_inds\n",
    "end\n",
    "\n",
    "function nearestNeighboors(verts::Vector{Tuple{Int64, Tuple{Float64, Float64}}}, vert::Tuple{Int64, Tuple{Float64, Float64}}, a::Real)\n",
    "    neighbors = []\n",
    "    (ind, loc) = vert\n",
    "    for (ind_i, loc_i) in verts\n",
    "        d = sum((loc .- loc_i).^2)\n",
    "        if abs(d - a) < 1e-1*a\n",
    "            push!(neighbors, (ind_i, loc_i))\n",
    "        end\n",
    "    end\n",
    "    return neighbors\n",
    "end\n",
    "\n",
    "function showlattice(fig::Plots.Plot, lat::HoneycombLattice, dolabel::Bool)\n",
    "    x = [loc[1] for (ind, loc) in lat.verts]\n",
    "    y = [loc[2] for (ind, loc) in lat.verts]\n",
    "    for b in lat.bonds\n",
    "        dx = [lat.verts[i][2][1] for i in b]\n",
    "        dy = [lat.verts[i][2][2] for i in b]\n",
    "        plot!(fig, dx, dy, label=\"\", color=\"blue\")\n",
    "    end\n",
    "    scatter!(fig, x, y, aspect_ratio=1, label=\"\", color=\"red\")\n",
    "\n",
    "    if dolabel\n",
    "        for (ind, loc) in lat.verts\n",
    "            annotate!(fig, loc[1], loc[2], ind)\n",
    "        end\n",
    "    end\n",
    "    return fig\n",
    "end"
   ]
  },
  {
   "cell_type": "markdown",
   "id": "e8768713-93b7-4f45-a763-41c1623b95b8",
   "metadata": {},
   "source": [
    "The tensors are defined using the following function:"
   ]
  },
  {
   "cell_type": "code",
   "execution_count": null,
   "id": "3d15655f-8f10-47e7-bcb7-34339ccb7656",
   "metadata": {},
   "outputs": [],
   "source": [
    "function AKLT_PEPS()\n",
    "    Θ = zeros(4,2,2,2)\n",
    "    Σ = zeros(2,2)\n",
    "    A = zeros(4,2,2,2)\n",
    "    \n",
    "    # define Σ the singlet matrix\n",
    "    Σ[1,2] = 1/sqrt(2); Σ[2,1] = -1/sqrt(2);\n",
    "    \n",
    "    # define Θ the projection operator\n",
    "    for a in 1:2\n",
    "        for b in 1:2\n",
    "            for c in 1:2\n",
    "                Θ[1,a,b,c] = (a+b+c == 3)\n",
    "                Θ[2,a,b,c] = (a+b+c == 4)/sqrt(3)\n",
    "                Θ[3,a,b,c] = (a+b+c == 5)/sqrt(3)\n",
    "                Θ[4,a,b,c] = (a+b+c == 6)\n",
    "            end\n",
    "        end\n",
    "    end\n",
    "    \n",
    "    # define A the total tensor\n",
    "    for σ in 1:4\n",
    "        for b in 1:2\n",
    "            A[σ,:,b,:] = Θ[σ,:,b,:]*Σ*sqrt(6/10)\n",
    "        end\n",
    "    end\n",
    "    return A\n",
    "end"
   ]
  },
  {
   "cell_type": "markdown",
   "id": "928668ff-7f34-4048-95d1-70c39f871c87",
   "metadata": {},
   "source": [
    "For example, here are two possible lattices:"
   ]
  },
  {
   "cell_type": "code",
   "execution_count": null,
   "id": "a7b0b0b9-3bc3-48f6-8467-33536eb245f1",
   "metadata": {},
   "outputs": [],
   "source": [
    "lat = HoneycombLattice(\"bricks\", 1, (5.0,1.0), 4, \"open\")\n",
    "fig = scatter()\n",
    "fig = showlattice(fig, lat, true)"
   ]
  },
  {
   "cell_type": "code",
   "execution_count": null,
   "id": "e8937d51-958d-484f-8282-79cc0e8779ec",
   "metadata": {},
   "outputs": [],
   "source": [
    "lat = HoneycombLattice(\"pyramid\", 1, (5.0,1.0), 4, \"open\")\n",
    "fig = scatter()\n",
    "fig = showlattice(fig, lat, true)"
   ]
  },
  {
   "cell_type": "markdown",
   "id": "53370d7f-02da-4f60-a15c-5bfa3df6dcb7",
   "metadata": {},
   "source": [
    "Next, in order to calculate local expectation values of a specific site, we need to orthogonalize the PEPS onto the site. This is done by contracting bonds of sites and then split them again using SVD. We start by writing soem useful functions:"
   ]
  },
  {
   "cell_type": "code",
   "execution_count": null,
   "id": "702cae2a-87d8-41a0-8db3-2c16550b07a8",
   "metadata": {},
   "outputs": [],
   "source": [
    "function bondtensor(ψ::HoneycombLattice, i::Int64)\n",
    "    \n",
    "end"
   ]
  },
  {
   "cell_type": "code",
   "execution_count": null,
   "id": "04927e6c-f80e-4e62-804d-207c8e7b3351",
   "metadata": {},
   "outputs": [],
   "source": []
  }
 ],
 "metadata": {
  "kernelspec": {
   "display_name": "Julia 1.10.2",
   "language": "julia",
   "name": "julia-1.10"
  },
  "language_info": {
   "file_extension": ".jl",
   "mimetype": "application/julia",
   "name": "julia",
   "version": "1.10.2"
  }
 },
 "nbformat": 4,
 "nbformat_minor": 5
}
