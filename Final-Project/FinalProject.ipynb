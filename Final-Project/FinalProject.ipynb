{
 "cells": [
  {
   "cell_type": "markdown",
   "id": "00ca9387-68e7-4fcd-8d70-7d324c2b53a0",
   "metadata": {},
   "source": [
    "# Final Project: Honeycomb AKLT as PEPS"
   ]
  },
  {
   "cell_type": "markdown",
   "id": "3cf6c376-bc7c-43d3-9ba5-df5438a1c47e",
   "metadata": {},
   "source": [
    "Submitted by Yoav Zack, ID 211677398"
   ]
  },
  {
   "cell_type": "markdown",
   "id": "90744418-428e-4830-9746-6cb5c607c78e",
   "metadata": {},
   "source": [
    "We will implement the simple PEPS structure which appeared in the theory file, in `julia`. First, some imports:"
   ]
  },
  {
   "cell_type": "code",
   "execution_count": null,
   "id": "542c1d49-d237-4354-9c09-4102dd546a55",
   "metadata": {},
   "outputs": [],
   "source": [
    "using LinearAlgebra, TensorOperations, Plots, Printf, BenchmarkTools\n",
    "theme(:default)"
   ]
  },
  {
   "cell_type": "markdown",
   "id": "8f9f97db-7b7e-417b-b3ac-f44007afd595",
   "metadata": {},
   "source": [
    "Next, we define an AKLT Lattice structure, and some a visualization function for it:"
   ]
  },
  {
   "cell_type": "code",
   "execution_count": null,
   "id": "45b965e9-e337-4692-86fd-e4c5c8d8a3d7",
   "metadata": {},
   "outputs": [],
   "source": [
    "mutable struct LatticeAKLT\n",
    "    shape::String\n",
    "    verts::Vector{Tuple{Int64, Tuple{Float64, Float64}}}\n",
    "    bonds::Vector{Tuple{Tuple{Int64, Int64}, Tuple{Int64, Int64}}}\n",
    "    ψ::Vector{Array{Float64}}\n",
    "\n",
    "    function LatticeAKLT(shape::String, a::Real, shift::Tuple, σ_boundary::Int64)\n",
    "        @assert shape ∈ (\"hexagon\", \"triple\", \"line\")\n",
    "        @assert a > 0 \"Bond length `a` must be positive\"\n",
    "        @assert length(shift) == 2 \"Lattice shift must be of length 2\"\n",
    "        \n",
    "        # define verts location for plots\n",
    "        if shape == \"hexagon\"\n",
    "            locs = [a.*(cos(2π/6*ind), sin(2π/6*ind)) for ind in 0:5]\n",
    "            bonds = [((ind,2), (ind%6+1,1)) for ind in 1:6]\n",
    "        elseif shape == \"triple\"\n",
    "            locs = [(0.0,0.0)]\n",
    "            append!(locs, [(sin(2π/3*ind), cos(2π/3*ind)) for ind in 0:2])\n",
    "            bonds = [((1,ind-1),(ind,1)) for ind in 2:4]\n",
    "        elseif shape == \"line\"\n",
    "            num_verts = 9\n",
    "            locs = [(0.0,0.0)]\n",
    "            for ind in 1:num_verts-1\n",
    "                push!(locs, a.*(ind*cos(π/6), (ind%2)sin(π/6)))\n",
    "            end\n",
    "            bonds = [((ind,2),(ind+1,1)) for ind in 1:(num_verts-1)]\n",
    "            bonds[1] = ((1,1),(2,1)) # fix first connection\n",
    "        end\n",
    "        \n",
    "        # add shift to vertex locations and define verts array\n",
    "        verts = [(ind, loc .+ shift) for (ind, loc) in enumerate(locs)]\n",
    "        \n",
    "        # fill in tensors\n",
    "        ψ = AKLT_PEPS(verts, bonds, σ_boundary)\n",
    "        \n",
    "        # create structure\n",
    "        new(shape, verts, bonds, ψ)\n",
    "    end\n",
    "end"
   ]
  },
  {
   "cell_type": "code",
   "execution_count": null,
   "id": "df3d4e8d-f46d-4861-a887-12575420d461",
   "metadata": {},
   "outputs": [],
   "source": [
    "function showlattice(fig::Plots.Plot, lat::LatticeAKLT, dolabel::Bool)\n",
    "    x = [loc[1] for (ind, loc) in lat.verts]\n",
    "    y = [loc[2] for (ind, loc) in lat.verts]\n",
    "\n",
    "    # plot bonds\n",
    "    for bond in lat.bonds\n",
    "        inds = [b[1] for b in bond]\n",
    "        dx = [lat.verts[i][2][1] for i in inds]\n",
    "        dy = [lat.verts[i][2][2] for i in inds]\n",
    "        plot!(fig, dx, dy, label=\"\", color=\"cyan\")\n",
    "    end\n",
    "\n",
    "    # plot vertices\n",
    "    scatter!(fig, x, y, aspect_ratio=1, label=\"\", color=\"red\")\n",
    "\n",
    "    # add numerical labels to the vertices, if needed\n",
    "    if dolabel\n",
    "        for (ind, loc) in lat.verts\n",
    "            annotate!(fig, loc[1], loc[2], ind)\n",
    "        end\n",
    "    end\n",
    "    return fig\n",
    "end"
   ]
  },
  {
   "cell_type": "markdown",
   "id": "e8768713-93b7-4f45-a763-41c1623b95b8",
   "metadata": {},
   "source": [
    "The tensorsin the definition of the AKLT lattice are defined using the following functions:"
   ]
  },
  {
   "cell_type": "code",
   "execution_count": null,
   "id": "4e21f9a4-f8e6-4ac0-966d-63208b431e32",
   "metadata": {},
   "outputs": [],
   "source": [
    "function AKLT_PEPS(verts::Vector{Tuple{Int64, Tuple{Float64, Float64}}}, bonds::Vector{Tuple{Tuple{Int64, Int64}, Tuple{Int64, Int64}}}, σ_boundary::Int64)\n",
    "    \"\"\"\n",
    "    Builds a PEPS tensor array of the AKLT model for a given set of vertices and the bonds between them, assuming a HoneycombLattice structure (i.e. three connections at most)\n",
    "    \"\"\"\n",
    "\n",
    "    @assert σ_boundary ∈ [1,2] \"The value of boundary virtual spins must be up (1) or down (2)\"\n",
    "    \n",
    "     #First, a Θ tensor per site. Θ tensors have 4 indices: σ,a,b,c\n",
    "    ψ = [projectionOp() for i in 1:length(verts)]\n",
    "\n",
    "    # multiply the tensors by the bond matrices: antisymmetric spin-1/2\n",
    "    Σ = zeros(2,2); Σ[1,2] = 1/sqrt(2); Σ[2,1] = -1/sqrt(2);\n",
    "    for bond in bonds\n",
    "        (ind, conn) = bond[1]\n",
    "        if conn == 1\n",
    "            @tensor B[σ,ap,b,c] := ψ[ind][σ,a,b,c] * Σ[a,ap]\n",
    "        elseif conn == 2\n",
    "            @tensor B[σ,a,bp,c] := ψ[ind][σ,a,b,c] * Σ[b,bp]\n",
    "        elseif conn == 3\n",
    "            @tensor B[σ,a,b,cp] := ψ[ind][σ,a,b,c] * Σ[c,cp]\n",
    "        end\n",
    "        ψ[ind] = B\n",
    "    end\n",
    "\n",
    "    # finally, set the boundary legs of each vertex to specific value, if needed\n",
    "    ψ_out = []\n",
    "    for (ind, A) in enumerate(ψ)\n",
    "        c, _ = countneighbors(verts, verts[ind], bonds)\n",
    "        if c == 0\n",
    "            push!(ψ_out, A[:,σ_boundary,σ_boundary,σ_boundary])\n",
    "        elseif c == 1\n",
    "            push!(ψ_out, A[:,:,σ_boundary,σ_boundary])\n",
    "        elseif c == 2\n",
    "            push!(ψ_out, A[:,:,:,σ_boundary])\n",
    "        elseif c == 3\n",
    "            push!(ψ_out, A[:,:,:,:])\n",
    "        end\n",
    "    end\n",
    "    return ψ_out\n",
    "end"
   ]
  },
  {
   "cell_type": "code",
   "execution_count": null,
   "id": "3d15655f-8f10-47e7-bcb7-34339ccb7656",
   "metadata": {},
   "outputs": [],
   "source": [
    "function projectionOp()\n",
    "    \"\"\"\n",
    "    Generates the Θ operators from theory\n",
    "    \"\"\"\n",
    "    Θ = zeros(4,2,2,2)\n",
    "    for a in 1:2\n",
    "        for b in 1:2\n",
    "            for c in 1:2\n",
    "                # if a+b+c==3 then a==1 && b==1 && c==1. The rest are similar\n",
    "                Θ[1,a,b,c] = (a+b+c == 3)\n",
    "                Θ[2,a,b,c] = (a+b+c == 4)/sqrt(3)\n",
    "                Θ[3,a,b,c] = (a+b+c == 5)/sqrt(3)\n",
    "                Θ[4,a,b,c] = (a+b+c == 6)\n",
    "            end\n",
    "        end\n",
    "    end\n",
    "    return Θ\n",
    "end"
   ]
  },
  {
   "cell_type": "code",
   "execution_count": null,
   "id": "8c155f11-86b0-4a70-9b7c-ba063d2fd7b8",
   "metadata": {},
   "outputs": [],
   "source": [
    "function countneighbors(verts::Vector{Tuple{Int64, Tuple{Float64, Float64}}}, vert::Tuple{Int64, Tuple{Float64, Float64}}, bonds::Vector{Tuple{Tuple{Int64, Int64}, Tuple{Int64, Int64}}})\n",
    "    \"\"\"\n",
    "    Counts the amount of neighbors a vertex `vert` has in the lattice\n",
    "    \"\"\"\n",
    "    c = 0\n",
    "    vert_bonds = []\n",
    "    (ind, loc) = vert\n",
    "    for bond in bonds\n",
    "        inds = [b[1] for b in bond]\n",
    "        if ind ∈ inds\n",
    "            c += 1\n",
    "            push!(vert_bonds, bond)\n",
    "        end\n",
    "    end\n",
    "    return c, vert_bonds\n",
    "end"
   ]
  },
  {
   "cell_type": "markdown",
   "id": "928668ff-7f34-4048-95d1-70c39f871c87",
   "metadata": {},
   "source": [
    "Let's plot some lattices:"
   ]
  },
  {
   "cell_type": "code",
   "execution_count": null,
   "id": "a7b0b0b9-3bc3-48f6-8467-33536eb245f1",
   "metadata": {},
   "outputs": [],
   "source": [
    "lat = LatticeAKLT(\"line\" ,1, (0.0,0.0), 1)\n",
    "fig = showlattice(scatter(), lat, false)\n",
    "lat = LatticeAKLT(\"hexagon\", 1, (2.0,3.0), 1)\n",
    "fig = showlattice(fig, lat, false)\n",
    "lat = LatticeAKLT(\"triple\",1, (5,3.0), 1)\n",
    "fig = showlattice(fig, lat, false)"
   ]
  },
  {
   "cell_type": "markdown",
   "id": "9a479702-a8ee-46ab-8cbb-366aa4fb68d3",
   "metadata": {},
   "source": [
    "I did not intend that to look like a face, but it's too funny for me to change it.\n",
    "\n",
    "Anyways, in the MPS case, we could use SVD to move the orthogonality center to a single site, and then the contraction of all of ther sites will be trivial. Unfortunately, this is not possible with PEPS, since the orthogonality center is not even well defined. So, we will have to perform full contraction each time. For example:"
   ]
  },
  {
   "cell_type": "code",
   "execution_count": null,
   "id": "3aaf43dd-8755-4b91-80cb-248d3df58af4",
   "metadata": {},
   "outputs": [],
   "source": [
    "Sz = diagm([3,1,-1,-3]./2)\n",
    "lat.shape = \"test\" # using the previous lattice structure as base\n",
    "lat.verts = [(1,(0.0,0.0)),(2,(1.0,1.0)),(3,(2.0,2.0))]\n",
    "lat.bonds = [((1,1),(2,1)) , ((2,2),(3,1))]\n",
    "lat.ψ = AKLT_PEPS(lat.verts, lat.bonds, 1)\n",
    "display(showlattice(scatter(), lat, true))\n",
    "\n",
    "# contacts the tensors fully\n",
    "@tensor ψ[σ1, σ2, σ3] := lat.ψ[1][σ1,a] * lat.ψ[2][σ2,a,b] * lat.ψ[3][σ3,b]\n",
    "@tensor Z = ψ[σ1, σ2, σ3] * ψ[σ1, σ2, σ3]\n",
    "@tensor O1 = ψ[σ1, σ2, σ3] * Sz[σ1,σ1p] * ψ[σ1p, σ2, σ3]\n",
    "@tensor O2 = ψ[σ1, σ2, σ3] * Sz[σ2,σ2p] * ψ[σ1, σ2p, σ3]\n",
    "@tensor O3 = ψ[σ1, σ2, σ3] * Sz[σ3,σ3p] * ψ[σ1, σ2, σ3p]\n",
    "\n",
    "# rescale and output\n",
    "[O1,O2,O3]./Z"
   ]
  },
  {
   "cell_type": "markdown",
   "id": "4101442e-1f59-4afc-be54-f26a593ba29b",
   "metadata": {},
   "source": [
    "Note that this is not the expected outcome (which is $[1,1/2,1]$), but this is fine: it's just a boundary condition effect, which can be seen clearly by the fact that the total spin on the lattice is $1+0.5+1=2.5$ as expected:"
   ]
  },
  {
   "cell_type": "code",
   "execution_count": null,
   "id": "5e442985-eb47-407d-8d22-f0a5179354e6",
   "metadata": {},
   "outputs": [],
   "source": [
    "sum([O1,O2,O3]./Z)"
   ]
  },
  {
   "cell_type": "markdown",
   "id": "d69536e6-98a7-4704-ae5b-fbe1712e9bbf",
   "metadata": {},
   "source": [
    "So, let's write a function which takes a lattice and calculates the expectation value for a given site, for the different geometries we created before:"
   ]
  },
  {
   "cell_type": "code",
   "execution_count": null,
   "id": "efa0f32e-cddf-423c-a528-fc50241cba8d",
   "metadata": {},
   "outputs": [],
   "source": [
    "function expect(lat::LatticeAKLT, Op::Matrix, ind::Int64)\n",
    "    \"\"\"\n",
    "    Calculates the expectatino value of the operator `Op` on site `ind` of lattice `lat`\n",
    "    \"\"\"\n",
    "    N = length(lat.verts)\n",
    "    @assert ind ∈ 1:N \"Invalid site index for expectation value of type \" * lat.shape\n",
    "\n",
    "    # each geometry is contracted differently:\n",
    "    if lat.shape == \"hexagon\"\n",
    "        # contract along the ring\n",
    "        @tensor ψ2[a,σ1,σ2,c]          := lat.ψ[1][σ1,a,b]       * lat.ψ[2][σ2,b,c]\n",
    "        @tensor ψ3[a,σ1,σ2,σ3,d]       := ψ2[a,σ1,σ2,c]          * lat.ψ[3][σ3,c,d]\n",
    "        @tensor ψ4[a,σ1,σ2,σ3,σ4,e]    := ψ3[a,σ1,σ2,σ3,d]       * lat.ψ[4][σ4,d,e]\n",
    "        @tensor ψ5[a,σ1,σ2,σ3,σ4,σ5,f] := ψ4[a,σ1,σ2,σ3,σ4,e]    * lat.ψ[5][σ5,e,f]\n",
    "        @tensor ψ[σ1,σ2,σ3,σ4,σ5,σ6]   := ψ5[a,σ1,σ2,σ3,σ4,σ5,f] * lat.ψ[6][σ6,f,a]\n",
    "\n",
    "        # moves the relevant dimension to be last\n",
    "        ψ = permutedims(ψ, circshift(1:length(size(ψ)), -ind))\n",
    "\n",
    "        # calculates expectaion value\n",
    "        @tensor Z = ψ[σ1,σ2,σ3,σ4,σ5,σ6] * ψ[σ1,σ2,σ3,σ4,σ5,σ6]\n",
    "        @tensor O = ψ[σ1,σ2,σ3,σ4,σ5,σ6] * Op[σ6,σ6p] * ψ[σ1,σ2,σ3,σ4,σ5,σ6p]\n",
    "    elseif lat.shape == \"triple\"\n",
    "        # contract all arms to center\n",
    "        @tensor ψ[σ1,σ2,σ3,σ4]  := lat.ψ[1][σ1,b,c,d] * lat.ψ[2][σ2,b] * lat.ψ[3][σ3,c] * lat.ψ[4][σ4,d]\n",
    "\n",
    "        # moves the relevant dimension to be last\n",
    "        ψ = permutedims(ψ, circshift(1:length(size(ψ)), -ind))\n",
    "        \n",
    "        # calculates expectaion value\n",
    "        @tensor Z = ψ[σ1,σ2,σ3,σ4] * ψ[σ1,σ2,σ3,σ4]\n",
    "        @tensor O = ψ[σ1,σ2,σ3,σ4] * Op[σ4,σ4p] * ψ[σ1,σ2,σ3,σ4p]\n",
    "    elseif lat.shape == \"line\"\n",
    "        num_verts = length(lat.verts)\n",
    "        ψ = lat.ψ[1]\n",
    "        for indi in 2:num_verts-1\n",
    "            ψ_old = reshape(ψ, 4^(indi-1), 2)\n",
    "            ψ = nothing\n",
    "            @tensor ψ[σi, σj, b] := ψ_old[σi,a] * lat.ψ[indi][σj,a,b]\n",
    "        end\n",
    "        ψ = reshape(ψ, 4^(num_verts-1), 2)\n",
    "        @tensor ψ_final[σrest,σend] := ψ[σrest,a] * lat.ψ[end][σend,a]\n",
    "        ψ = reshape(ψ_final, [4 for i in 1:num_verts]...)\n",
    "\n",
    "        # moves the relevant dimension to be last, and extracts it using reshape\n",
    "        ψ = permutedims(ψ, circshift(1:length(size(ψ)), -ind))\n",
    "        ψ = reshape(ψ, :, 4)\n",
    "        \n",
    "        # calculates expectaion value\n",
    "        @tensor Z = ψ[σrest, σi] * ψ[σrest, σi]\n",
    "        @tensor O = ψ[σrest, σi] * Op[σi, σip] * ψ[σrest, σip]\n",
    "    else\n",
    "        error(\"Expectation value calculation not implemented for lattice of type \" * lat.shape)\n",
    "    end\n",
    "    \n",
    "    return O/Z\n",
    "end"
   ]
  },
  {
   "cell_type": "markdown",
   "id": "e5810065-1348-4723-a7e6-29229ae7fe1a",
   "metadata": {},
   "source": [
    "and a function which plots the expectation value for each site:"
   ]
  },
  {
   "cell_type": "code",
   "execution_count": null,
   "id": "e5c5bf24-0930-4d4c-9870-721089ce010e",
   "metadata": {},
   "outputs": [],
   "source": [
    "function mapexpect(fig::Plots.Plot, lat::LatticeAKLT, Op::Matrix, dig::Int64)\n",
    "    \"\"\"\n",
    "    Loops over vertices and calculate the expectation value of `op` on each of them, then plots the result on `fig`\n",
    "    \"\"\"\n",
    "    fig = showlattice(fig, lat, false)\n",
    "    Olist = []\n",
    "    for (ind,loc) in lat.verts\n",
    "        O = expect(lat, Op, ind)\n",
    "        annotate!(fig, loc[1], loc[2], round(O, digits=dig))\n",
    "        push!(Olist, (ind, O))\n",
    "    end\n",
    "    return Olist, fig\n",
    "end"
   ]
  },
  {
   "cell_type": "markdown",
   "id": "183e530e-812f-4a9b-ad36-b886b325f757",
   "metadata": {},
   "source": [
    "We will check those functions on each of the possible lattice variations we have:"
   ]
  },
  {
   "cell_type": "code",
   "execution_count": null,
   "id": "dd7f59f1-e9a4-4709-a950-0e1be4161b9d",
   "metadata": {},
   "outputs": [],
   "source": [
    "a = 1.0\n",
    "σ_boundary = 1\n",
    "figlist = []\n",
    "for shape in [\"hexagon\", \"triple\", \"line\"]\n",
    "    lat = LatticeAKLT(shape ,a, (5.0,1.0), σ_boundary)\n",
    "    Sz = diagm([3,1,-1,-3]./2)\n",
    "    Olist, fig = mapexpect(plot(), lat, Sz, 2)\n",
    "    title!(fig, \"\\\"\" * shape * \"\\\" lattice, total Sz=\" * string(round(sum([O for (_,O) in Olist]), digits=1)))\n",
    "    push!(figlist, fig)\n",
    "end\n",
    "plot(figlist..., layout=(1,3), size=(1200,350))"
   ]
  },
  {
   "cell_type": "markdown",
   "id": "368203f0-b882-4e99-a503-37c27565c3c6",
   "metadata": {},
   "source": [
    "The most unusual case is the hexagonal case, in which we see no bonudary effects. This can be explained by noticing that all of the vertices are identical, thus the boundary effects even out and the result is equal spread of the spin along the chain. In each of the cases, the boundary effects cancel out and we get the correct total spin $S_z$."
   ]
  }
 ],
 "metadata": {
  "kernelspec": {
   "display_name": "Julia 1.10.0",
   "language": "julia",
   "name": "julia-1.10"
  },
  "language_info": {
   "file_extension": ".jl",
   "mimetype": "application/julia",
   "name": "julia",
   "version": "1.10.0"
  }
 },
 "nbformat": 4,
 "nbformat_minor": 5
}
