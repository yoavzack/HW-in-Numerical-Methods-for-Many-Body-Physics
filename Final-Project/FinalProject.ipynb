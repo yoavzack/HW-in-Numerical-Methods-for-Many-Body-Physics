{
 "cells": [
  {
   "cell_type": "markdown",
   "id": "00ca9387-68e7-4fcd-8d70-7d324c2b53a0",
   "metadata": {},
   "source": [
    "# Final Project: Honeycomb AKLT as PEPS"
   ]
  },
  {
   "cell_type": "markdown",
   "id": "3cf6c376-bc7c-43d3-9ba5-df5438a1c47e",
   "metadata": {},
   "source": [
    "Submitted by Yoav Zack, ID 211677398"
   ]
  },
  {
   "cell_type": "markdown",
   "id": "1d30fef6-1c4e-4366-9330-322bd27d7955",
   "metadata": {},
   "source": [
    "## `julia` Implementation"
   ]
  },
  {
   "cell_type": "markdown",
   "id": "90744418-428e-4830-9746-6cb5c607c78e",
   "metadata": {},
   "source": [
    "We will implement those two wave functions as PEPS in `julia` using `TensorOperations`:"
   ]
  },
  {
   "cell_type": "code",
   "execution_count": null,
   "id": "542c1d49-d237-4354-9c09-4102dd546a55",
   "metadata": {},
   "outputs": [],
   "source": [
    "using LinearAlgebra, TensorOperations, Plots, Printf, BenchmarkTools\n",
    "theme(:dracula)"
   ]
  },
  {
   "cell_type": "markdown",
   "id": "8f9f97db-7b7e-417b-b3ac-f44007afd595",
   "metadata": {},
   "source": [
    "First, we define the Honeycomb structure, and some useful functions on it:"
   ]
  },
  {
   "cell_type": "code",
   "execution_count": null,
   "id": "45b965e9-e337-4692-86fd-e4c5c8d8a3d7",
   "metadata": {},
   "outputs": [],
   "source": [
    "mutable struct HoneycombLattice\n",
    "    shape::String\n",
    "    a::Real\n",
    "    verts::Vector{Tuple{Int64, Tuple{Float64, Float64}}}\n",
    "    bonds::Vector{Tuple{Tuple{Int64, Int64}, Tuple{Int64, Int64}}}\n",
    "    ψ::Vector{Array{Float64}}\n",
    "\n",
    "    function HoneycombLattice(shape::String, a::Real, shift::Tuple, n::Integer, bc::String)\n",
    "        @assert shape ∈ (\"pyramid\", \"flower\", \"bricks\") \"Invalid lattice shape\"\n",
    "        @assert a > 0 \"Bond length `a` must be positive\"\n",
    "        @assert length(shift) == 2 \"Lattice shift must be of length 2\"\n",
    "        @assert n > 0 \"Lattice order `n` must be positive\"\n",
    "        @assert bc ∈ (\"periodic\", \"open\") \"Invalid lattice boundary condition\"\n",
    "\n",
    "        # define verts location based on lattice shape\n",
    "        if shape == \"pyramid\"\n",
    "            dx = a * sin(π/6)\n",
    "            dy = a * cos(π/6)\n",
    "            \n",
    "            locs = [(0.0, 0.0)]\n",
    "            for (i,x) in enumerate(range(start=dx, length=n, step=a+dx))\n",
    "                for y in range(-dy*i, stop=dy*i, length=i+1)\n",
    "                    append!(locs, [(-x,y), (-x-a,y)])\n",
    "                end\n",
    "            end\n",
    "        \n",
    "            for (j, y) in enumerate(range(start=-dy*(n-1), stop=dy*(n-1), length=n))\n",
    "                append!(locs, [(-n*(dx+a)-dx, y)])\n",
    "            end\n",
    "        elseif shape == \"bricks\"\n",
    "            @assert (n % 2 == 0) || (n == 1) \"Number of bricks must be 1 or an even number\"\n",
    "            if n == 1\n",
    "                locs = [(0.0, 0.0), (0.0, a), (2*a, 0.0), (a, a), (a, 0.0), (2*a, a)]\n",
    "            else\n",
    "                locs = [(0.0, 0.0), (0.0, a), (a, 2*a), (a, a)]\n",
    "                for i in 1:n\n",
    "                    if i%2==0\n",
    "                        append!(locs, [r.+(i-1).*(a,0) for r in [(a,2*a),(2*a,2*a),(2*a,a)]])\n",
    "                    else\n",
    "                        append!(locs, [r.+(i-1).*(a,0) for r in [(a,0),(2*a,0),(2*a,a)]])\n",
    "                    end\n",
    "                end\n",
    "            end            \n",
    "        end\n",
    "        \n",
    "        # add shift to vertex locations and define verts array\n",
    "        verts = [(ind, loc .+ shift) for (ind, loc) in enumerate(locs)]\n",
    "        \n",
    "        # detect bonds\n",
    "        bonds = detectbonds(verts, a, shape)\n",
    "\n",
    "        # fix boundary conditions\n",
    "        @assert bc == \"open\" \"Non-open boundary conditions not implemented yet\"\n",
    "        \n",
    "        # fill in tensors\n",
    "        ψ = AKLT_PEPS(verts, bonds)\n",
    "        \n",
    "        # create structure\n",
    "        new(shape, a, verts, bonds, ψ)\n",
    "    end\n",
    "end"
   ]
  },
  {
   "cell_type": "code",
   "execution_count": null,
   "id": "39a09b3a-9c02-4d3e-8090-d54a35e916da",
   "metadata": {},
   "outputs": [],
   "source": [
    "function detectbonds(verts::Vector{Tuple{Int64, Tuple{Float64, Float64}}}, a::Real, shape::String)\n",
    "    bonds = []\n",
    "    bond_count = ones(Int64, length(verts))\n",
    "    for vert in verts\n",
    "        (ind, loc) = vert\n",
    "        for (ind_j, loc_j) in nearestneighboors(verts[ind:end], vert, a)\n",
    "            if shape ==\"bricks\" && (ind_j == ind + 1 && ind % 3 == 1 && ind != 1)\n",
    "                continue\n",
    "            end\n",
    "            push!(bonds, ((ind, bond_count[ind]), (ind_j, bond_count[ind_j])))\n",
    "            bond_count[ind] += 1\n",
    "            bond_count[ind_j] += 1\n",
    "        end\n",
    "    end\n",
    "    bonds = Vector(Tuple.(bonds))\n",
    "    return bonds\n",
    "end"
   ]
  },
  {
   "cell_type": "code",
   "execution_count": null,
   "id": "662b571d-3399-41ff-9b46-36fb24e16451",
   "metadata": {},
   "outputs": [],
   "source": [
    "function nearestneighboors(verts::Vector{Tuple{Int64, Tuple{Float64, Float64}}}, vert::Tuple{Int64, Tuple{Float64, Float64}}, a::Real)\n",
    "    neighbors = []\n",
    "    (ind, loc) = vert\n",
    "    for (ind_i, loc_i) in verts\n",
    "        d = sum((loc .- loc_i).^2)\n",
    "        if abs(d - a) < 1e-1*a\n",
    "            push!(neighbors, (ind_i, loc_i))\n",
    "        end\n",
    "    end\n",
    "    return neighbors\n",
    "end"
   ]
  },
  {
   "cell_type": "code",
   "execution_count": null,
   "id": "df3d4e8d-f46d-4861-a887-12575420d461",
   "metadata": {},
   "outputs": [],
   "source": [
    "function showlattice(fig::Plots.Plot, lat::HoneycombLattice, dolabel::Bool)\n",
    "    x = [loc[1] for (ind, loc) in lat.verts]\n",
    "    y = [loc[2] for (ind, loc) in lat.verts]\n",
    "    for bond in lat.bonds\n",
    "        inds = [b[1] for b in bond]\n",
    "        dx = [lat.verts[i][2][1] for i in inds]\n",
    "        dy = [lat.verts[i][2][2] for i in inds]\n",
    "        plot!(fig, dx, dy, label=\"\", color=\"cyan\")\n",
    "    end\n",
    "    scatter!(fig, x, y, aspect_ratio=1, label=\"\", color=\"dark red\")\n",
    "\n",
    "    if dolabel\n",
    "        for (ind, loc) in lat.verts\n",
    "            annotate!(fig, loc[1], loc[2], ind)\n",
    "        end\n",
    "    end\n",
    "    return fig\n",
    "end"
   ]
  },
  {
   "cell_type": "markdown",
   "id": "e8768713-93b7-4f45-a763-41c1623b95b8",
   "metadata": {},
   "source": [
    "The tensors are defined using the following functions:"
   ]
  },
  {
   "cell_type": "code",
   "execution_count": null,
   "id": "4e21f9a4-f8e6-4ac0-966d-63208b431e32",
   "metadata": {},
   "outputs": [],
   "source": [
    "function AKLT_PEPS(verts::Vector{Tuple{Int64, Tuple{Float64, Float64}}}, bonds::Vector{Tuple{Tuple{Int64, Int64}, Tuple{Int64, Int64}}})\n",
    "    \"\"\"\n",
    "    Builds a PEPS tensor array of the AKLT model for a given set of vertices and the bonds between them, assuming a HoneycombLattice structure (i.e. three connections at most)\n",
    "    \"\"\"\n",
    "    \n",
    "     # adds a Θ tensor per site. Θ tensors have 4 indices: σ,a,b,c. The only real one is σ, the rest are virtual\n",
    "    ψ = [projectionOp() for i in 1:length(verts)]\n",
    "\n",
    "    # multiply the tensors by the bond matrices: antisymmetric spin-1/2\n",
    "    Σ = zeros(2,2); Σ[1,2] = 1/sqrt(2); Σ[2,1] = -1/sqrt(2);\n",
    "    for bond in bonds\n",
    "        (ind, conn) = bond[1]\n",
    "        A = ψ[ind]\n",
    "        if conn == 1\n",
    "            @tensor B[σ,ap,b,c] := A[σ,a,b,c] * Σ[a,ap]\n",
    "        elseif conn == 2\n",
    "            @tensor B[σ,a,bp,c] := A[σ,a,b,c] * Σ[b,bp]\n",
    "        elseif conn == 3\n",
    "            @tensor B[σ,a,b,cp] := A[σ,a,b,c] * Σ[c,cp]\n",
    "        end\n",
    "        ψ[ind] = B\n",
    "    end\n",
    "\n",
    "    # finally, set the boundary legs of each vertex to specific value, if needed\n",
    "    σ_sign = 2\n",
    "    for (ind, A) in enumerate(ψ)\n",
    "        c, _ = countneighbors(verts, verts[ind], bonds)\n",
    "        if c == 0\n",
    "            A = reshape(A[:,σ_sign,σ_sign,σ_sign], 4,1,1,1)\n",
    "        elseif c == 1\n",
    "            A = reshape(A[:,:,σ_sign,σ_sign], 4,2,1,1)\n",
    "        elseif c == 2\n",
    "            A = reshape(A[:,:,:,σ_sign], 4,2,2,1)\n",
    "        end\n",
    "        ψ[ind] = A\n",
    "    end\n",
    "    return ψ\n",
    "end"
   ]
  },
  {
   "cell_type": "code",
   "execution_count": null,
   "id": "3d15655f-8f10-47e7-bcb7-34339ccb7656",
   "metadata": {},
   "outputs": [],
   "source": [
    "function projectionOp()\n",
    "    Θ = zeros(4,2,2,2)\n",
    "    for a in 1:2\n",
    "        for b in 1:2\n",
    "            for c in 1:2\n",
    "                Θ[1,a,b,c] = (a+b+c == 3)\n",
    "                Θ[2,a,b,c] = (a+b+c == 4)/sqrt(3)\n",
    "                Θ[3,a,b,c] = (a+b+c == 5)/sqrt(3)\n",
    "                Θ[4,a,b,c] = (a+b+c == 6)\n",
    "            end\n",
    "        end\n",
    "    end\n",
    "    return Θ\n",
    "end"
   ]
  },
  {
   "cell_type": "code",
   "execution_count": null,
   "id": "8c155f11-86b0-4a70-9b7c-ba063d2fd7b8",
   "metadata": {},
   "outputs": [],
   "source": [
    "function countneighbors(verts::Vector{Tuple{Int64, Tuple{Float64, Float64}}}, vert::Tuple{Int64, Tuple{Float64, Float64}}, bonds::Vector{Tuple{Tuple{Int64, Int64}, Tuple{Int64, Int64}}})\n",
    "    c = 0\n",
    "    vert_bonds = []\n",
    "    (ind, loc) = vert\n",
    "    for bond in bonds\n",
    "        inds = [b[1] for b in bond]\n",
    "        if ind ∈ inds\n",
    "            c += 1\n",
    "            push!(vert_bonds, bond)\n",
    "        end\n",
    "    end\n",
    "    return c, vert_bonds\n",
    "end"
   ]
  },
  {
   "cell_type": "markdown",
   "id": "928668ff-7f34-4048-95d1-70c39f871c87",
   "metadata": {},
   "source": [
    "For example, here are two possible lattices:"
   ]
  },
  {
   "cell_type": "code",
   "execution_count": null,
   "id": "a7b0b0b9-3bc3-48f6-8467-33536eb245f1",
   "metadata": {},
   "outputs": [],
   "source": [
    "lat = HoneycombLattice(\"bricks\", 1, (5.0,1.0), 1, \"open\")\n",
    "fig = showlattice(scatter(), lat, true)"
   ]
  },
  {
   "cell_type": "code",
   "execution_count": null,
   "id": "e8937d51-958d-484f-8282-79cc0e8779ec",
   "metadata": {},
   "outputs": [],
   "source": [
    "lat = HoneycombLattice(\"pyramid\", 1, (5.0,1.0), 2, \"open\")\n",
    "fig = scatter()\n",
    "fig = showlattice(fig, lat, true)"
   ]
  },
  {
   "cell_type": "markdown",
   "id": "5b5df007-f4ce-478a-acb2-6657133a8db5",
   "metadata": {},
   "source": [
    "In order to verity that this is indeed only a factor, we will add a single site with only one connection, annd verify that it indeed has $〈S_z〉=\\pm 2\\cdot \\frac 23$, i.e. twice what is seen above:"
   ]
  },
  {
   "cell_type": "code",
   "execution_count": null,
   "id": "3aaf43dd-8755-4b91-80cb-248d3df58af4",
   "metadata": {},
   "outputs": [],
   "source": [
    "Sz = diagm([3,1,-1,-3]./2)\n",
    "I = diagm([1,1,1,1])\n",
    "lat.verts = [(1,(0.0,0.0)),(2,(1.0,0.0))]\n",
    "lat.bonds = [((1,1),(2,1))]\n",
    "lat.ψ = AKLT_PEPS(lat.verts, lat.bonds)\n",
    "@tensor g[σ1, σ2] := lat.ψ[1][σ1,a,1,1] * lat.ψ[2][σ2,a,1,1]\n",
    "display(g)\n",
    "@tensor sz = g[σ1,σ2] * Sz[σ1,a] * I[σ2,b] * g[a,b]\n",
    "@tensor n = g[σ1,σ2] * I[σ1,a] * I[σ2,b] * g[a,b]\n",
    "display(sz/n)\n",
    "fig, Olist = mapexpect(lat, Sz, 2)\n",
    "display(fig)"
   ]
  },
  {
   "cell_type": "code",
   "execution_count": null,
   "id": "3ce39d95-80e1-482b-b2ba-b156113dd49f",
   "metadata": {},
   "outputs": [],
   "source": []
  }
 ],
 "metadata": {
  "kernelspec": {
   "display_name": "Julia 1.10.3",
   "language": "julia",
   "name": "julia-1.10"
  },
  "language_info": {
   "file_extension": ".jl",
   "mimetype": "application/julia",
   "name": "julia",
   "version": "1.10.3"
  }
 },
 "nbformat": 4,
 "nbformat_minor": 5
}
