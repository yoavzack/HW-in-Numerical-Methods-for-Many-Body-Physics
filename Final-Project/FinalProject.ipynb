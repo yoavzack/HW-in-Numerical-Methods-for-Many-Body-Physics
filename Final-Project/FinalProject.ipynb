{
 "cells": [
  {
   "cell_type": "markdown",
   "id": "00ca9387-68e7-4fcd-8d70-7d324c2b53a0",
   "metadata": {},
   "source": [
    "# Final Project: Honeycomb AKLT as PEPS"
   ]
  },
  {
   "cell_type": "markdown",
   "id": "3cf6c376-bc7c-43d3-9ba5-df5438a1c47e",
   "metadata": {},
   "source": [
    "Submitted by Yoav Zack, ID 211677398"
   ]
  },
  {
   "cell_type": "markdown",
   "id": "1d30fef6-1c4e-4366-9330-322bd27d7955",
   "metadata": {},
   "source": [
    "## `julia` Implementation"
   ]
  },
  {
   "cell_type": "markdown",
   "id": "90744418-428e-4830-9746-6cb5c607c78e",
   "metadata": {},
   "source": [
    "We will implement those two wave functions as PEPS in `julia` using `TensorOperations`:"
   ]
  },
  {
   "cell_type": "code",
   "execution_count": null,
   "id": "542c1d49-d237-4354-9c09-4102dd546a55",
   "metadata": {},
   "outputs": [],
   "source": [
    "using LinearAlgebra, TensorOperations, Plots, Printf, BenchmarkTools"
   ]
  },
  {
   "cell_type": "markdown",
   "id": "8f9f97db-7b7e-417b-b3ac-f44007afd595",
   "metadata": {},
   "source": [
    "First, we define the Honeycomb structure, and some useful functions on it:"
   ]
  },
  {
   "cell_type": "code",
   "execution_count": null,
   "id": "f0b1dc59-4a92-4b0e-aa36-e11a322d5452",
   "metadata": {},
   "outputs": [],
   "source": [
    "struct HoneycombLattice\n",
    "    shape::String\n",
    "    a::Real\n",
    "    verts::Vector{Tuple{Int64, Tuple{Float64, Float64}}}\n",
    "    bonds::Vector{Tuple}\n",
    "    ψ#::Vector{Tuple{Integer, Array}}\n",
    "\n",
    "    function HoneycombLattice(shape::String, a::Real, shift::Tuple{Float64, Float64}, n::Integer, bc::String)\n",
    "        @assert shape ∈ (\"pyramid\", \"flower\", \"bricks\") \"Invalid lattice shape\"\n",
    "        @assert a > 0 \"Bond length `a` must be positive\"\n",
    "        @assert length(shift) == 2 \"Lattice shift must be of length 2\"\n",
    "        @assert n > 0 \"Lattice order `n` must be positive\"\n",
    "        @assert bc ∈ (\"periodic\", \"open\") \"Invalid lattice boundary condition\"\n",
    "\n",
    "        # define verts location based on lattice shape\n",
    "        if shape == \"pyramid\"\n",
    "            dx = a * sin(π/6)\n",
    "            dy = a * cos(π/6)\n",
    "            \n",
    "            locs = [(0.0, 0.0)]\n",
    "            for (i,x) in enumerate(range(start=dx, length=n, step=a+dx))\n",
    "                for y in range(-dy*i, stop=dy*i, length=i+1)\n",
    "                    append!(locs, [(-x,y), (-x-a,y)])\n",
    "                end\n",
    "            end\n",
    "        \n",
    "            for (j, y) in enumerate(range(start=-dy*(n-1), stop=dy*(n-1), length=n))\n",
    "                append!(locs, [(-n*(dx+a)-dx, y)])\n",
    "            end\n",
    "        elseif shape == \"bricks\"\n",
    "            if n == 1\n",
    "                locs = [(0.0, 0.0), (0.0, a), (2*a, 0.0), (a, a), (a, 0.0), (2*a, a)]\n",
    "            else\n",
    "                locs = [(0.0, 0.0), (0.0, a), (a, 2*a), (a, a)]\n",
    "                for i in 1:n\n",
    "                    if i%2==0\n",
    "                        append!(locs, [r.+(i-1).*(a,0) for r in [(a,2*a),(2*a,2*a),(2*a,a)]])\n",
    "                    else\n",
    "                        append!(locs, [r.+(i-1).*(a,0) for r in [(a,0),(2*a,0),(2*a,a)]])\n",
    "                    end\n",
    "                end\n",
    "            end\n",
    "            \n",
    "        elseif shape == \"flower\"\n",
    "            \n",
    "        end\n",
    "            \n",
    "        # add shift to vertex locations and define verts array\n",
    "        verts = [(ind, loc .+ shift) for (ind, loc) in enumerate(locs)]\n",
    "        \n",
    "        # detect bonds\n",
    "        bonds = detectbonds(verts, a)\n",
    "\n",
    "        # remove unwanted bonds in certain geometries\n",
    "        if shape == \"bricks\"\n",
    "            for (ind,bond) in enumerate(bonds)\n",
    "                if bond[2] == bond[1] + 1 && bond[1] % 3 == 1 && ind != 1\n",
    "                    deleteat!(bonds, ind)\n",
    "                end\n",
    "            end\n",
    "        end\n",
    "        \n",
    "        # create structure\n",
    "        new(shape, a, verts, bonds, 0)\n",
    "    end\n",
    "end\n",
    "\n",
    "function detectbonds(verts::Vector{Tuple{Int64, Tuple{Float64, Float64}}}, a::Real)\n",
    "    bonds = []\n",
    "    for vert in verts\n",
    "        (ind, loc) = vert\n",
    "        for (ind_i, loc_i) in nearestNeighboors(verts[ind:end], vert, a) #\n",
    "            push!(bonds, (ind, ind_i))\n",
    "        end\n",
    "    end\n",
    "    return bonds\n",
    "end\n",
    "\n",
    "function nearestNeighboors(verts::Vector{Tuple{Int64, Tuple{Float64, Float64}}}, vert::Tuple{Int64, Tuple{Float64, Float64}}, a::Real)\n",
    "    neighbors = []\n",
    "    (ind, loc) = vert\n",
    "    for (ind_i, loc_i) in verts\n",
    "        d = sum((loc .- loc_i).^2)\n",
    "        if abs(d - a) < 1e-1*a\n",
    "            push!(neighbors, (ind_i, loc_i))\n",
    "        end\n",
    "    end\n",
    "    return neighbors\n",
    "end\n",
    "\n",
    "function showlattice(fig::Plots.Plot, lat::HoneycombLattice, dolabel::Bool)\n",
    "    x = [loc[1] for (ind, loc) in lat.verts]\n",
    "    y = [loc[2] for (ind, loc) in lat.verts]\n",
    "    for b in lat.bonds\n",
    "        dx = [lat.verts[i][2][1] for i in b]\n",
    "        dy = [lat.verts[i][2][2] for i in b]\n",
    "        plot!(fig, dx, dy, label=\"\", color=\"blue\")\n",
    "    end\n",
    "    scatter!(fig, x, y, aspect_ratio=1, label=\"\", color=\"red\")\n",
    "\n",
    "    if dolabel\n",
    "        for (ind, loc) in lat.verts\n",
    "            annotate!(fig, loc[1], loc[2], ind)\n",
    "        end\n",
    "    end\n",
    "    return fig\n",
    "end"
   ]
  },
  {
   "cell_type": "code",
   "execution_count": null,
   "id": "a7b0b0b9-3bc3-48f6-8467-33536eb245f1",
   "metadata": {},
   "outputs": [],
   "source": [
    "lat = HoneycombLattice(\"bricks\", 1, (5.0,1.0), 1, \"open\")\n",
    "fig = scatter()\n",
    "fig = showlattice(fig, lat, true)"
   ]
  },
  {
   "cell_type": "code",
   "execution_count": null,
   "id": "e8937d51-958d-484f-8282-79cc0e8779ec",
   "metadata": {},
   "outputs": [],
   "source": [
    "lat = HoneycombLattice(\"pyramid\", 1, (5.0,1.0), 6, \"open\")\n",
    "fig = scatter()\n",
    "fig = showlattice(fig, lat, false)"
   ]
  },
  {
   "cell_type": "code",
   "execution_count": null,
   "id": "4e366ac4-be14-4b02-8a54-3bf4d1d18463",
   "metadata": {},
   "outputs": [],
   "source": []
  }
 ],
 "metadata": {
  "kernelspec": {
   "display_name": "Julia (8 threads) 1.10.0",
   "language": "julia",
   "name": "julia-_8-threads_-1.10"
  },
  "language_info": {
   "file_extension": ".jl",
   "mimetype": "application/julia",
   "name": "julia",
   "version": "1.10.0"
  }
 },
 "nbformat": 4,
 "nbformat_minor": 5
}
