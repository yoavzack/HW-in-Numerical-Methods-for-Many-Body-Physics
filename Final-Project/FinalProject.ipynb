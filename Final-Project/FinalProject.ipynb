{
 "cells": [
  {
   "cell_type": "markdown",
   "id": "00ca9387-68e7-4fcd-8d70-7d324c2b53a0",
   "metadata": {},
   "source": [
    "# Final Project: Honeycomb AKLT as PEPS"
   ]
  },
  {
   "cell_type": "markdown",
   "id": "3cf6c376-bc7c-43d3-9ba5-df5438a1c47e",
   "metadata": {},
   "source": [
    "Submitted by Yoav Zack, ID 211677398"
   ]
  },
  {
   "cell_type": "markdown",
   "id": "1d30fef6-1c4e-4366-9330-322bd27d7955",
   "metadata": {},
   "source": [
    "## `julia` Implementation"
   ]
  },
  {
   "cell_type": "markdown",
   "id": "90744418-428e-4830-9746-6cb5c607c78e",
   "metadata": {},
   "source": [
    "We will implement those two wave functions as PEPS in `julia` using `TensorOperations`:"
   ]
  },
  {
   "cell_type": "code",
   "execution_count": null,
   "id": "542c1d49-d237-4354-9c09-4102dd546a55",
   "metadata": {},
   "outputs": [],
   "source": [
    "using LinearAlgebra, TensorOperations, Plots, Printf"
   ]
  },
  {
   "cell_type": "markdown",
   "id": "6c23f2ed-0310-496f-8f53-8159eefc4e7c",
   "metadata": {},
   "source": [
    "We start by defining the $A^\\sigma$ matrices:"
   ]
  },
  {
   "cell_type": "code",
   "execution_count": null,
   "id": "d4adaffa-91dc-4b6f-814b-f018f48963b3",
   "metadata": {},
   "outputs": [],
   "source": [
    "Θ = zeros(4,2,2,2)\n",
    "Σ = zeros(2,2)\n",
    "A = zeros(4,2,2,2)\n",
    "\n",
    "# define Σ the singlet matrix\n",
    "Σ[1,2] = 1/sqrt(2); Σ[2,1] = -1/sqrt(2);\n",
    "\n",
    "# define Θ the projection operator\n",
    "for a in 1:2\n",
    "    for b in 1:2\n",
    "        for c in 1:2\n",
    "            Θ[1,a,b,c] = (a+b+c == 3)\n",
    "            Θ[2,a,b,c] = (a+b+c == 4)/sqrt(3)\n",
    "            Θ[3,a,b,c] = (a+b+c == 5)/sqrt(3)\n",
    "            Θ[4,a,b,c] = (a+b+c == 6)\n",
    "        end\n",
    "    end\n",
    "end\n",
    "\n",
    "# define A the total tensor\n",
    "for σ in 1:4\n",
    "    for b in 1:2\n",
    "        A[σ,:,b,:] = Θ[σ,:,b,:]*Σ*sqrt(6/10)\n",
    "    end\n",
    "end"
   ]
  },
  {
   "cell_type": "markdown",
   "id": "7f48ba83-92d2-4a2c-a0d6-8efc79caa28b",
   "metadata": {},
   "source": [
    "Local expectation values will be calculated using the following function:"
   ]
  },
  {
   "cell_type": "code",
   "execution_count": null,
   "id": "053e0bf7-8183-4b80-9a81-5364960e2bba",
   "metadata": {},
   "outputs": [],
   "source": [
    "function expect_local(ψi::Array{Real}, op::Matrix{Real})\n",
    "   Val = zeros(length(ψ))\n",
    "    for i in 1:length(ψ)\n",
    "        if length(size(ψ[1])[2:end])==1\n",
    "            @tensor A1_Sop[sp, la] := ψ[i][s, la] * S[s, sp]\n",
    "            @tensor V = A1_Sop[sp, la] * ψ[i][sp, la]\n",
    "        elseif length(size(ψ[1])[2:end])==2\n",
    "            @tensor A1_Sop[sp, la, lb] := ψ[i][s, la, lb] * S[s, sp]\n",
    "            @tensor V = A1_Sop[sp, la, lb] * ψ[i][sp, la, lb]\n",
    "        elseif length(size(ψ[1])[2:end])==3\n",
    "            @tensor A1_Sop[sp, la, lb, lc] := ψ[i][s, la, lb, lc] * S[s, sp]\n",
    "            @tensor V = A1_Sop[sp, la, lb, lc] * ψ[i][sp, la, lb, lc]\n",
    "        else\n",
    "            error(\"Invalid Tensor at ψ at index \", i)\n",
    "        end\n",
    "        Val[i] = V\n",
    "    end \n",
    "    return Val\n",
    "end"
   ]
  },
  {
   "cell_type": "code",
   "execution_count": null,
   "id": "09082057-0832-4677-a7d4-7b75487a7c28",
   "metadata": {
    "jupyter": {
     "source_hidden": true
    }
   },
   "outputs": [],
   "source": [
    "# @tensor TR[σ1,σ2,σ3,σ4,σ5,σ6,b1,b2,b3,b4,b5,b6] := \n",
    "#     A[σ1,c6,b1,c1] * A[σ2,c1,b2,c2] * A[σ3,c2,b3,c3] * A[σ4,c3,b4,c4] * A[σ5,c4,b5,c5] * A[σ6,c5,b6,c6]\n",
    "\n",
    "# @time @tensor Rop[σ1,σ2,σ3,σ4,σ5,σ6,b1,b2,b3,b4,b5,b6] := TR[σ1p,σ2,σ3,σ4,σ5,σ6,b1,b2,b3,b4,b5,b6] * S[σ1p, σ1];\n",
    "\n",
    "# @tensor S1 = [σ1,σ2,σ3,σ4,σ5,σ6,b1,b2,b3,b4,b5,b6] * \n",
    "#              S[σ1,σ1p]\n",
    "\n",
    "# S1 = 0\n",
    "# c = 0\n",
    "# for σ1 = 1:4^6\n",
    "#     σ1arr = [parse(Int64,σ)+1 for σ in string(σ1-1, base=4, pad=6)]\n",
    "#     println(c/8^12)\n",
    "#     for σ2 = 1:4^6\n",
    "#         σ2arr = [parse(Int64,σ)+1 for σ in string(σ2-1, base=4, pad=6)]\n",
    "#         for b1 = 1:2^6\n",
    "#             b1arr = [parse(Int64,b)+1 for b in string(b1-1, base=2, pad=6)]\n",
    "#             for b2 = 1:2^6\n",
    "#                 c += 1\n",
    "#                 b2arr = [parse(Int64,b)+1 for b in string(b2-1, base=2, pad=6)]\n",
    "                \n",
    "#                 # indices = zip(σ1arr, σ2arr, b1arr, b2arr)\n",
    "#                 TR1 = TR[σ1arr[1], σ1arr[2], σ1arr[3], σ1arr[4], σ1arr[5], σ1arr[6], b1arr[1], b1arr[2], b1arr[3], b1arr[4], b1arr[5], b1arr[6]]\n",
    "#                 TR2 = TR[σ2arr[1], σ2arr[2], σ2arr[3], σ2arr[4], σ2arr[5], σ2arr[6], b2arr[1], b2arr[2], b2arr[3], b2arr[4], b2arr[5], b2arr[6]]\n",
    "#                 S1 += TR1 * TR2 * S[σ1arr[1], σ2arr[1]]\n",
    "#             end\n",
    "#         end\n",
    "#     end\n",
    "# end\n",
    "# @show S1"
   ]
  },
  {
   "cell_type": "markdown",
   "id": "aac22982-6b2c-42eb-9ef7-6df03b8b8e53",
   "metadata": {},
   "source": [
    "In order to view the expected structure of the wave function and the resulting spins, we will define the following function to plot a Honeycomb structure:"
   ]
  },
  {
   "cell_type": "code",
   "execution_count": null,
   "id": "b1cab59c-8997-4b5a-8cb2-2a7426bacfc5",
   "metadata": {},
   "outputs": [],
   "source": [
    "function honeycomb_vert(n::Integer, a::Real)\n",
    "    @assert a > 0 \"Edge length must be positive\"\n",
    "    dx = a * sin(π/6)\n",
    "    dy = a * cos(π/6)\n",
    "    \n",
    "    verts = [(0.0, 0.0)]\n",
    "    for (i,x) in enumerate(range(start=dx, length=n, step=a+dx))\n",
    "        for y in range(-dy*i, stop=dy*i, length=i+1)\n",
    "            append!(verts, [(-x,y), (-x-a,y)])\n",
    "        end\n",
    "    end\n",
    "\n",
    "    for (j, y) in enumerate(range(start=-dy*(n-1), stop=dy*(n-1), length=n))\n",
    "        append!(verts, [(-n*(dx+a)-dx, y)])\n",
    "    end\n",
    "    \n",
    "    return verts\n",
    "end"
   ]
  },
  {
   "cell_type": "markdown",
   "id": "b5b242b5-f66e-43e8-a64f-c7348c32a4b9",
   "metadata": {},
   "source": [
    "We also need a function which gives for each point in the honeycomb the indices of its neighboors:"
   ]
  },
  {
   "cell_type": "code",
   "execution_count": null,
   "id": "7434b909-6369-4bf5-a6f0-ec6e4bd9b12b",
   "metadata": {},
   "outputs": [],
   "source": [
    "function honeycomb_neighboors()"
   ]
  },
  {
   "cell_type": "markdown",
   "id": "3181c5e7-0a3c-4785-b11e-f5b080be4193",
   "metadata": {},
   "source": [
    "Now that this exists, we can define out honeycomb:"
   ]
  },
  {
   "cell_type": "code",
   "execution_count": null,
   "id": "6891b7a8-3aa5-4fff-b085-a751ead3ed15",
   "metadata": {},
   "outputs": [],
   "source": [
    "for (x,y) in honeycomb_vert(5, 1)\n",
    "    @show x\n",
    "    @show y\n",
    "end"
   ]
  },
  {
   "cell_type": "code",
   "execution_count": null,
   "id": "0952bdf4-40fc-4612-817b-156d11d661e1",
   "metadata": {},
   "outputs": [],
   "source": [
    "a(k) = 1/(k+sin(π/6)*(k+1))\n",
    "plt = scatter()\n",
    "for k in range(2, stop=2, step=1)\n",
    "    scatter!(plt, honeycomb_vert(k, a(k)), aspect_ratio=:equal, label=\"\", marker=:circle)\n",
    "end\n",
    "display(plt)"
   ]
  },
  {
   "cell_type": "code",
   "execution_count": null,
   "id": "795d7fee-61ee-4813-8d76-5fe796833179",
   "metadata": {},
   "outputs": [],
   "source": [
    "ψ = [A[:,:,:,:] for i in 1:6]\n",
    "# S = diagm([3/2, 1/2, -1/2, -3/2])"
   ]
  },
  {
   "cell_type": "code",
   "execution_count": null,
   "id": "56894b42-9f47-4c93-bf9e-5d6e662cb172",
   "metadata": {},
   "outputs": [],
   "source": []
  }
 ],
 "metadata": {
  "kernelspec": {
   "display_name": "Julia (8 threads) 1.10.0",
   "language": "julia",
   "name": "julia-_8-threads_-1.10"
  },
  "language_info": {
   "file_extension": ".jl",
   "mimetype": "application/julia",
   "name": "julia",
   "version": "1.10.0"
  }
 },
 "nbformat": 4,
 "nbformat_minor": 5
}
