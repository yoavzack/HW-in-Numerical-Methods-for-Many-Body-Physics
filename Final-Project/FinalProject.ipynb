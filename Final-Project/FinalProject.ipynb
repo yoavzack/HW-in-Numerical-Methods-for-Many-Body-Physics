{
 "cells": [
  {
   "cell_type": "markdown",
   "id": "00ca9387-68e7-4fcd-8d70-7d324c2b53a0",
   "metadata": {},
   "source": [
    "# Final Project: Honeycomb AKLT as PEPS"
   ]
  },
  {
   "cell_type": "markdown",
   "id": "3cf6c376-bc7c-43d3-9ba5-df5438a1c47e",
   "metadata": {},
   "source": [
    "Submitted by Yoav Zack, ID 211677398"
   ]
  },
  {
   "cell_type": "markdown",
   "id": "1d30fef6-1c4e-4366-9330-322bd27d7955",
   "metadata": {},
   "source": [
    "## `julia` Implementation"
   ]
  },
  {
   "cell_type": "markdown",
   "id": "90744418-428e-4830-9746-6cb5c607c78e",
   "metadata": {},
   "source": [
    "We will implement those two wave functions as PEPS in `julia` using `TensorOperations`:"
   ]
  },
  {
   "cell_type": "code",
   "execution_count": null,
   "id": "542c1d49-d237-4354-9c09-4102dd546a55",
   "metadata": {},
   "outputs": [],
   "source": [
    "using LinearAlgebra, TensorOperations, Plots, Printf, BenchmarkTools"
   ]
  },
  {
   "cell_type": "markdown",
   "id": "8f9f97db-7b7e-417b-b3ac-f44007afd595",
   "metadata": {},
   "source": [
    "First, we define the Honeycomb structure, and some useful functions on it:"
   ]
  },
  {
   "cell_type": "code",
   "execution_count": null,
   "id": "45b965e9-e337-4692-86fd-e4c5c8d8a3d7",
   "metadata": {},
   "outputs": [],
   "source": [
    "struct HoneycombLattice\n",
    "    shape::String\n",
    "    a::Real\n",
    "    verts::Vector{Tuple{Int64, Tuple}}\n",
    "    bonds::Vector{Tuple}\n",
    "    ψ#::Vector{Tuple{Integer, Array}}\n",
    "\n",
    "    function HoneycombLattice(shape::String, a::Real, shift::Tuple, n::Integer, bc::String)\n",
    "        @assert shape ∈ (\"pyramid\", \"flower\", \"bricks\") \"Invalid lattice shape\"\n",
    "        @assert a > 0 \"Bond length `a` must be positive\"\n",
    "        @assert length(shift) == 2 \"Lattice shift must be of length 2\"\n",
    "        @assert n > 0 \"Lattice order `n` must be positive\"\n",
    "        @assert bc ∈ (\"periodic\", \"open\") \"Invalid lattice boundary condition\"\n",
    "\n",
    "        # define verts location based on lattice shape\n",
    "        if shape == \"pyramid\"\n",
    "            dx = a * sin(π/6)\n",
    "            dy = a * cos(π/6)\n",
    "            \n",
    "            locs = [(0.0, 0.0)]\n",
    "            for (i,x) in enumerate(range(start=dx, length=n, step=a+dx))\n",
    "                for y in range(-dy*i, stop=dy*i, length=i+1)\n",
    "                    append!(locs, [(-x,y), (-x-a,y)])\n",
    "                end\n",
    "            end\n",
    "        \n",
    "            for (j, y) in enumerate(range(start=-dy*(n-1), stop=dy*(n-1), length=n))\n",
    "                append!(locs, [(-n*(dx+a)-dx, y)])\n",
    "            end\n",
    "        elseif shape == \"bricks\"\n",
    "            if n == 1\n",
    "                locs = [(0.0, 0.0), (0.0, a), (2*a, 0.0), (a, a), (a, 0.0), (2*a, a)]\n",
    "            else\n",
    "                locs = [(0.0, 0.0), (0.0, a), (a, 2*a), (a, a)]\n",
    "                for i in 1:n\n",
    "                    if i%2==0\n",
    "                        append!(locs, [r.+(i-1).*(a,0) for r in [(a,2*a),(2*a,2*a),(2*a,a)]])\n",
    "                    else\n",
    "                        append!(locs, [r.+(i-1).*(a,0) for r in [(a,0),(2*a,0),(2*a,a)]])\n",
    "                    end\n",
    "                end\n",
    "            end\n",
    "            \n",
    "        elseif shape == \"flower\"\n",
    "            \n",
    "        end\n",
    "            \n",
    "        # add shift to vertex locations and define verts array\n",
    "        verts = [(ind, loc .+ shift) for (ind, loc) in enumerate(locs)]\n",
    "        \n",
    "        # detect bonds\n",
    "        bonds = detectbonds(verts, a, shape)\n",
    "\n",
    "        # fill in tensors\n",
    "        A = AKLT_PEPS()\n",
    "        missing = detectmissing(verts, bonds)\n",
    "        ψ = []\n",
    "        for (vert, miss) in zip(verts, missing)\n",
    "            (ind, loc) = vert\n",
    "            if length(miss) == 0\n",
    "                push!(ψ, A)\n",
    "            elseif length(miss) == 1\n",
    "                push!(ψ, A[:,:,:,1])\n",
    "            elseif length(miss) == 2\n",
    "                push!(ψ, A[:,:,1,1])\n",
    "            elseif length(miss) == 3\n",
    "                push!(ψ, A[:,1,1,1])\n",
    "            else\n",
    "                error(\"Invalid number of missing bonds from vertex \", ind)\n",
    "            end\n",
    "        end\n",
    "        \n",
    "        # create structure\n",
    "        new(shape, a, verts, bonds, ψ)\n",
    "    end\n",
    "end\n",
    "\n",
    "function detectbonds(verts::Vector{Tuple{Int64, Tuple{Float64, Float64}}}, a::Real, shape::String=nothing)\n",
    "    bonds = []\n",
    "    bond_count = ones(Int64, length(verts))\n",
    "    for vert in verts\n",
    "        (ind, loc) = vert\n",
    "        for (ind_j, loc_j) in nearestNeighboors(verts[ind:end], vert, a)\n",
    "            if shape ==\"bricks\" && (ind_j == ind + 1 && ind % 3 == 1 && ind != 1)\n",
    "                continue\n",
    "            end\n",
    "            push!(bonds, ((ind, bond_count[ind]), (ind_j, bond_count[ind_j])))\n",
    "            bond_count[ind] += 1\n",
    "            bond_count[ind_j] += 1\n",
    "        end\n",
    "    end\n",
    "    return bonds\n",
    "end\n",
    "\n",
    "function countneighbors(verts::Vector{Tuple{Int64, Tuple{Float64, Float64}}}, vert::Tuple{Int64, Tuple{Float64, Float64}}, bonds::Vector{Any})\n",
    "    c = 0\n",
    "    vert_bonds = []\n",
    "    (ind, loc) = vert\n",
    "    for bond in bonds\n",
    "        if ind ∈ bond\n",
    "            c += 1\n",
    "            push!(vert_bonds, bond)\n",
    "        end\n",
    "    end\n",
    "    return c, vert_bonds\n",
    "end\n",
    "\n",
    "function nearestNeighboors(verts::Vector{Tuple{Int64, Tuple{Float64, Float64}}}, vert::Tuple{Int64, Tuple{Float64, Float64}}, a::Real)\n",
    "    neighbors = []\n",
    "    (ind, loc) = vert\n",
    "    for (ind_i, loc_i) in verts\n",
    "        d = sum((loc .- loc_i).^2)\n",
    "        if abs(d - a) < 1e-1*a\n",
    "            push!(neighbors, (ind_i, loc_i))\n",
    "        end\n",
    "    end\n",
    "    return neighbors\n",
    "end\n",
    "\n",
    "function detectmissing(verts::Vector{Tuple{Int64, Tuple{Float64, Float64}}}, bonds::Vector{Any})\n",
    "    missing = [[1,2,3] for i in 1:length(verts)]\n",
    "    for bond in bonds\n",
    "        for (vert_ind, bond_ind) in bond\n",
    "            deleteat!(missing[vert_ind], findall(x->x==bond_ind,missing[vert_ind]))\n",
    "        end\n",
    "    end\n",
    "    return missing\n",
    "end\n",
    "\n",
    "function showlattice(fig::Plots.Plot, lat::HoneycombLattice, dolabel::Bool)\n",
    "    x = [loc[1] for (ind, loc) in lat.verts]\n",
    "    y = [loc[2] for (ind, loc) in lat.verts]\n",
    "    for bond in lat.bonds\n",
    "        inds = [b[1] for b in bond]\n",
    "        dx = [lat.verts[i][2][1] for i in inds]\n",
    "        dy = [lat.verts[i][2][2] for i in inds]\n",
    "        plot!(fig, dx, dy, label=\"\", color=\"blue\")\n",
    "    end\n",
    "    scatter!(fig, x, y, aspect_ratio=1, label=\"\", color=\"red\")\n",
    "\n",
    "    if dolabel\n",
    "        for (ind, loc) in lat.verts\n",
    "            annotate!(fig, loc[1], loc[2], ind)\n",
    "        end\n",
    "    end\n",
    "    return fig\n",
    "end"
   ]
  },
  {
   "cell_type": "markdown",
   "id": "e8768713-93b7-4f45-a763-41c1623b95b8",
   "metadata": {},
   "source": [
    "The tensors are defined using the following function:"
   ]
  },
  {
   "cell_type": "code",
   "execution_count": null,
   "id": "3d15655f-8f10-47e7-bcb7-34339ccb7656",
   "metadata": {},
   "outputs": [],
   "source": [
    "function AKLT_PEPS()\n",
    "    Θ = zeros(4,2,2,2)\n",
    "    Σ = zeros(2,2)\n",
    "    A = zeros(4,2,2,2)\n",
    "    \n",
    "    # define Σ the singlet matrix\n",
    "    Σ[1,2] = 1/sqrt(2); Σ[2,1] = -1/sqrt(2);\n",
    "    \n",
    "    # define Θ the projection operator\n",
    "    for a in 1:2\n",
    "        for b in 1:2\n",
    "            for c in 1:2\n",
    "                Θ[1,a,b,c] = (a+b+c == 3)\n",
    "                Θ[2,a,b,c] = (a+b+c == 4)/sqrt(3)\n",
    "                Θ[3,a,b,c] = (a+b+c == 5)/sqrt(3)\n",
    "                Θ[4,a,b,c] = (a+b+c == 6)\n",
    "            end\n",
    "        end\n",
    "    end\n",
    "    \n",
    "    # define A the total tensor\n",
    "    for σ in 1:4\n",
    "        for b in 1:2\n",
    "            A[σ,:,b,:] = Θ[σ,:,b,:]*Σ*sqrt(6/10)\n",
    "        end\n",
    "    end\n",
    "    return A\n",
    "end"
   ]
  },
  {
   "cell_type": "markdown",
   "id": "928668ff-7f34-4048-95d1-70c39f871c87",
   "metadata": {},
   "source": [
    "For example, here are two possible lattices:"
   ]
  },
  {
   "cell_type": "code",
   "execution_count": null,
   "id": "a7b0b0b9-3bc3-48f6-8467-33536eb245f1",
   "metadata": {},
   "outputs": [],
   "source": [
    "lat = HoneycombLattice(\"bricks\", 1, (5.0,1.0), 3, \"open\")\n",
    "fig = scatter()\n",
    "fig = showlattice(fig, lat, true)"
   ]
  },
  {
   "cell_type": "code",
   "execution_count": null,
   "id": "e8937d51-958d-484f-8282-79cc0e8779ec",
   "metadata": {},
   "outputs": [],
   "source": [
    "lat = HoneycombLattice(\"pyramid\", 1, (5.0,1.0), 2, \"open\")\n",
    "fig = scatter()\n",
    "fig = showlattice(fig, lat, true)"
   ]
  },
  {
   "cell_type": "markdown",
   "id": "53370d7f-02da-4f60-a15c-5bfa3df6dcb7",
   "metadata": {},
   "source": [
    "Next, in order to calculate local expectation values of a specific site, we need to orthogonalize the PEPS onto the site. This is done by contracting bonds of sites and then split them again using SVD. We start by writing soem useful functions:"
   ]
  },
  {
   "cell_type": "code",
   "execution_count": null,
   "id": "702cae2a-87d8-41a0-8db3-2c16550b07a8",
   "metadata": {},
   "outputs": [],
   "source": [
    "function bondtensor(ψ::HoneycombLattice, i::Int64)\n",
    "    \n",
    "end"
   ]
  },
  {
   "cell_type": "code",
   "execution_count": null,
   "id": "78937529-918b-4438-b10a-b1245252e16c",
   "metadata": {},
   "outputs": [],
   "source": []
  }
 ],
 "metadata": {
  "kernelspec": {
   "display_name": "Julia 1.10.2",
   "language": "julia",
   "name": "julia-1.10"
  },
  "language_info": {
   "file_extension": ".jl",
   "mimetype": "application/julia",
   "name": "julia",
   "version": "1.10.2"
  }
 },
 "nbformat": 4,
 "nbformat_minor": 5
}
