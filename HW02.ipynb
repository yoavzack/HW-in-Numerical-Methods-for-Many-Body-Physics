{
 "cells": [
  {
   "cell_type": "markdown",
   "id": "a2daeff4-e0f9-4aa8-bca0-f73b72af8e88",
   "metadata": {},
   "source": [
    "# Numerical Methods for Manu Body Physics, Assignment #2"
   ]
  },
  {
   "cell_type": "markdown",
   "id": "fd18413d-ec26-425a-928c-041cd6fbdb8e",
   "metadata": {},
   "source": [
    "Yoav Zack, ID 211677398"
   ]
  },
  {
   "cell_type": "markdown",
   "id": "7d618ca1-5c13-4a8a-b2ea-6a0a9379646b",
   "metadata": {},
   "source": [
    "## Question 1"
   ]
  },
  {
   "cell_type": "markdown",
   "id": "2445f374-8956-4ead-bb50-55f227939223",
   "metadata": {},
   "source": [
    "We want to calculate the entanglement entropy of a random state under the $A\\otimes B$ partition. A random state of the whole system is:\n",
    "$$\\ket{\\psi} = \\sum_{k} c_{k} \\ket{k}$$\n",
    "But under the bi-partition $A\\otimes B$  a state is of the following form:\n",
    "$$\\ket{\\psi} = \\sum_{i,j} \\Psi_{i,j} \\ket{i} \\ket{j}$$\n",
    "Where $\\ket{i}, \\ket{j}$ are elements in a basis for $A$ and $B$ respectively. So, to get such a representation of the state  we will write:\n",
    "$$\\sum_{k} c_{k} \\ket{k} = \\sum_{i,j} \\Psi_{i,j} \\ket{i} \\ket{j}$$\n",
    "Assuming the original basis $\\ket{k}$ is the standard spin basis and the new ones $\\ket{i}, \\ket{j}$ are the same but for the respective subsystems, we can write each state $\\ket{k}$ as $\\ket{i} \\otimes \\ket{j}$, where:\n",
    "$$i=\\sum_{n=1}^{L/2} 2^{k[2n]}\\; ; \\; i=\\sum_{n=1}^{L/2} 2^{k[2n-1]}$$\n",
    "where $k[n]$ is the $n$-th bit of the number $k$. Using this, we can write an expression for the matrix $\\Psi$ as $\\Psi_{i,j} = c_k$ assuming $i,j$ are defined as above."
   ]
  },
  {
   "cell_type": "markdown",
   "id": "71761781-e9a0-4545-a659-289f782d6745",
   "metadata": {},
   "source": [
    "After all of this is done, we can calculate the Von Neumann Entanglemnt entopy of the system by performing a Schmidt Decomposition (i.e. SVD) on the matrix $\\Psi_{ij}$, an summing the singular values $\\lambda_i$ in the following form:\n",
    "$$S = -\\sum_{i}\\lambda_{i} \\log \\lambda_{i}$$\n",
    "\n",
    "Let's do that in `julia`. First we import useful libraries:"
   ]
  },
  {
   "cell_type": "code",
   "execution_count": null,
   "id": "8aabb7ab-67a1-46d1-a7f7-692473ec443e",
   "metadata": {},
   "outputs": [],
   "source": [
    "using LinearAlgebra\n",
    "using Plots"
   ]
  },
  {
   "cell_type": "markdown",
   "id": "7b67042b-2788-4a11-adc2-089dab026bde",
   "metadata": {},
   "source": [
    "Then we define the bipartition of the wavefunction into two staggared chains:"
   ]
  },
  {
   "cell_type": "code",
   "execution_count": null,
   "id": "a3cabdb0-7d45-47ac-bfa4-c87a5b3857db",
   "metadata": {},
   "outputs": [],
   "source": [
    "function index2state(stateind::Integer, N::Integer)\n",
    "  return digits(stateind, base=2, pad=N)\n",
    "end"
   ]
  },
  {
   "cell_type": "code",
   "execution_count": null,
   "id": "11c8e9c3-6978-43df-9dc3-f7215001444e",
   "metadata": {},
   "outputs": [],
   "source": [
    "function staggared_bipartition(ψ::Vector{<:Number})\n",
    "    @assert abs(norm(ψ) - 1) < 1e-9 \"State not normalized\"\n",
    "    D = length(ψ)\n",
    "    L = log2(D)\n",
    "    @assert isinteger(L) \"Number of states must be a power of two\"\n",
    "    L = Int(L)\n",
    "    @assert isinteger(L/2) \"Number of spins must be even\"\n",
    "\n",
    "    r = sqrt(D)\n",
    "    @assert isinteger(r) \"Number of states must be a square number\"\n",
    "    r = Int(r)\n",
    "    \n",
    "    Ψ = zeros(r, r)\n",
    "    for k in range(0, length=D)\n",
    "        i = sum([(typeof(k)(1) << (2*n  ) & k) >> (n  ) for n in range(0, length=Int(L/2))])\n",
    "        j = sum([(typeof(k)(1) << (2*n+1) & k) >> (n+1) for n in range(0, length=Int(L/2))])\n",
    "        # @show index2state(k, L), index2state(i, L), index2state(j, L)\n",
    "        # @show k, i, j\n",
    "        Ψ[i+1,j+1] = ψ[k+1]\n",
    "    end\n",
    "    return Ψ\n",
    "end"
   ]
  },
  {
   "cell_type": "markdown",
   "id": "b404b470-15dc-4ffc-ad42-cb097ebe0b4b",
   "metadata": {},
   "source": [
    "And we define function which takes a wavefunction in the form of a vector and a bipartition function, performs the bipartition and calcualtes the Von-Neumann Entropy for that bypartition:"
   ]
  },
  {
   "cell_type": "code",
   "execution_count": null,
   "id": "12a999be-0228-43ae-a54a-44e7a0df9717",
   "metadata": {},
   "outputs": [],
   "source": [
    "function vn_entropy(ψ::Vector{<:Number}, bipartition::Function)\n",
    "    Ψ = bipartition(ψ)\n",
    "    return vn_entropy(Ψ)\n",
    "end\n",
    "\n",
    "function vn_entropy(Ψ::Matrix{<:Number})\n",
    "    S = svdvals(Ψ)\n",
    "    return sum(-S[S.!=0].^2 .* log.(S[S.!=0].^2))\n",
    "end"
   ]
  },
  {
   "cell_type": "markdown",
   "id": "f4e6bede-839e-4bdc-9a5d-63aff2c80a0f",
   "metadata": {},
   "source": [
    "We can test this function on all of the Bell States:"
   ]
  },
  {
   "cell_type": "code",
   "execution_count": null,
   "id": "0e44764c-e6ac-457f-b3ff-2ab8b4ba9228",
   "metadata": {},
   "outputs": [],
   "source": [
    "@show vn_entropy([1,0,0,1]/sqrt(2), staggared_bipartition);\n",
    "@show vn_entropy([1,0,0,-1]/sqrt(2), staggared_bipartition);\n",
    "@show vn_entropy([0,1,1,0]/sqrt(2), staggared_bipartition);\n",
    "@show vn_entropy([0,1,-1,0]/sqrt(2), staggared_bipartition);\n",
    "@show log(2);"
   ]
  },
  {
   "cell_type": "markdown",
   "id": "7c63fbe2-6c75-42a7-899c-9b3dbffa2e03",
   "metadata": {},
   "source": [
    "And as can be seen, all of them are equal to $\\ln 2$ as expected. We can also test this on a simple case of 10,000 random states on 10 spins:"
   ]
  },
  {
   "cell_type": "code",
   "execution_count": null,
   "id": "a9d7915e-1d4d-4fdf-ab51-f5b170cd2234",
   "metadata": {},
   "outputs": [],
   "source": [
    "N = 10000\n",
    "L = 4\n",
    "svn = zeros(N)\n",
    "for iter in range(1, length=N)\n",
    "    ψ = normalize(rand(2^L))\n",
    "    svn[iter] = vn_entropy(ψ, staggared_bipartition)\n",
    "end\n",
    "histogram(svn, legend=nothing, xlabel=\"Entanglement Entopy\", ylabel=\"Count\")"
   ]
  },
  {
   "cell_type": "code",
   "execution_count": null,
   "id": "5c72c1fd-df2d-4647-9581-957f2180cf38",
   "metadata": {},
   "outputs": [],
   "source": []
  }
 ],
 "metadata": {
  "kernelspec": {
   "display_name": "Julia 1.10.0",
   "language": "julia",
   "name": "julia-1.10"
  },
  "language_info": {
   "file_extension": ".jl",
   "mimetype": "application/julia",
   "name": "julia",
   "version": "1.10.0"
  }
 },
 "nbformat": 4,
 "nbformat_minor": 5
}
