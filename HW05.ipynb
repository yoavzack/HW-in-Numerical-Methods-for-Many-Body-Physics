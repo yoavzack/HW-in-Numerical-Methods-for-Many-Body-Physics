{
 "cells": [
  {
   "cell_type": "markdown",
   "id": "8f93c65e-9214-405a-aaab-f44a94c5946b",
   "metadata": {},
   "source": [
    "# Numerical Methods for Manu Body Physics, Assignment #5"
   ]
  },
  {
   "cell_type": "markdown",
   "id": "271ce37e-1780-453b-b9c9-dbc5ea4b978c",
   "metadata": {},
   "source": [
    "Yoav Zack, ID 211677398"
   ]
  },
  {
   "cell_type": "code",
   "execution_count": null,
   "id": "ba7e561b-d939-468e-86fa-0a702d6b7148",
   "metadata": {},
   "outputs": [],
   "source": [
    "using LinearAlgebra\n",
    "using Statistics\n",
    "using Plots\n",
    "using Printf\n",
    "using LsqFit\n",
    "using Random\n",
    "theme(:default)"
   ]
  },
  {
   "cell_type": "markdown",
   "id": "1cd82e40-2e23-487c-abf7-365ae23dbbd5",
   "metadata": {},
   "source": [
    "## Question 1: 1D Quantum TFIM"
   ]
  },
  {
   "cell_type": "markdown",
   "id": "c138b18c-a0b5-430f-9526-62919c209f81",
   "metadata": {},
   "source": [
    "### 1. Wolff Algorithm"
   ]
  },
  {
   "cell_type": "markdown",
   "id": "d349d047-07c8-40c4-96aa-4b5ea5cac487",
   "metadata": {},
   "source": [
    "First, we import all of the relevant code from the last assignment, and modify it to include non-isotropic interaction:"
   ]
  },
  {
   "cell_type": "code",
   "execution_count": null,
   "id": "7b1aa14c-a0ee-4465-a8a8-6b4b2c4a49e7",
   "metadata": {},
   "outputs": [],
   "source": [
    "struct Lattice2D\n",
    "    N1::Integer\n",
    "    N2::Integer\n",
    "    lattice::Matrix{Int64}\n",
    "    J1::Real\n",
    "    J2::Real\n",
    "    beta::Real\n",
    "    bc::String\n",
    "    \n",
    "    function Lattice2D(N1::Integer, N2::Integer, J1::Real, J2::Real, T::Real, bc::String)\n",
    "        @assert N1 > 0 \"Lattice size must be positive integer\"\n",
    "        @assert N2 > 0 \"Lattice size must be positive integer\"\n",
    "        @assert J1 > 0 \"Interaction coefficient J1 must be positive\"\n",
    "        @assert J2 > 0 \"Interaction coefficient J2 must be positive\"\n",
    "        @assert T > 0 \"Temperature must be positive\"\n",
    "\n",
    "        if !(bc in [\"periodic\", \"closed\"])\n",
    "            error(\"Boundacy conditions are either periodic or closed\")\n",
    "        end\n",
    "        \n",
    "        beta = 1. / T\n",
    "        lattice = rand(0:1, N1, N2)\n",
    "        new(N1, N2, lattice, J1, J2, beta, bc)\n",
    "    end\n",
    "end"
   ]
  },
  {
   "cell_type": "code",
   "execution_count": null,
   "id": "25bce836-6c7b-4e7e-85c4-0595b225b1cf",
   "metadata": {},
   "outputs": [],
   "source": [
    "function showLattice(lattice::Matrix, T::Real)\n",
    "    N1 = size(lattice)[1]\n",
    "    N2 = size(lattice)[2]\n",
    "    h = heatmap(lattice, c=:nuuk, colorbar=nothing)\n",
    "    heatmap!(h, xlim=(0.5,N2+0.5), ylim=(0.5,N1+0.5), xticks=0, yticks=0)\n",
    "    heatmap!(h, aspect_ratio=:equal, frame=:on)\n",
    "    heatmap!(h, title=@sprintf(\"N=%d×%d, T=%.2f\", N1, N2, T))\n",
    "    return h\n",
    "end"
   ]
  },
  {
   "cell_type": "code",
   "execution_count": null,
   "id": "c001295a-631a-41c5-a3d5-66f82117ca6f",
   "metadata": {},
   "outputs": [],
   "source": [
    "function nearestNeighboors(i::Integer, j::Integer, lat::Lattice2D)\n",
    "    N1 = lat.N1\n",
    "    N2 = lat.N2\n",
    "    if lat.bc == \"periodic\"\n",
    "        i = (i-1 % N1) + 1\n",
    "        j = (j-1 % N2) + 1\n",
    "    end\n",
    "\n",
    "    @assert i >= 1 && j >= 1 && i <= N1 && j <= N2 \"Invalid spin index\"\n",
    "    neighboors = [\n",
    "        ((i+1,j), \"y\"),\n",
    "        ((i-1,j), \"y\"),\n",
    "        ((i,j+1), \"x\"),\n",
    "        ((i,j-1), \"x\")\n",
    "    ]\n",
    "    \n",
    "    if lat.bc == \"periodic\"\n",
    "        return [( (mod(x-1,N1),mod(y-1,N2)).+1, d ) for ((x,y),d) in neighboors]\n",
    "    elseif lat.bc == \"closed\"\n",
    "        return [((x,y), d) for ((x,y), d) in neighboors if (x>=1) && (y>=1) && (x<=N1) && (y<=N2)]\n",
    "    else\n",
    "        error(\"Invalid boundary condition in nearestNeighboors()\")\n",
    "    end\n",
    "end"
   ]
  },
  {
   "cell_type": "code",
   "execution_count": null,
   "id": "f8c9a4ef-f55a-42f6-ba20-51627c909279",
   "metadata": {},
   "outputs": [],
   "source": [
    "function selectCluster(i::Integer, j::Integer, lat::Lattice2D)\n",
    "    cluster = [(i,j)]\n",
    "    queue = nearestNeighboors(i, j, lat)\n",
    "    \n",
    "    spini = lat.lattice[i,j]\n",
    "    while !isempty(queue)\n",
    "        (sj, dir) = pop!(queue)\n",
    "        if sj in cluster\n",
    "            continue\n",
    "        end\n",
    "        spinj = lat.lattice[sj[1], sj[2]]\n",
    "        @assert dir in [\"x\", \"y\"] \"Invalid neightboor direction\"\n",
    "\n",
    "        if dir == \"y\"\n",
    "            p = 1 - exp(-2*lat.beta*lat.J1)\n",
    "        else\n",
    "            p = 1 - exp(-2*lat.beta*lat.J2)\n",
    "        end\n",
    "        \n",
    "        if spini == spinj && rand() <= p\n",
    "            push!(cluster, sj)\n",
    "            append!(queue, nearestNeighboors(sj[1], sj[2], lat))\n",
    "        end\n",
    "    end\n",
    "\n",
    "    return cluster\n",
    "end"
   ]
  },
  {
   "cell_type": "code",
   "execution_count": null,
   "id": "d0282a30-ebed-47e1-b29c-f1edf876b24c",
   "metadata": {},
   "outputs": [],
   "source": [
    "function iterationWolff!(lat::Lattice2D)\n",
    "    i = rand(1:lat.N1)\n",
    "    j = rand(1:lat.N2)\n",
    "\n",
    "    cluster = selectCluster(i, j, lat)\n",
    "    \n",
    "    for s in cluster\n",
    "        lat.lattice[s[1], s[2]] = 1 - lat.lattice[s[1], s[2]]\n",
    "    end\n",
    "end"
   ]
  },
  {
   "cell_type": "code",
   "execution_count": null,
   "id": "341a81db-6704-4ded-908b-19e0aca1a105",
   "metadata": {},
   "outputs": [],
   "source": [
    "function magnetization(lat::Lattice2D)\n",
    "    m = mean(2 .* lat.lattice .- 1)\n",
    "    return m\n",
    "end"
   ]
  },
  {
   "cell_type": "code",
   "execution_count": null,
   "id": "01fb0d80-68f5-4276-9bbe-f78cf9259771",
   "metadata": {},
   "outputs": [],
   "source": [
    "function WolffIsing(N1::Integer, N2::Integer, J1::Real, J2::Real, T::Real, Nsw::Integer, bc::String, f=nothing)\n",
    "    lat = Lattice2D(N1, N2, J1, J2, T, bc)\n",
    "\n",
    "    m = zeros(Nsw)\n",
    "    m[1] = magnetization(lat)\n",
    "    if f != nothing\n",
    "        @assert typeof(f)<:Function \"Invalid function in WolffXY\"\n",
    "        farr = Array{Any}(undef, Nsw)\n",
    "    end\n",
    "    \n",
    "    for i in 2:Nsw\n",
    "        iterationWolff!(lat)\n",
    "        m[i] = magnetization(lat)\n",
    "        if f != nothing\n",
    "            farr[i] = f(lat)\n",
    "        end\n",
    "    end\n",
    "\n",
    "    if f != nothing\n",
    "        return lat, m, farr\n",
    "    else\n",
    "        return lat, m\n",
    "    end\n",
    "end"
   ]
  },
  {
   "cell_type": "markdown",
   "id": "e8c30ba9-0e8c-40c8-9dcf-92981417e537",
   "metadata": {},
   "source": [
    "As a simple test, let's simulate three cases - isotropic, vertical-only and horizontal-only interactions. We will stop the simulation before equalibration, to observe the anisotropy clearly:"
   ]
  },
  {
   "cell_type": "code",
   "execution_count": null,
   "id": "c1b2f87f-2d4e-4616-936e-b51345951e0e",
   "metadata": {},
   "outputs": [],
   "source": [
    "# common parameters\n",
    "N = 32\n",
    "T = 0.1\n",
    "Nsw = 2^9\n",
    "\n",
    "plist = []\n",
    "@time lat_i, m = WolffIsing(N, Int(3*N/4), 1.0, 1.0, T, Nsw, \"periodic\")\n",
    "push!(plist, plot(abs.(m), xaxis=\"log\", title=\"Isotropic\"))\n",
    "@time lat_x, m = WolffIsing(N, Int(3*N/4), 1.0, 1e-6, T, Nsw, \"periodic\")\n",
    "push!(plist, plot(abs.(m), xaxis=\"log\", title=\"Vertical Interaction\"))\n",
    "@time lat_y, m = WolffIsing(N, Int(3*N/4), 1e-6, 1.0, T, Nsw, \"periodic\")\n",
    "push!(plist, plot(abs.(m), xaxis=\"log\", title=\"Horizontal Interaction\"));"
   ]
  },
  {
   "cell_type": "code",
   "execution_count": null,
   "id": "70bbcf57-63c6-4060-9d90-c82ad51b082d",
   "metadata": {},
   "outputs": [],
   "source": [
    "hi = showLattice(lat_i.lattice, T)\n",
    "hx = showLattice(lat_x.lattice, T)\n",
    "hy = showLattice(lat_y.lattice, T)\n",
    "hlist = [hi, hx, hy]\n",
    "display(plot(plist..., layout=(1,3), size=(800, 200)))\n",
    "display(plot(hlist..., layout=(1,3), size=(800, 390)))"
   ]
  },
  {
   "cell_type": "markdown",
   "id": "dcb45ead-d4fa-4c42-b731-e6ab13d3d056",
   "metadata": {},
   "source": [
    "From these plots we can indeed observe the anisotropy of the model. Now that we know the model works, we will follow section (2) of the question and try to calculate the magnetization of the Q-TFIM as a function of $h/J$, by writing a wrapper that converts a 1D Q-TFIM into a 2D anisotropic Ising model:"
   ]
  },
  {
   "cell_type": "code",
   "execution_count": null,
   "id": "eed76083-8ff8-4c49-9ad5-60f93ba04f97",
   "metadata": {},
   "outputs": [],
   "source": [
    "function QTFIM(N::Integer, T::Real, J::Real, h::Real, Δτ::Real, f=nothing)\n",
    "    β = 1/T\n",
    "    Nx = N\n",
    "    Nτ = β/Δτ\n",
    "    @assert Nτ % 1 == 0 \"Invalid β/Δτ Values\"\n",
    "    Nτ = Int(Nτ)\n",
    "    Jx = J*Δτ\n",
    "    Jτ = 1/2 * log(coth(Δτ*h))\n",
    "\n",
    "    Nsw = 2^11# * Nx * Nτ\n",
    "\n",
    "    return WolffIsing(Nx, Nτ, Jx, Jτ, 1, Nsw, \"periodic\", f)\n",
    "    \n",
    "end"
   ]
  },
  {
   "cell_type": "markdown",
   "id": "9a68b265-9ac9-4587-bbae-56c3aa063cdd",
   "metadata": {},
   "source": [
    "Now we use this wrapper function to simulate the phase transition as instructed:"
   ]
  },
  {
   "cell_type": "code",
   "execution_count": null,
   "id": "d35f3a41-08a4-4e91-9cd8-6ee4fbb27a69",
   "metadata": {},
   "outputs": [],
   "source": [
    "Nlist = [8, 16, 32]\n",
    "hlist = range(0.8, stop=1.2, step=.1)\n",
    "T = 0.1\n",
    "J = 1.0\n",
    "Δτ = 0.1\n",
    "\n",
    "# multithreading\n",
    "dimN = length(Nlist)\n",
    "dimh = length(hlist)\n",
    "dimTotal = dimN * dimh\n",
    "\n",
    "# log arrays\n",
    "latlist = Array{Any}(undef, length(Nlist), length(hlist))\n",
    "mlist = Array{Any}(undef, length(Nlist), length(hlist))\n",
    "\n",
    "# loop over all required temperatures and sizes\n",
    "@time Threads.@threads for ind in 1:dimTotal\n",
    "    # load data from lists\n",
    "    Nind = mod(ind - 1, dimN) + 1\n",
    "    hind = Int((ind - Nind)/dimN + 1)\n",
    "    N = Nlist[Nind]\n",
    "    h = hlist[hind]\n",
    "\n",
    "    # simulate\n",
    "    @time (lat, m) = QTFIM(N, T, J, h, Δτ)\n",
    "\n",
    "    # log\n",
    "    latlist[Nind, hind] = lat\n",
    "    mlist[Nind, hind] = m\n",
    "end"
   ]
  },
  {
   "cell_type": "code",
   "execution_count": null,
   "id": "3be10166-51e8-4a1b-8ac9-30021b2ea653",
   "metadata": {},
   "outputs": [],
   "source": [
    "mbar = Array{Real}(undef, dimN, dimh)\n",
    "for (Nind, N) in enumerate(Nlist)\n",
    "    for (hind, h) in enumerate(hlist)\n",
    "        lstart = Int(length(mlist[Nind,hind])/2)\n",
    "        m = abs.(mlist[Nind,hind][lstart:end])\n",
    "        mbar[Nind, hind] = mean(m)\n",
    "    end\n",
    "end\n",
    "\n",
    "plot(hlist, mbar', marker=:circle, label=Nlist')"
   ]
  },
  {
   "cell_type": "markdown",
   "id": "0d89ec0c-f512-473e-926a-859d41fa4299",
   "metadata": {},
   "source": [
    "And we can indeed see the drop in $m$ across the phase transition from ferromagnetic to paramagnetic states. Next, we calculate the binder cumulant:"
   ]
  },
  {
   "cell_type": "code",
   "execution_count": null,
   "id": "26c2f373-b99b-4ce1-a3c8-2fee483a4766",
   "metadata": {},
   "outputs": [],
   "source": [
    "Ubar = Array{Real}(undef, dimN, dimh)\n",
    "for (Nind, N) in enumerate(Nlist)\n",
    "    for (hind, h) in enumerate(hlist)\n",
    "        lstart = Int(length(mlist[Nind,hind])/2)\n",
    "        m = abs.(mlist[Nind,hind][lstart:end])\n",
    "        Ubar[Nind, hind] = 3/2*(1-1/3*mean(m.^4)/mean(m.^2)^2)\n",
    "    end\n",
    "end\n",
    "\n",
    "plot(hlist, Ubar', marker=:circle, label=Nlist')"
   ]
  },
  {
   "cell_type": "markdown",
   "id": "ccd53fbb-1f0e-475f-b3af-4e6fe9739265",
   "metadata": {},
   "source": [
    "And we indeed see that the binder ratio of the three systems coincide at $h/J\\simeq 1$."
   ]
  },
  {
   "cell_type": "markdown",
   "id": "5f6b212e-f480-4ac1-9a43-63e4a738950f",
   "metadata": {},
   "source": [
    "# Question 2: 1D Heisenberg Model"
   ]
  },
  {
   "cell_type": "markdown",
   "id": "222acf85-9948-4f35-aa94-796a0038c5e5",
   "metadata": {},
   "source": []
  }
 ],
 "metadata": {
  "kernelspec": {
   "display_name": "Julia_4_threads 1.10.1",
   "language": "julia",
   "name": "julia_4_threads-1.10"
  },
  "language_info": {
   "file_extension": ".jl",
   "mimetype": "application/julia",
   "name": "julia",
   "version": "1.10.1"
  }
 },
 "nbformat": 4,
 "nbformat_minor": 5
}
