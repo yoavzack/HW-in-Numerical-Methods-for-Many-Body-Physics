{
 "cells": [
  {
   "cell_type": "markdown",
   "id": "eb69f8a9-db57-4fa5-a3f3-fe21decdae86",
   "metadata": {},
   "source": [
    "# Numerical Methods for Manu Body Physics, Assignment #4"
   ]
  },
  {
   "cell_type": "markdown",
   "id": "67922dca-2909-42ef-a9c7-55aac76d958f",
   "metadata": {},
   "source": [
    "Yoav Zack, ID 211677398"
   ]
  },
  {
   "cell_type": "code",
   "execution_count": 1,
   "id": "4be4945d-0038-4194-bdcb-852a79274f36",
   "metadata": {},
   "outputs": [],
   "source": [
    "using LinearAlgebra\n",
    "using Statistics\n",
    "using Plots\n",
    "using LsqFit\n",
    "using Printf\n",
    "theme(:dracula)"
   ]
  },
  {
   "cell_type": "code",
   "execution_count": null,
   "id": "de04291b-1159-4e0c-9402-a39a7a4e3ceb",
   "metadata": {},
   "outputs": [],
   "source": []
  }
 ],
 "metadata": {
  "kernelspec": {
   "display_name": "Julia_4_threads 1.10.1",
   "language": "julia",
   "name": "julia_4_threads-1.10"
  },
  "language_info": {
   "file_extension": ".jl",
   "mimetype": "application/julia",
   "name": "julia",
   "version": "1.10.1"
  }
 },
 "nbformat": 4,
 "nbformat_minor": 5
}
