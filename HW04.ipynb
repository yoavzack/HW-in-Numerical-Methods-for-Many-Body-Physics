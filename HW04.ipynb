{
 "cells": [
  {
   "cell_type": "markdown",
   "id": "eb69f8a9-db57-4fa5-a3f3-fe21decdae86",
   "metadata": {},
   "source": [
    "# Numerical Methods for Manu Body Physics, Assignment #4"
   ]
  },
  {
   "cell_type": "markdown",
   "id": "67922dca-2909-42ef-a9c7-55aac76d958f",
   "metadata": {},
   "source": [
    "Yoav Zack, ID 211677398"
   ]
  },
  {
   "cell_type": "code",
   "execution_count": null,
   "id": "4be4945d-0038-4194-bdcb-852a79274f36",
   "metadata": {},
   "outputs": [],
   "source": [
    "using LinearAlgebra\n",
    "using Statistics\n",
    "using Plots\n",
    "using Printf\n",
    "using LsqFit\n",
    "theme(:default)"
   ]
  },
  {
   "cell_type": "markdown",
   "id": "50c2bcb2-03ff-458a-9c57-859912c41378",
   "metadata": {},
   "source": [
    "## Question 1: 2D XY model and the Kosterlitz-Thouless transition"
   ]
  },
  {
   "cell_type": "markdown",
   "id": "97dfa4fc-2616-4ced-b22b-bac8fe0ad282",
   "metadata": {},
   "source": [
    "### 1. Wolff Algorithm"
   ]
  },
  {
   "cell_type": "markdown",
   "id": "b5e670d6-ef1d-42d7-b460-67489bde30d0",
   "metadata": {},
   "source": [
    "We want to implement a Monte-Carlo algorithm using Wolff Clusters for the 2D XY Model. In order to do so, we need the following functions:\n",
    "1. `WolffUpdate()` - Updates a grid of spins \n",
    "2. `selectCluster()` - Selects a cluster according to Wolff method\n",
    "3. `nearestNeighboors()` - Returns a list of nearest neighboors of a given site assuming given boundary conditions.\n",
    "\n",
    "It will be easier for us to work if some of the data will be stores ina a `Grid` structure, as follows:"
   ]
  },
  {
   "cell_type": "code",
   "execution_count": null,
   "id": "1df0dd01-4220-4b49-9d0f-40b10b5f5b1b",
   "metadata": {},
   "outputs": [],
   "source": [
    "struct Grid\n",
    "    N::Integer\n",
    "    grid::Matrix{Real}\n",
    "    J::Real\n",
    "    beta::Real\n",
    "    bc::String\n",
    "    \n",
    "    function Grid(N::Integer, J::Real, T::Real, bc::String)\n",
    "        @assert N > 0 \"Grid size must be positive integer\"\n",
    "        @assert J > 0 \"Interaction coefficient J must be positive\"\n",
    "        @assert T > 0 \"Temperature must be positive\"\n",
    "\n",
    "        if !(bc in [\"periodic\", \"closed\"])\n",
    "            error(\"Boundacy conditions are either periodic or closed\")\n",
    "        end\n",
    "        \n",
    "        beta = 1. / T\n",
    "        grid = (2*pi) .* rand(N,N)\n",
    "        new(N, grid, J, beta, bc)\n",
    "    end\n",
    "end"
   ]
  },
  {
   "cell_type": "markdown",
   "id": "e9db4968-600b-453f-8f37-383df3ac1e67",
   "metadata": {},
   "source": [
    "We will also define a simple function which plots the grid data ina a heatmap:"
   ]
  },
  {
   "cell_type": "code",
   "execution_count": null,
   "id": "d7e745f2-c2a8-4652-ad98-75ad59ba3b00",
   "metadata": {},
   "outputs": [],
   "source": [
    "function showGrid(grid::Matrix, T::Real)\n",
    "    N = size(grid)[1]\n",
    "    h = heatmap(grid, c=:cyclic_mygbm_30_95_c78_n256_s25, colorbar=nothing)\n",
    "    heatmap!(h, xlim=(1,N), ylim=(1,N), xticks=0, yticks=0)\n",
    "    heatmap!(h, aspect_ratio=:equal, frame=:on)\n",
    "    heatmap!(h, title=@sprintf(\"N=%d, T=%.2f\", N, T))\n",
    "    return h\n",
    "end"
   ]
  },
  {
   "cell_type": "markdown",
   "id": "4d7717a1-e232-47ce-a612-1e9083ff164f",
   "metadata": {},
   "source": [
    "Now, we can start working on the functions mentioned above. First, the `nearestNeighboors()` function:"
   ]
  },
  {
   "cell_type": "code",
   "execution_count": null,
   "id": "c4e640ec-833c-4d6f-93ff-61c1fc917c73",
   "metadata": {
    "scrolled": true
   },
   "outputs": [],
   "source": [
    "function nearestNeighboors(i::Integer, j::Integer, grid::Grid, dir::String)\n",
    "    N = grid.N\n",
    "    if grid.bc == \"periodic\"\n",
    "        i = (i-1 % N) + 1\n",
    "        j = (j-1 % N) + 1\n",
    "    end\n",
    "\n",
    "    @assert i >= 1 && j >= 1 && i <= N && j <= N \"Invalid spin index\"\n",
    "    neighboors = [(i+1,j), (i-1,j), (i,j+1), (i,j-1)]\n",
    "\n",
    "    @assert dir in [\"x\", \"y\", \"all\"] \"Invalid spin current direction \" * dir\n",
    "    if dir == \"x\"\n",
    "        neighboors = neighboors[1:2]\n",
    "    elseif dir == \"y\"\n",
    "        neighboors = neighboors[3:4]\n",
    "    end\n",
    "    \n",
    "    if grid.bc == \"periodic\"\n",
    "        return [mod.(a .- 1, N) .+ 1 for a in neighboors]\n",
    "    elseif grid.bc == \"closed\"\n",
    "        return [(x,y) for (x,y) in neighboors if (x>=1) && (y>=1) && (x<=N) && (y<=N)]\n",
    "    else\n",
    "        error(\"Invalid boundary condition in nearestNeighboors()\")\n",
    "    end\n",
    "end"
   ]
  },
  {
   "cell_type": "markdown",
   "id": "9598448b-87eb-4cd0-a2a5-2f4ad3b994c6",
   "metadata": {},
   "source": [
    "Notice that we solved it for both periodic and closed boundary conditions. Next, we work on the Wolff part - selecting a cluster. For it (and the next section), we will use the following identities:\n",
    "$$\n",
    "\\begin{array}{rl}\n",
    "\\vec{S}_{i} & =\\left(\\cos\\theta_{i},\\sin\\theta_{i}\\right)\\\\\n",
    "\\hat{e} & =\\left(\\cos\\theta_{e},\\sin\\theta_{e}\\right)\\\\\n",
    "\\vec{S}_{i}\\cdot\\hat{e} & =\\cos\\theta_{i}\\cos\\theta_{e}+\\sin\\theta_{i}\\sin\\theta_{e}=\\cos\\left(\\theta_{i}-\\theta_{e}\\right)\\\\\n",
    "\\vec{S}_{i}-2\\left(\\vec{S}_{i}\\cdot\\hat{e}\\right)\\hat{e} & =\\left(\\cos\\theta_{i},\\sin\\theta_{i}\\right)-2\\cos\\left(\\theta_{i}-\\theta_{e}\\right)\\left(\\cos\\theta_{e},\\sin\\theta_{e}\\right)\\\\\n",
    " & =\\left(-\\cos\\left(\\theta_{i}-2\\theta_{e}\\right),\\sin\\left(\\theta_{i}-2\\theta_{e}\\right)\\right)\\\\\n",
    " & =\\left(\\cos\\left(\\pi-\\theta_{i}+2\\theta_{e}\\right),\\sin\\left(\\pi-\\theta_{i}+2\\theta_{e}\\right)\\right)\n",
    "\\end{array}\n",
    "$$\n",
    "Thus the function for selecting a cluster is:"
   ]
  },
  {
   "cell_type": "code",
   "execution_count": null,
   "id": "1764e212-95e8-4b96-a521-0a4138d4f6a3",
   "metadata": {
    "scrolled": true
   },
   "outputs": [],
   "source": [
    "function selectCluster(thetae::Real, i::Integer, j::Integer, grid::Grid)\n",
    "    cluster = [(i,j)]\n",
    "    queue = nearestNeighboors(i, j, grid, \"all\")\n",
    "    \n",
    "    thetai = grid.grid[i,j]\n",
    "    prodi = cos(thetai - thetae)\n",
    "    while !isempty(queue)\n",
    "        s = pop!(queue)\n",
    "        if s in cluster\n",
    "            continue\n",
    "        end\n",
    "        thetaj = grid.grid[s[1], s[2]]\n",
    "        prodj = cos(thetaj - thetae)\n",
    "        p = 1 - exp(min(0, -2*grid.beta*grid.J*prodi*prodj))\n",
    "        \n",
    "        if rand() <= p\n",
    "            push!(cluster, s)\n",
    "            append!(queue, nearestNeighboors(s[1], s[2], grid, \"all\"))\n",
    "        end\n",
    "    end\n",
    "\n",
    "    return cluster\n",
    "end"
   ]
  },
  {
   "cell_type": "markdown",
   "id": "9ea5ae1f-1b2e-4396-a173-f9cbc1cb9a60",
   "metadata": {},
   "source": [
    "This gives us a list of indices to by sliced by. Next, we write a function which does a single Wolff spin flip according to the function given in the assignment and the previously done calculations:"
   ]
  },
  {
   "cell_type": "code",
   "execution_count": null,
   "id": "b07d1851-877b-4cea-b192-0ad6c33e9d12",
   "metadata": {},
   "outputs": [],
   "source": [
    "function iterationWolff!(grid::Grid)\n",
    "    i = rand(1:grid.N)\n",
    "    j = rand(1:grid.N)\n",
    "\n",
    "    thetae = (2*pi)*rand()\n",
    "    cluster = selectCluster(thetae, i, j, grid)\n",
    "    \n",
    "    for s in cluster\n",
    "        grid.grid[s[1], s[2]] = mod(pi - grid.grid[s[1], s[2]] + 2*thetae, 2*pi)\n",
    "    end\n",
    "end"
   ]
  },
  {
   "cell_type": "markdown",
   "id": "7fa43c72-8ac1-45f6-bd27-7ddfb14b225c",
   "metadata": {},
   "source": [
    "### 2. Autocorrelation Time"
   ]
  },
  {
   "cell_type": "markdown",
   "id": "5a815102-a36d-48f0-971d-b081e68699b5",
   "metadata": {},
   "source": [
    "Now we want to verify whether the autocorrelation and equlibration time for various system sizes and temperatures. We define a function to perform a complete simulation:"
   ]
  },
  {
   "cell_type": "code",
   "execution_count": null,
   "id": "588c1bd8-6d86-4e1a-a1f2-dcc240717ea5",
   "metadata": {},
   "outputs": [],
   "source": [
    "function WolffXY(N::Integer, J::Real, T::Real, Nsw::Integer, bc::String, f=nothing)\n",
    "    grid = Grid(N, J, T, bc)\n",
    "\n",
    "    m = zeros(Nsw)\n",
    "    m[1] = magnetizationXY(grid)\n",
    "    if f != nothing\n",
    "        @assert typeof(f)<:Function \"Invalid function in WolffXY\"\n",
    "        farr = Array{Any}(undef, Nsw)\n",
    "    end\n",
    "    \n",
    "    for i in 2:Nsw\n",
    "        iterationWolff!(grid)\n",
    "        m[i] = magnetizationXY(grid)\n",
    "        if f != nothing\n",
    "            farr[i] = f(grid)\n",
    "        end\n",
    "    end\n",
    "\n",
    "    if f != nothing\n",
    "        return grid, m, farr\n",
    "    else\n",
    "        return grid, m\n",
    "    end\n",
    "end"
   ]
  },
  {
   "cell_type": "markdown",
   "id": "190e4f61-c905-4d66-9e8b-6483b07578ad",
   "metadata": {},
   "source": [
    "Where `magnetizationXY()` is a function which calculates the magnitude of total magnetization in the grid:"
   ]
  },
  {
   "cell_type": "code",
   "execution_count": null,
   "id": "efe0cdf2-af21-4c0b-a2e4-a4de36df3e9d",
   "metadata": {},
   "outputs": [],
   "source": [
    "function magnetizationXY(grid::Grid)\n",
    "    vecs = [cos.(grid.grid), sin.(grid.grid)]\n",
    "    m = norm(mean.(vecs))\n",
    "    return m\n",
    "end"
   ]
  },
  {
   "cell_type": "markdown",
   "id": "ba7041df-5a91-4c39-8f95-9aadf4216204",
   "metadata": {},
   "source": [
    "To check the equilibration time we just plot the magnetization over time for the required sizes and temperatures:"
   ]
  },
  {
   "cell_type": "code",
   "execution_count": null,
   "id": "40136a20-5b01-431b-8b3c-abbdbbd056d7",
   "metadata": {},
   "outputs": [],
   "source": [
    "# physical constants\n",
    "Nlist = 16:8:32\n",
    "Tlist = [0.1, 1.0, 1.5]\n",
    "J = 1\n",
    "\n",
    "# iteration count\n",
    "Neq = 2^7\n",
    "Nsw = 2^13 + 2*Neq\n",
    "\n",
    "# multithreading\n",
    "dimT = length(Tlist)\n",
    "dimN = length(Nlist)\n",
    "dimTotal = dimT * dimN\n",
    "\n",
    "# log arrays\n",
    "Marr = zeros(length(Nlist), length(Tlist), Nsw)\n",
    "Sarr = Array{Any}(undef, length(Nlist), length(Tlist))\n",
    "\n",
    "# loop over all required temperatures and sizes\n",
    "@time Threads.@threads for ind in range(start=dimTotal, stop=1, length=dimTotal)\n",
    "    # load data from lists\n",
    "    ind = Int(ind)\n",
    "    Tind = mod(ind-1, dimT) + 1\n",
    "    \n",
    "    Nind = Int((ind - Tind) / dimT+1)\n",
    "\n",
    "    T = Tlist[Tind]\n",
    "    N = Nlist[Nind]\n",
    "    \n",
    "    # simulate\n",
    "    println(\"Simulating N=\", N, \" and T=\", T, \"...\")\n",
    "    grid, m = WolffXY(N, J, T, Nsw, \"closed\")\n",
    "    println(\"Done N=\", N, \" and T=\", T)\n",
    "\n",
    "    # log output\n",
    "    Marr[Nind, Tind, :] = m\n",
    "    Sarr[Nind, Tind] = grid.grid\n",
    "end"
   ]
  },
  {
   "cell_type": "code",
   "execution_count": null,
   "id": "14140728-aa25-4dca-a4ef-a65f43fa671d",
   "metadata": {},
   "outputs": [],
   "source": [
    "plist = []\n",
    "hlist = []\n",
    "for (Nind, N) in enumerate(Nlist)\n",
    "    plt = plot(ylabel=@sprintf(\"N=%d\", N), xlabel=(Nind==length(Nlist) ? \"Iteration\" : \"\"))\n",
    "    for (Tind, T) in enumerate(Tlist)\n",
    "        h = showGrid(Sarr[Nind, Tind], T)\n",
    "        plot!(plt, Marr[Nind, Tind, :], label=@sprintf(\"T=%.1f\",T), xaxis=:log)\n",
    "        push!(hlist, h)\n",
    "    end\n",
    "    push!(plist, plt)\n",
    "end\n",
    "\n",
    "magplot = plot(plist..., plot_title=\"Magnetization Magnitude\", ylims=(0, 1), layout=(3,1))\n",
    "mapplot = plot(hlist..., plot_title=\"Final States\", size=(600, 650), layout=(3,3))\n",
    "display(magplot)\n",
    "display(mapplot)"
   ]
  },
  {
   "cell_type": "markdown",
   "id": "f17597af-8532-4d2b-9bef-1e4a80b8cab3",
   "metadata": {},
   "source": [
    "We can see that in general the $T=0.1$ case results ina a more ordered structure, althought thermal fluctuations still can disrupt the order. The cases $T=1$ is disordered, and $T=1.5$ is more disordered still, but not by much. therefore I guess that $T_c$ is lower than $T=1$."
   ]
  },
  {
   "cell_type": "markdown",
   "id": "e6ded852-5c84-46b4-a023-2a3dd3676c2d",
   "metadata": {},
   "source": [
    "In order to estimate the autocorrelation time we will define the error function from the tutorial:"
   ]
  },
  {
   "cell_type": "code",
   "execution_count": null,
   "id": "b44a3f25-6d9b-4d65-aa57-43853c4f62c5",
   "metadata": {},
   "outputs": [],
   "source": [
    "function calculateError(m, Neq, Nsw, minSize)\n",
    "    err = Float64[]\n",
    "    Nsw2 = 2^Int(floor(log(2, Nsw-Neq))) # closest power of 2 smaller than number of sweeps after equilibration\n",
    "    ml = m[end-Nsw2+1:end]\n",
    "    while length(ml) > minSize\n",
    "        push!(err, std(ml)/sqrt(length(ml)-1))\n",
    "        ml = map(j -> mean(ml[2*j-1:2*j]), range(1,stop=div(length(ml),2)) )\n",
    "    end\n",
    "    return err\n",
    "end"
   ]
  },
  {
   "cell_type": "markdown",
   "id": "b0cd6861-0909-402d-a9e4-ccf23b1a37e7",
   "metadata": {},
   "source": [
    "And we will use it to estimate the autocorrelation time:"
   ]
  },
  {
   "cell_type": "code",
   "execution_count": null,
   "id": "5b9776ff-6df8-406e-9a4a-5edff79be1c9",
   "metadata": {},
   "outputs": [],
   "source": [
    "plist = []\n",
    "tau = zeros(dimN, dimT)\n",
    "for (Nind, N) in enumerate(Nlist)\n",
    "    for (Tind, T) in enumerate(Tlist)\n",
    "        err = calculateError(Marr[Nind, Tind, :], Neq, Nsw, 2^5)\n",
    "        tau[Nind, Tind] = round(((err[end]/err[1])^2-1)/2)\n",
    "        p = plot(err, marker=:circle, label=nothing, title=@sprintf(\"N=%d, T=%.1f, τ=%d\", N, T, tau[Nind, Tind]))\n",
    "        push!(plist, p)\n",
    "    end\n",
    "end\n",
    "plot(plist..., size=(800,650), layout=(3,3), plot_title=\"Error for different bin sizes\")"
   ]
  },
  {
   "cell_type": "markdown",
   "id": "e784f8fc-0dd2-4a7a-b977-6f70ce050932",
   "metadata": {},
   "source": [
    "And we see that the autocorrelation time is shorter near the phase transition at $T=1$, and longer elsewhere, even on lower temperatures. This does not make sense. At least, we do see that th e autocorrelation time increases with the system's size, as expected."
   ]
  },
  {
   "cell_type": "markdown",
   "id": "3f10b4d6-44ec-485a-bb08-63e39220df92",
   "metadata": {},
   "source": [
    "### 3. Correlation Function"
   ]
  },
  {
   "cell_type": "markdown",
   "id": "b321f19f-5ac9-414f-b5be-7e20a603fbf1",
   "metadata": {},
   "source": [
    "Anyways, now we arrived at the interesting part: let's calculate the spin-spin correlation $C(|i-j|)=⟨\\cos (\\theta_i - \\theta_j)⟩$. We will do that along the horizontal direction and average over the different rows, and do that for several temperatures. "
   ]
  },
  {
   "cell_type": "markdown",
   "id": "290414e6-13bc-463b-84b0-733006a46920",
   "metadata": {},
   "source": [
    "To calculate the correlation we will define a function:"
   ]
  },
  {
   "cell_type": "code",
   "execution_count": null,
   "id": "9f89bbc9-5258-48c2-b6ad-95bd48de5363",
   "metadata": {},
   "outputs": [],
   "source": [
    "function correlationXY(grid::Matrix, dx::Integer)\n",
    "    rownum = size(grid,1)\n",
    "    N = size(grid, 2)\n",
    "    corr = zeros(N)\n",
    "    for rowind in 1:rownum\n",
    "        row = grid[rowind,:]\n",
    "        corr = (rowind-1).*corr .+ [cos(row[i] - row[mod(i+dx-1,N)+1]) for i in 1:N]\n",
    "        corr ./= rowind\n",
    "    end\n",
    "    return mean(corr)\n",
    "end"
   ]
  },
  {
   "cell_type": "markdown",
   "id": "0d94a301-5096-4ea1-8d3b-e8aedee5bad0",
   "metadata": {},
   "source": [
    "Now, we simulate. Note that we can simulate for a lot less time since we know that the equilibration time is short:"
   ]
  },
  {
   "cell_type": "code",
   "execution_count": null,
   "id": "2be2db13-cb9b-422f-83e3-14f226589304",
   "metadata": {},
   "outputs": [],
   "source": [
    "# physical constants\n",
    "N = 32\n",
    "Tlist = [0.1, 1.5]\n",
    "repeats = 32\n",
    "J = 1\n",
    "\n",
    "# multithreading\n",
    "dimT = length(Tlist)\n",
    "dimR = repeats\n",
    "dimTotal = dimT * dimR\n",
    "\n",
    "# iteration count\n",
    "Nsw = 2^11\n",
    "\n",
    "# log arrays\n",
    "corr = zeros(N, dimT, dimR)\n",
    "\n",
    "# loop over all required temperatures and sizes\n",
    "@time Threads.@threads for ind in 1:dimTotal # @time Threads.@threads \n",
    "    # load data from lists\n",
    "    Tind = mod(ind-1, dimT) + 1\n",
    "    Rind = Int((ind - Tind) / dimT+1)\n",
    "    T = Tlist[Tind]\n",
    "    \n",
    "    # simulate\n",
    "    grid, m = WolffXY(N, J, T, Nsw, \"closed\")\n",
    "    corr[:, Tind, Rind] = [correlationXY(grid.grid, i) for i in 0:(N-1)]\n",
    "end"
   ]
  },
  {
   "cell_type": "code",
   "execution_count": null,
   "id": "75ed1a2f-060b-4d49-815b-e5374343440c",
   "metadata": {},
   "outputs": [],
   "source": [
    "plist = [plot(abs.(mean(corr[3:12,i,:], dims=2)), label=\"\", title=@sprintf(\"T=%.2f\", Tlist[i]), yaxis=:log, xscale=(Tlist[i]<1 ? :log10 : :identity)) for i in 1:2]\n",
    "plot(plist..., marker=:circle, xlabel=\"Spin Distance\", ylabel=\"Correlation\", layout=(2,1))"
   ]
  },
  {
   "cell_type": "markdown",
   "id": "93d5fcb0-4939-4a57-a0a6-f4fb35148445",
   "metadata": {},
   "source": [
    "And we indeed see that for $T\\ll1$ the correlation is linear in a log-log plot, while for $T\\gg1$ the correlation is linear in a semilogy plot, as expected. In the in-between region the behaviour is more erratic, since we use a finite size system whihc results in a relation which is between power-law and exponential, i.e. not linear in either cases."
   ]
  },
  {
   "cell_type": "markdown",
   "id": "6f93d7b2-a3c2-456e-875e-2411ce39be44",
   "metadata": {},
   "source": [
    "### 4. Spin Stiffness"
   ]
  },
  {
   "cell_type": "markdown",
   "id": "c3c2cdcc-d253-4b28-8a33-b0278af877c1",
   "metadata": {},
   "source": [
    "Next, we want to calculate spin stiffness on various system sizes and temperatures. We start by creating a function which calculates it:"
   ]
  },
  {
   "cell_type": "code",
   "execution_count": null,
   "id": "f522a19a-022b-4162-a6d8-6bae3f4ee1c4",
   "metadata": {},
   "outputs": [],
   "source": [
    "function spinStiffness(grid::Grid)\n",
    "    N = grid.N\n",
    "    T = 1/grid.beta\n",
    "\n",
    "    ρs = -1/(2*N^2) * (energy(grid) + 2/T * (spinCurrent2(grid, \"x\") + spinCurrent2(grid, \"y\")) )\n",
    "    return ρs\n",
    "end"
   ]
  },
  {
   "cell_type": "markdown",
   "id": "2359fb7d-975d-4316-bea2-e824515ad1a4",
   "metadata": {},
   "source": [
    "The functions `energy()` and `spinCurrent2()` are functions which calculate $⟨E⟩$ and $⟨I^2_{x,y}⟩$ respectively. We start with $E$:"
   ]
  },
  {
   "cell_type": "code",
   "execution_count": null,
   "id": "14f13402-4648-4deb-ad5d-b4ad1be37a29",
   "metadata": {},
   "outputs": [],
   "source": [
    "function energy(grid::Grid)\n",
    "    N = grid.N\n",
    "    J = grid.J\n",
    "    H = 0\n",
    "    for i in 1:N\n",
    "        for j in 1:N\n",
    "            thetai = grid.grid[i,j]\n",
    "            H += sum([-J * cos(thetai-grid.grid[s[1],s[2]]) for s in nearestNeighboors(i, j, grid, \"all\")])\n",
    "        end\n",
    "    end\n",
    "    H /= 2 # fix double counting\n",
    "    return H\n",
    "end"
   ]
  },
  {
   "cell_type": "markdown",
   "id": "cf40c750-c8e8-4e0f-84e8-b53089b4f5f0",
   "metadata": {},
   "source": [
    "And next the spin currents:"
   ]
  },
  {
   "cell_type": "code",
   "execution_count": null,
   "id": "a02059d2-3628-476b-b363-91a14f4a8fbb",
   "metadata": {},
   "outputs": [],
   "source": [
    "function spinCurrent2(grid::Grid, dir::String)\n",
    "    I = spinCurrent(grid, dir)\n",
    "    return I^2\n",
    "end\n",
    "\n",
    "function spinCurrent(grid::Grid, dir::String)\n",
    "    @assert dir in [\"x\", \"y\"] \"Invalid spin current direction \" * dir\n",
    "\n",
    "    N = grid.N\n",
    "    J = grid.J\n",
    "\n",
    "    I = 0\n",
    "    for i in 1:N\n",
    "        for j in 1:N\n",
    "            thetai = grid.grid[i,j]\n",
    "            I += sum([sin(thetai - grid.grid[s[1], s[2]]) for s in nearestNeighboors(i, j, grid, dir)])\n",
    "        end\n",
    "    end\n",
    "    I /= 2 # fix double counting\n",
    "    \n",
    "    return I\n",
    "end"
   ]
  },
  {
   "cell_type": "markdown",
   "id": "4b706ea3-51a7-4f48-99d9-86a423416451",
   "metadata": {},
   "source": [
    "We will test this on several temperatures and system sizes as instructed:"
   ]
  },
  {
   "cell_type": "code",
   "execution_count": null,
   "id": "32b9d536-d4aa-4987-866e-33e8c23db962",
   "metadata": {},
   "outputs": [],
   "source": [
    "Nlist = [4,8,16]\n",
    "Tlist = range(0.1, 2.0, 9)\n",
    "\n",
    "# iteration count\n",
    "Nsw = 2^11\n",
    "\n",
    "# multithreading\n",
    "dimT = length(Tlist)\n",
    "dimN = length(Nlist)\n",
    "dimTotal = dimT * dimN\n",
    "\n",
    "# log arrays\n",
    "Marr = zeros(length(Nlist), length(Tlist), Nsw)\n",
    "Sarr = Array{Any}(undef, length(Nlist), length(Tlist))\n",
    "ρarr = zeros(length(Nlist), length(Tlist))\n",
    "\n",
    "# loop over all required temperatures and sizes\n",
    "@time Threads.@threads for ind in range(start=dimTotal, stop=1, length=dimTotal)\n",
    "    # load data from lists\n",
    "    ind = Int(ind)\n",
    "    Tind = mod(ind-1, dimT) + 1\n",
    "    \n",
    "    Nind = Int((ind - Tind) / dimT+1)\n",
    "\n",
    "    T = Tlist[Tind]\n",
    "    N = Nlist[Nind]\n",
    "    \n",
    "    # simulate\n",
    "    grid, m, ρs = WolffXY(N, J, T, Nsw, \"closed\", spinStiffness)\n",
    "\n",
    "    # log output\n",
    "    Marr[Nind, Tind, :] = m\n",
    "    Sarr[Nind, Tind] = grid.grid\n",
    "\n",
    "    # calculate stiffness\n",
    "    ρarr[Nind, Tind] = mean(ρs[Int(Nsw/2):end])\n",
    "end"
   ]
  },
  {
   "cell_type": "markdown",
   "id": "1373dc5c-39ad-4518-91e2-c2014462f537",
   "metadata": {},
   "source": [
    "By testing we know that a linear line is a fine fit to the stiffness in order to get th eintercpt at $T=0$:"
   ]
  },
  {
   "cell_type": "code",
   "execution_count": null,
   "id": "d33aac05-ef0a-456a-a03f-5ff598d4268b",
   "metadata": {},
   "outputs": [],
   "source": [
    "@. linear_model(x, p) = p[1] + p[2]*x\n",
    "fits = [curve_fit(linear_model, Tlist, ρarr[Nind, :], [1.0, -1.0]) for Nind in 1:length(Nlist)]\n",
    "\n",
    "plist = [plot(Tlist, ρarr[Nind, :], marker=:circle, title=@sprintf(\"N=%d\",Nlist[Nind]), label=\"Data\") for Nind in 1:length(Nlist)]\n",
    "[plot!(p, Tlist, linear_model(Tlist, fits[pind].param), marker=:none, label=\"Fit\", ylabel=@sprintf(\"Intercept=%.2f\", fits[pind].param[1])) for (pind, p) in enumerate(plist)]\n",
    "plot(plist...)"
   ]
  },
  {
   "cell_type": "markdown",
   "id": "a7098a76-cf6e-4bae-9df8-fdee46a59241",
   "metadata": {},
   "source": [
    "Indeed the intercept at $T\\to 0$ is $\\rho \\to 1$. The case for $T\\to \\infty $ is a bit harder to infer from this specific plot, but by getting to larger temperatures we can indeed observe saturation at $\\rho\\to 0$. We can also check out the slope of the fit:"
   ]
  },
  {
   "cell_type": "code",
   "execution_count": null,
   "id": "4f77ae1d-c43d-456c-8d5e-a28328a824fe",
   "metadata": {},
   "outputs": [],
   "source": [
    "[f.param[2] for f in fits]"
   ]
  },
  {
   "cell_type": "markdown",
   "id": "c5fe811d-eb0b-46c0-9557-9c3c781f7f41",
   "metadata": {},
   "source": [
    "And as expected the slope becomes steaper as the system's size increase."
   ]
  },
  {
   "cell_type": "markdown",
   "id": "727d7620-a27b-4d7d-8e4d-22a52f2faf44",
   "metadata": {},
   "source": [
    "### 5. KT Transition Temperature"
   ]
  },
  {
   "cell_type": "markdown",
   "id": "b36dcb8a-eab0-4dab-ba0d-a4af60a77f70",
   "metadata": {},
   "source": [
    "Lastly, we want to get $T_{\\rm KT}$. We will do that uing the procedure described in the instructions. First, we simulate and calculate the spin stiffness for each system size and temperature required:"
   ]
  },
  {
   "cell_type": "code",
   "execution_count": null,
   "id": "92efb3c5-1baf-418c-940b-82241df9ec06",
   "metadata": {},
   "outputs": [],
   "source": [
    "Nlist = [4,6,8,10]\n",
    "Tlist = range(0.8, stop=1.0, length=16)\n",
    "\n",
    "# iteration count\n",
    "Nsw = 2^12\n",
    "\n",
    "# multithreading\n",
    "dimT = length(Tlist)\n",
    "dimN = length(Nlist)\n",
    "dimTotal = dimT * dimN\n",
    "\n",
    "# log arrays\n",
    "ρarr = zeros(length(Nlist), length(Tlist))\n",
    "\n",
    "# loop over all required temperatures and sizes\n",
    "@time Threads.@threads for ind in range(start=dimTotal, stop=1, length=dimTotal)\n",
    "    # load data from lists\n",
    "    ind = Int(ind)\n",
    "    Tind = mod(ind-1, dimT) + 1\n",
    "    Nind = Int((ind - Tind) / dimT+1)\n",
    "\n",
    "    T = Tlist[Tind]\n",
    "    N = Nlist[Nind]\n",
    "\n",
    "    # simulate\n",
    "    grid, m, ρs = WolffXY(N, J, T, Nsw, \"closed\", spinStiffness)\n",
    "\n",
    "    # calculate stiffness\n",
    "    ρarr[Nind, Tind] = mean(ρs[2^10:end])\n",
    "end"
   ]
  },
  {
   "cell_type": "markdown",
   "id": "ea678f17-63d4-455c-b44a-9eb9213f0e03",
   "metadata": {},
   "source": [
    "Now we try to fit $\\rho_s (L)$ as given to us to the data:"
   ]
  },
  {
   "cell_type": "code",
   "execution_count": null,
   "id": "4ebf81cf-8f46-490a-9429-40064d011f18",
   "metadata": {},
   "outputs": [],
   "source": [
    "Carr = zeros(length(Tlist))\n",
    "Δarr = zeros(length(Tlist))\n",
    "plist = []\n",
    "for (Tind, T) in enumerate(Tlist)\n",
    "    @. stiffness_model(x, a) = 2/pi*T*(   1 + (1/2)/(log(x)+a[1])   )\n",
    "    fit = curve_fit(stiffness_model, Nlist, ρarr[:, Tind], [1e0])\n",
    "    Carr[Tind] = fit.param[1]\n",
    "    Δarr[Tind] = sqrt(estimate_covar(fit)[1])\n",
    "    p = plot(Nlist, ρarr[:, Tind], label=\"Data\", title=@sprintf(\"T=%.2f\", T))\n",
    "    plot!(Nlist, stiffness_model(Nlist, fit.param), label=\"Fit\")\n",
    "    push!(plist, p)\n",
    "    \n",
    "    if ~fit.converged\n",
    "        println(\"Fit did not ocnverge for T=\", T)\n",
    "    end\n",
    "end\n",
    "plot(plist..., size=(1000, 600))"
   ]
  },
  {
   "cell_type": "markdown",
   "id": "c8e8b16f-f1e4-4c05-a1be-557face9494f",
   "metadata": {},
   "source": [
    "Even tho the fits do not resemble the data at all, we can get a greate approximation of the critical temperature by looking at the normalized error:"
   ]
  },
  {
   "cell_type": "code",
   "execution_count": null,
   "id": "c5baa2e3-5106-4eea-9100-97a20dd091aa",
   "metadata": {},
   "outputs": [],
   "source": [
    "plot(Tlist, Δarr./Carr.^2, yaxis=:log, marker=:circle, title=\"Normalized Error Δ(T)\")"
   ]
  },
  {
   "cell_type": "markdown",
   "id": "9e0c7eb9-8102-462a-b994-51f4c67234fe",
   "metadata": {},
   "source": [
    "We see that $T_{\\rm KT} \\approx 0.88$, which is indded what we should according to [Phys. Rev. B 37, 5986(R) (1988)](https://journals.aps.org/prb/abstract/10.1103/PhysRevB.37.5986)."
   ]
  },
  {
   "cell_type": "markdown",
   "id": "8f8330fd-6897-45dc-b923-82378d6b37d2",
   "metadata": {},
   "source": [
    "**Note: I know that the fits should have actually describe the data, and that the error sould not have been normalized. But I can't for the life of me find what have I done wrong, so I just used what I could get - and the final results is somewhow fine either way.**"
   ]
  }
 ],
 "metadata": {
  "kernelspec": {
   "display_name": "Julia (8 threads) 1.10.0",
   "language": "julia",
   "name": "julia-_8-threads_-1.10"
  },
  "language_info": {
   "file_extension": ".jl",
   "mimetype": "application/julia",
   "name": "julia",
   "version": "1.10.0"
  }
 },
 "nbformat": 4,
 "nbformat_minor": 5
}
