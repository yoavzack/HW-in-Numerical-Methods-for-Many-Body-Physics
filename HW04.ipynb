{
 "cells": [
  {
   "cell_type": "markdown",
   "id": "eb69f8a9-db57-4fa5-a3f3-fe21decdae86",
   "metadata": {},
   "source": [
    "# Numerical Methods for Manu Body Physics, Assignment #4"
   ]
  },
  {
   "cell_type": "markdown",
   "id": "67922dca-2909-42ef-a9c7-55aac76d958f",
   "metadata": {},
   "source": [
    "Yoav Zack, ID 211677398"
   ]
  },
  {
   "cell_type": "code",
   "execution_count": null,
   "id": "4be4945d-0038-4194-bdcb-852a79274f36",
   "metadata": {},
   "outputs": [],
   "source": [
    "using LinearAlgebra\n",
    "using Statistics\n",
    "using Plots\n",
    "using LsqFit\n",
    "using Printf\n",
    "using BenchmarkTools\n",
    "theme(:dracula)"
   ]
  },
  {
   "cell_type": "markdown",
   "id": "50c2bcb2-03ff-458a-9c57-859912c41378",
   "metadata": {},
   "source": [
    "## Question 1: 2D XY model and the Kosterlitz-Thouless transition"
   ]
  },
  {
   "cell_type": "markdown",
   "id": "b5e670d6-ef1d-42d7-b460-67489bde30d0",
   "metadata": {},
   "source": [
    "We want to implement a Monte-Carlo algorithm using Wolff Clusters for the 2D XY Model. In order to do so, we need the following functions:\n",
    "1. `WolffUpdate()` - Updates a grid of spins \n",
    "2. `selectCluster()` - Selects a cluster according to Wolff method\n",
    "3. `nearestNeighboors()` - Returns a list of nearest neighboors of a given site assuming given boundary conditions\n",
    "It will be easier for us to work if some of the data will be stores ina a `Grid` structure, as follows:"
   ]
  },
  {
   "cell_type": "code",
   "execution_count": null,
   "id": "1df0dd01-4220-4b49-9d0f-40b10b5f5b1b",
   "metadata": {},
   "outputs": [],
   "source": [
    "struct Grid\n",
    "    N::Integer\n",
    "    grid::Matrix{Real}\n",
    "    J::Real\n",
    "    β::Real\n",
    "    bc::String\n",
    "    \n",
    "    function Grid(N::Integer, J::Real, T::Real, bc::String)\n",
    "        @assert N > 0 \"Grid size must be positive integer\"\n",
    "        @assert J > 0 \"Interaction coefficient J must be positive\"\n",
    "        @assert T > 0 \"Temperature must be positive\"\n",
    "\n",
    "        if !(bc in [\"periodic\", \"closed\"])\n",
    "            error(\"Boundacy conditions are either periodic or closed\")\n",
    "        end\n",
    "        \n",
    "        β = 1. / T\n",
    "        grid = (2*π) .* rand(N,N)\n",
    "        new(N, grid, J, β, bc)\n",
    "    end\n",
    "end"
   ]
  },
  {
   "cell_type": "markdown",
   "id": "e9db4968-600b-453f-8f37-383df3ac1e67",
   "metadata": {},
   "source": [
    "We will also define a simple function which plots the grid data ina a heatmap:"
   ]
  },
  {
   "cell_type": "code",
   "execution_count": null,
   "id": "d7e745f2-c2a8-4652-ad98-75ad59ba3b00",
   "metadata": {},
   "outputs": [],
   "source": [
    "function show(grid::Grid)\n",
    "    h = heatmap(grid.grid)\n",
    "    heatmap!(h, xlim=(1,grid.N), ylim=(1,grid.N), xticks=0, yticks=0)\n",
    "    heatmap!(h, aspect_ratio=:equal, frame=:on)\n",
    "    heatmap!(title=@sprintf(\"grid with β=%.2f\", grid.β))\n",
    "    return h\n",
    "end"
   ]
  },
  {
   "cell_type": "markdown",
   "id": "4d7717a1-e232-47ce-a612-1e9083ff164f",
   "metadata": {},
   "source": [
    "Now, we can start working on the functions mentioned above. First, the `nearestNeighboors()` function:"
   ]
  },
  {
   "cell_type": "code",
   "execution_count": null,
   "id": "c4e640ec-833c-4d6f-93ff-61c1fc917c73",
   "metadata": {},
   "outputs": [],
   "source": [
    "function nearestNeighboors(i::Integer, j::Integer, grid::Grid)\n",
    "    N = grid.N\n",
    "    if grid.bc == \"periodic\"\n",
    "        i = (i-1 % N) + 1\n",
    "        j = (j-1 % N) + 1\n",
    "    end\n",
    "\n",
    "    @assert i >= 1 && j >= 1 && i <= N && j <= N \"Invalid spin index\"\n",
    "    neighboors = [(i+1,j), (i,j+1), (i-1,j), (i,j-1)]\n",
    "    \n",
    "    if grid.bc == \"periodic\"\n",
    "        return [mod.(a .- 1, N) .+ 1 for a in neighboors]\n",
    "    elseif grid.bc == \"closed\"\n",
    "        return [(x,y) for (x,y) in neighboors if (x>=1) && (y>=1) && (x<=N) && (y<=N)]\n",
    "    else\n",
    "        error(\"Invalid boundary condition in nearestNeighboors()\")\n",
    "    end\n",
    "end"
   ]
  },
  {
   "cell_type": "markdown",
   "id": "9598448b-87eb-4cd0-a2a5-2f4ad3b994c6",
   "metadata": {},
   "source": [
    "Notice that we solved it for both periodic and closed boundary conditions. Next, we work on the Wolff part - selecting a cluster:"
   ]
  },
  {
   "cell_type": "code",
   "execution_count": null,
   "id": "1764e212-95e8-4b96-a521-0a4138d4f6a3",
   "metadata": {},
   "outputs": [],
   "source": [
    "function selectCluster(θe::Real, i::Integer, j::Integer, grid::Grid)\n",
    "    cluster = [(i,j)]\n",
    "    queue = nearestNeighboors(i, j, grid)\n",
    "\n",
    "    θi = grid.grid[i,j]\n",
    "    prodi = cos(θi - θe)\n",
    "    while !isempty(queue)\n",
    "        s = pop!(queue)\n",
    "        if s in cluster\n",
    "            continue\n",
    "        end\n",
    "        θj = grid.grid[s[1], s[2]]\n",
    "        prodj = cos(θj - θe)\n",
    "        p = 1 - exp(min(0, -2*grid.β*grid.J*prodi*prodj))\n",
    "        if p > rand()\n",
    "            append!(cluster, [s])\n",
    "            append!(queue, nearestNeighboors(s[1], s[2], grid))\n",
    "        end\n",
    "    end\n",
    "\n",
    "    return cluster\n",
    "end"
   ]
  },
  {
   "cell_type": "markdown",
   "id": "9ea5ae1f-1b2e-4396-a173-f9cbc1cb9a60",
   "metadata": {},
   "source": [
    "This gives us a list of indices to by sliced by. Next, we write a function which does a single Wolff spin flip according to the function given in the assignment:"
   ]
  },
  {
   "cell_type": "code",
   "execution_count": null,
   "id": "b07d1851-877b-4cea-b192-0ad6c33e9d12",
   "metadata": {},
   "outputs": [],
   "source": [
    "function iterationWolff!(grid::Grid)\n",
    "    i = rand(1:grid.N)\n",
    "    j = rand(1:grid.N)\n",
    "\n",
    "    θe = 2*π*rand()\n",
    "    cluster = selectCluster(θe, i, j, grid)\n",
    "    \n",
    "    for s in cluster\n",
    "        grid.grid[s[1], s[2]] = mod(grid.grid[s[1], s[2]] - 2*θe, 2*π)\n",
    "    end\n",
    "end"
   ]
  },
  {
   "cell_type": "markdown",
   "id": "4b2bdf10-5937-43ca-9009-1152e8870bf4",
   "metadata": {},
   "source": [
    "Let's benchmark our function to see if it is any good:"
   ]
  },
  {
   "cell_type": "code",
   "execution_count": null,
   "id": "a59d0cd1-f103-4401-a551-32c394a64f6d",
   "metadata": {},
   "outputs": [],
   "source": [
    "N = 32\n",
    "J = 1.0\n",
    "T = 0.1\n",
    "grid = Grid(N, J, T, \"periodic\")\n",
    "@benchmark iterationWolff!(grid)"
   ]
  },
  {
   "cell_type": "markdown",
   "id": "3d887016-6f17-4e56-8811-fc95cb2acd9a",
   "metadata": {},
   "source": [
    "And the final result does make sense, at least on the visual aspect (the benchmark performed many iterations on the same grid, so we get a relatively valid sample after it is finished):"
   ]
  },
  {
   "cell_type": "code",
   "execution_count": null,
   "id": "4fa30ddd-ba90-4410-aff7-bf6cfc252474",
   "metadata": {},
   "outputs": [],
   "source": [
    "show(grid)"
   ]
  },
  {
   "cell_type": "code",
   "execution_count": null,
   "id": "08bf471b-8d03-4032-9072-8519c629d07a",
   "metadata": {},
   "outputs": [],
   "source": []
  }
 ],
 "metadata": {
  "kernelspec": {
   "display_name": "Julia_4_threads 1.10.1",
   "language": "julia",
   "name": "julia_4_threads-1.10"
  },
  "language_info": {
   "file_extension": ".jl",
   "mimetype": "application/julia",
   "name": "julia",
   "version": "1.10.1"
  }
 },
 "nbformat": 4,
 "nbformat_minor": 5
}
