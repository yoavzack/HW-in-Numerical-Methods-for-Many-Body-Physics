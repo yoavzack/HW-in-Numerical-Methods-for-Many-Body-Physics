{
 "cells": [
  {
   "cell_type": "markdown",
   "id": "eb69f8a9-db57-4fa5-a3f3-fe21decdae86",
   "metadata": {},
   "source": [
    "# Numerical Methods for Manu Body Physics, Assignment #4"
   ]
  },
  {
   "cell_type": "markdown",
   "id": "67922dca-2909-42ef-a9c7-55aac76d958f",
   "metadata": {},
   "source": [
    "Yoav Zack, ID 211677398"
   ]
  },
  {
   "cell_type": "code",
   "execution_count": null,
   "id": "4be4945d-0038-4194-bdcb-852a79274f36",
   "metadata": {},
   "outputs": [],
   "source": [
    "using LinearAlgebra\n",
    "using Statistics\n",
    "using Plots\n",
    "using LsqFit\n",
    "using Printf\n",
    "using BenchmarkTools\n",
    "using SignalAnalysis\n",
    "theme(:dracula)"
   ]
  },
  {
   "cell_type": "markdown",
   "id": "50c2bcb2-03ff-458a-9c57-859912c41378",
   "metadata": {},
   "source": [
    "## Question 1: 2D XY model and the Kosterlitz-Thouless transition"
   ]
  },
  {
   "cell_type": "markdown",
   "id": "b5e670d6-ef1d-42d7-b460-67489bde30d0",
   "metadata": {},
   "source": [
    "We want to implement a Monte-Carlo algorithm using Wolff Clusters for the 2D XY Model. In order to do so, we need the following functions:\n",
    "1. `WolffUpdate()` - Updates a grid of spins \n",
    "2. `selectCluster()` - Selects a cluster according to Wolff method\n",
    "3. `nearestNeighboors()` - Returns a list of nearest neighboors of a given site assuming given boundary conditions.\n",
    "\n",
    "It will be easier for us to work if some of the data will be stores ina a `Grid` structure, as follows:"
   ]
  },
  {
   "cell_type": "code",
   "execution_count": null,
   "id": "1df0dd01-4220-4b49-9d0f-40b10b5f5b1b",
   "metadata": {},
   "outputs": [],
   "source": [
    "struct Grid\n",
    "    N::Integer\n",
    "    grid::Matrix{Real}\n",
    "    J::Real\n",
    "    β::Real\n",
    "    bc::String\n",
    "    \n",
    "    function Grid(N::Integer, J::Real, T::Real, bc::String)\n",
    "        @assert N > 0 \"Grid size must be positive integer\"\n",
    "        @assert J > 0 \"Interaction coefficient J must be positive\"\n",
    "        @assert T > 0 \"Temperature must be positive\"\n",
    "\n",
    "        if !(bc in [\"periodic\", \"closed\"])\n",
    "            error(\"Boundacy conditions are either periodic or closed\")\n",
    "        end\n",
    "        \n",
    "        β = 1. / T\n",
    "        grid = (2*π) .* rand(N,N)\n",
    "        new(N, grid, J, β, bc)\n",
    "    end\n",
    "end"
   ]
  },
  {
   "cell_type": "markdown",
   "id": "e9db4968-600b-453f-8f37-383df3ac1e67",
   "metadata": {},
   "source": [
    "We will also define a simple function which plots the grid data ina a heatmap:"
   ]
  },
  {
   "cell_type": "code",
   "execution_count": null,
   "id": "d7e745f2-c2a8-4652-ad98-75ad59ba3b00",
   "metadata": {},
   "outputs": [],
   "source": [
    "function showGrid(grid::Matrix, β::Real)\n",
    "    N = size(grid)[1]\n",
    "    h = heatmap(grid, c=:cyclic_mygbm_30_95_c78_n256_s25, colorbar=nothing)\n",
    "    heatmap!(h, xlim=(1,N), ylim=(1,N), xticks=0, yticks=0)\n",
    "    heatmap!(h, aspect_ratio=:equal, frame=:on)\n",
    "    heatmap!(h, title=@sprintf(\"N=%d, β=%.2f\", N, β))\n",
    "    return h\n",
    "end"
   ]
  },
  {
   "cell_type": "markdown",
   "id": "4d7717a1-e232-47ce-a612-1e9083ff164f",
   "metadata": {},
   "source": [
    "Now, we can start working on the functions mentioned above. First, the `nearestNeighboors()` function:"
   ]
  },
  {
   "cell_type": "code",
   "execution_count": null,
   "id": "c4e640ec-833c-4d6f-93ff-61c1fc917c73",
   "metadata": {
    "scrolled": true
   },
   "outputs": [],
   "source": [
    "function nearestNeighboors(i::Integer, j::Integer, grid::Grid)\n",
    "    N = grid.N\n",
    "    if grid.bc == \"periodic\"\n",
    "        i = (i-1 % N) + 1\n",
    "        j = (j-1 % N) + 1\n",
    "    end\n",
    "\n",
    "    @assert i >= 1 && j >= 1 && i <= N && j <= N \"Invalid spin index\"\n",
    "    neighboors = [(i+1,j), (i,j+1), (i-1,j), (i,j-1)]\n",
    "    \n",
    "    if grid.bc == \"periodic\"\n",
    "        return [mod.(a .- 1, N) .+ 1 for a in neighboors]\n",
    "    elseif grid.bc == \"closed\"\n",
    "        return [(x,y) for (x,y) in neighboors if (x>=1) && (y>=1) && (x<=N) && (y<=N)]\n",
    "    else\n",
    "        error(\"Invalid boundary condition in nearestNeighboors()\")\n",
    "    end\n",
    "end"
   ]
  },
  {
   "cell_type": "markdown",
   "id": "9598448b-87eb-4cd0-a2a5-2f4ad3b994c6",
   "metadata": {},
   "source": [
    "Notice that we solved it for both periodic and closed boundary conditions. Next, we work on the Wolff part - selecting a cluster. For it (and the next section), we will use the following identities:\n",
    "$$\n",
    "\\begin{array}{rl}\n",
    "\\vec{S}_{i} & =\\left(\\cos\\theta_{i},\\sin\\theta_{i}\\right)\\\\\n",
    "\\hat{e} & =\\left(\\cos\\theta_{e},\\sin\\theta_{e}\\right)\\\\\n",
    "\\vec{S}_{i}\\cdot\\hat{e} & =\\cos\\theta_{i}\\cos\\theta_{e}+\\sin\\theta_{i}\\sin\\theta_{e}=\\cos\\left(\\theta_{i}-\\theta_{e}\\right)\\\\\n",
    "\\vec{S}_{i}-2\\left(\\vec{S}_{i}\\cdot\\hat{e}\\right)\\hat{e} & =\\left(\\cos\\theta_{i},\\sin\\theta_{i}\\right)-2\\cos\\left(\\theta_{i}-\\theta_{e}\\right)\\left(\\cos\\theta_{e},\\sin\\theta_{j}\\right)\\\\\n",
    " & =\\left(-\\cos\\left(\\theta_{i}-2\\theta_{e}\\right),\\sin\\left(\\theta_{i}-2\\theta_{e}\\right)\\right)\n",
    "\\end{array}\n",
    "$$\n",
    "Thus the function for selecting a cluster is:"
   ]
  },
  {
   "cell_type": "code",
   "execution_count": null,
   "id": "1764e212-95e8-4b96-a521-0a4138d4f6a3",
   "metadata": {
    "scrolled": true
   },
   "outputs": [],
   "source": [
    "function selectCluster(θe::Real, i::Integer, j::Integer, grid::Grid)\n",
    "    cluster = [(i,j)]\n",
    "    queue = nearestNeighboors(i, j, grid)\n",
    "\n",
    "    θi = grid.grid[i,j]\n",
    "    prodi = cos(θi - θe)\n",
    "    while !isempty(queue)\n",
    "        s = pop!(queue)\n",
    "        if s in cluster\n",
    "            continue\n",
    "        end\n",
    "        θj = grid.grid[s[1], s[2]]\n",
    "        prodj = cos(θj - θe)\n",
    "        p = 1 - exp(min(0, -2*grid.β*grid.J*prodi*prodj))\n",
    "        if p > rand()\n",
    "            append!(cluster, [s])\n",
    "            append!(queue, nearestNeighboors(s[1], s[2], grid))\n",
    "        end\n",
    "    end\n",
    "\n",
    "    return cluster\n",
    "end"
   ]
  },
  {
   "cell_type": "markdown",
   "id": "9ea5ae1f-1b2e-4396-a173-f9cbc1cb9a60",
   "metadata": {},
   "source": [
    "This gives us a list of indices to by sliced by. Next, we write a function which does a single Wolff spin flip according to the function given in the assignment and the previously done calculations:"
   ]
  },
  {
   "cell_type": "code",
   "execution_count": null,
   "id": "b07d1851-877b-4cea-b192-0ad6c33e9d12",
   "metadata": {},
   "outputs": [],
   "source": [
    "function iterationWolff!(grid::Grid)\n",
    "    i = rand(1:grid.N)\n",
    "    j = rand(1:grid.N)\n",
    "\n",
    "    θe = 2*π*rand()\n",
    "    cluster = selectCluster(θe, i, j, grid)\n",
    "    \n",
    "    for s in cluster\n",
    "        grid.grid[s[1], s[2]] = mod(grid.grid[s[1], s[2]] - 2*θe, 2*π)\n",
    "    end\n",
    "end"
   ]
  },
  {
   "cell_type": "markdown",
   "id": "4b2bdf10-5937-43ca-9009-1152e8870bf4",
   "metadata": {},
   "source": [
    "Let's benchmark our function to see if it is any good:"
   ]
  },
  {
   "cell_type": "code",
   "execution_count": null,
   "id": "a59d0cd1-f103-4401-a551-32c394a64f6d",
   "metadata": {},
   "outputs": [],
   "source": [
    "N = 32\n",
    "J = 1.0\n",
    "T = 0.1\n",
    "grid = Grid(N, J, T, \"periodic\")\n",
    "@benchmark iterationWolff!(grid)"
   ]
  },
  {
   "cell_type": "markdown",
   "id": "3d887016-6f17-4e56-8811-fc95cb2acd9a",
   "metadata": {},
   "source": [
    "And the final result does make sense, at least on the visual aspect (the benchmark performs many iterations on the same grid, so we get a relatively valid sample after it is finished):"
   ]
  },
  {
   "cell_type": "code",
   "execution_count": null,
   "id": "4fa30ddd-ba90-4410-aff7-bf6cfc252474",
   "metadata": {},
   "outputs": [],
   "source": [
    "showGrid(grid.grid, 1/T)"
   ]
  },
  {
   "cell_type": "markdown",
   "id": "5a815102-a36d-48f0-971d-b081e68699b5",
   "metadata": {},
   "source": [
    "Now we want to verify whether the autocorrelation and equlibration time for various system sizes and temperatures. We define a function to perform a complete simulation:"
   ]
  },
  {
   "cell_type": "code",
   "execution_count": null,
   "id": "588c1bd8-6d86-4e1a-a1f2-dcc240717ea5",
   "metadata": {},
   "outputs": [],
   "source": [
    "function WolffXY(N::Integer, J::Real, T::Real, Nsw::Integer, bc::String, saveConfigs=false)\n",
    "    grid = Grid(N, J, T, bc)\n",
    "\n",
    "    m = zeros(Nsw)\n",
    "    m[1] = magnetizationXY(grid)\n",
    "    \n",
    "    if saveConfigs\n",
    "        c = zeros(N,N,Nsw)\n",
    "        c[:,:,1] = deepcopy(grid.grid)\n",
    "    end\n",
    "\n",
    "    for i in 2:Nsw\n",
    "        iterationWolff!(grid)\n",
    "        m[i] = magnetizationXY(grid)\n",
    "        if saveConfigs\n",
    "            c[:,:,i] = deepcopy(grid.grid)\n",
    "        end\n",
    "    end\n",
    "\n",
    "    if saveConfigs\n",
    "        return m, c\n",
    "    else\n",
    "        return m\n",
    "    end\n",
    "end"
   ]
  },
  {
   "cell_type": "markdown",
   "id": "190e4f61-c905-4d66-9e8b-6483b07578ad",
   "metadata": {},
   "source": [
    "Where `magnetizationXY()` is a function which calculates the magnitude of total magnetization in the grid:"
   ]
  },
  {
   "cell_type": "code",
   "execution_count": null,
   "id": "efe0cdf2-af21-4c0b-a2e4-a4de36df3e9d",
   "metadata": {},
   "outputs": [],
   "source": [
    "function magnetizationXY(grid::Grid)\n",
    "    vecs = [cos.(grid.grid), sin.(grid.grid)]\n",
    "    m = norm(mean.(vecs))\n",
    "    return m\n",
    "end"
   ]
  },
  {
   "cell_type": "markdown",
   "id": "e6ded852-5c84-46b4-a023-2a3dd3676c2d",
   "metadata": {},
   "source": [
    "In order to estimate the autocorrelation time we will define the error function from the tutorial (TODO)"
   ]
  },
  {
   "cell_type": "code",
   "execution_count": null,
   "id": "b44a3f25-6d9b-4d65-aa57-43853c4f62c5",
   "metadata": {},
   "outputs": [],
   "source": [
    "function calculateError(m, Neq, Nsw)\n",
    "    err = Float64[]\n",
    "    Nsw2 = 2^Int(floor(log(2, Nsw-Neq))) # closest power of 2 smaller than number of sweeps after equilibration\n",
    "    ml = m[end-Nsw2+1:end]\n",
    "    min_size = 2^5\n",
    "    while length(ml) > min_size\n",
    "        push!(err, std(ml)/sqrt(length(ml)-1))\n",
    "        ml = map(j -> mean(ml[2*j-1:2*j]), range(1,stop=div(length(ml),2)) )\n",
    "    end\n",
    "    return err\n",
    "end"
   ]
  },
  {
   "cell_type": "code",
   "execution_count": null,
   "id": "af1edbac-abf5-4653-bbce-c69c1797d482",
   "metadata": {},
   "outputs": [],
   "source": [
    "# physical constants\n",
    "Nlist = 8:8:32\n",
    "Tlist = [0.1, 1.0, 1.5]\n",
    "J = 1\n",
    "\n",
    "# iteration count\n",
    "iterTotal = 100\n",
    "\n",
    "# prepare for smoothing\n",
    "winlength = 11\n",
    "iterTotal += winlength\n",
    "kernel = vcat(ones(winlength)./winlength, zeros(iterTotal-winlength))\n",
    "\n",
    "# log arrays\n",
    "Marr = zeros(length(Nlist), length(Tlist), iterTotal)\n",
    "plist = []\n",
    "hlist = []\n",
    "\n",
    "# loop over all required temperatures and sizes\n",
    "for (Tind, T) in enumerate(Tlist)\n",
    "    for (Nind, N) in enumerate(Nlist)\n",
    "        # simulate\n",
    "        m, c = WolffXY(N, J, T, iterTotal, \"periodic\", true)\n",
    "        \n",
    "        # plot final state and magnetization log, as well as a smoothed version of it\n",
    "        h = showGrid(c[:,:,end], 1/T)\n",
    "        p = plot(m[1:end-winlength], title=@sprintf(\"N=%d, T=%.1f\", N, T), label=nothing)\n",
    "        plot!(p, circconv(kernel, m)[1:end-winlength], label=nothing, c=:red)\n",
    "\n",
    "        # log plots to plot together later\n",
    "        push!(plist, p)\n",
    "        push!(hlist, h)\n",
    "    end\n",
    "end"
   ]
  },
  {
   "cell_type": "code",
   "execution_count": null,
   "id": "22144bcb-4293-4b12-bcc6-cec95e25b3e8",
   "metadata": {},
   "outputs": [],
   "source": []
  },
  {
   "cell_type": "code",
   "execution_count": null,
   "id": "caabdb6a-abd7-44ff-942d-088050932cf2",
   "metadata": {},
   "outputs": [],
   "source": []
  },
  {
   "cell_type": "code",
   "execution_count": null,
   "id": "8db4a31b-d02b-45e8-b993-1ac0253eec6a",
   "metadata": {},
   "outputs": [],
   "source": [
    "plot_size = (200*length(Nlist), 200*length(Tlist))\n",
    "l = (length(Tlist), length(Nlist))\n",
    "magplot = plot(plist..., size=plot_size, layout=l, plot_title=\"Magnetization Magnitude\", ylims=(0, 1))\n",
    "mapplot = plot(hlist..., size=plot_size, layout=l, plot_title=\"Final State\")\n",
    "display(magplot)\n",
    "display(mapplot)"
   ]
  },
  {
   "cell_type": "code",
   "execution_count": null,
   "id": "cad4386e-3a5b-452a-acae-a3bee967c783",
   "metadata": {},
   "outputs": [],
   "source": []
  },
  {
   "cell_type": "code",
   "execution_count": null,
   "id": "5b9776ff-6df8-406e-9a4a-5edff79be1c9",
   "metadata": {},
   "outputs": [],
   "source": []
  }
 ],
 "metadata": {
  "kernelspec": {
   "display_name": "Julia_4_threads 1.10.1",
   "language": "julia",
   "name": "julia_4_threads-1.10"
  },
  "language_info": {
   "file_extension": ".jl",
   "mimetype": "application/julia",
   "name": "julia",
   "version": "1.10.1"
  }
 },
 "nbformat": 4,
 "nbformat_minor": 5
}
